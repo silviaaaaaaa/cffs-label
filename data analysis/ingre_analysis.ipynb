{
 "cells": [
  {
   "cell_type": "markdown",
   "metadata": {},
   "source": [
    "![](ubc_header.png)"
   ]
  },
  {
   "cell_type": "markdown",
   "metadata": {},
   "source": [
    "# Climate Friendly Food System (CFFS) Labelling Pilot\n",
    "***"
   ]
  },
  {
   "cell_type": "markdown",
   "metadata": {},
   "source": [
    "## Objective\n",
    "\n",
    "Implement the Climate-Friendly and Just Food System (CFFS &Just) definition at the UBC Campus by producing the weighted metric that informs the choice of icon for each menu item."
   ]
  },
  {
   "cell_type": "markdown",
   "metadata": {},
   "source": [
    "## Data Source\n",
    "\n",
    "**Recipes Data**: extracted from UBC culinary services management platform Optimum Control\n",
    "    \n",
    "    Items.xml: Raw ingredient Items\n",
    "    Ingredients.xml: Ingredients/Preps that goes into prep/products recipes\n",
    "    Preps.xml: Preps that go into final product recipes\n",
    "    Products.xml: Final Recipes/Menu Items\n",
    "    Conversions.xml: Unit Conversion Information\n",
    "\n",
    "**cool_food_ghg.csv**: extracted from the [Cool Food Calculator](https://coolfood.org/pledge/). For this project, we use emission factors for the active total supply chain emissions in the North America region. The food category is at the detailed level for higher results accuracy"
   ]
  },
  {
   "cell_type": "markdown",
   "metadata": {},
   "source": [
    "## Assumptions"
   ]
  },
  {
   "cell_type": "markdown",
   "metadata": {},
   "source": [
    "* The same GHG emission factor will be assigned to different forms (puree, sliced, chopped etc) of the same raw ingredient\n",
    "\n",
    "* We assume the GHG factors for different varieties of one ingredient are the same (i.e Red/Yellow Onion)\n",
    "\n",
    "* The loss/add of ingredient weight during the cooking process will be ignored\n",
    "\n",
    "* The amount of unusable part and wastes during ingredients processing process are ignored \n",
    "\n",
    "* Ignore GHG emissions from the cooking process\n",
    "\n",
    "* Assume the GHG emission factor for water is zero, and ignore the water use in the cooking process\n"
   ]
  },
  {
   "cell_type": "markdown",
   "metadata": {},
   "source": [
    "## Import Libraries"
   ]
  },
  {
   "cell_type": "code",
   "execution_count": 30,
   "metadata": {},
   "outputs": [],
   "source": [
    "#!pip3 install pdpipe"
   ]
  },
  {
   "cell_type": "code",
   "execution_count": 31,
   "metadata": {},
   "outputs": [],
   "source": [
    "import numpy as np \n",
    "import pandas as pd\n",
    "import pdpipe as pdp\n",
    "import matplotlib.pyplot as plt\n",
    "import glob\n",
    "import os\n",
    "\n",
    "import csv\n",
    "from itertools import islice"
   ]
  },
  {
   "cell_type": "code",
   "execution_count": 32,
   "metadata": {},
   "outputs": [],
   "source": [
    "import xml.etree.ElementTree as et\n",
    "from xml.etree.ElementTree import parse"
   ]
  },
  {
   "cell_type": "code",
   "execution_count": 33,
   "metadata": {},
   "outputs": [],
   "source": [
    "import openpyxl"
   ]
  },
  {
   "cell_type": "markdown",
   "metadata": {},
   "source": [
    "## Load Data"
   ]
  },
  {
   "cell_type": "markdown",
   "metadata": {},
   "source": [
    "#### Data Path"
   ]
  },
  {
   "cell_type": "code",
   "execution_count": 34,
   "metadata": {},
   "outputs": [],
   "source": [
    "filepath_list = glob.glob(os.path.join(os.getcwd(), \"data\", \"oc\", \"*.oc\"))"
   ]
  },
  {
   "cell_type": "code",
   "execution_count": 35,
   "metadata": {},
   "outputs": [
    {
     "data": {
      "text/plain": [
       "['/Users/silvia/cffs-label/data analysis/data/oc/IPR_Export_03152021_1121.oc',\n",
       " '/Users/silvia/cffs-label/data analysis/data/oc/IPR_Export_03152021_1346.oc',\n",
       " '/Users/silvia/cffs-label/data analysis/data/oc/IPR_Export_03122021_0915.oc',\n",
       " '/Users/silvia/cffs-label/data analysis/data/oc/IPR_Export_03152021_1224.oc',\n",
       " '/Users/silvia/cffs-label/data analysis/data/oc/IPR_Export_03152021_1250.oc']"
      ]
     },
     "execution_count": 35,
     "metadata": {},
     "output_type": "execute_result"
    }
   ],
   "source": [
    "filepath_list"
   ]
  },
  {
   "cell_type": "markdown",
   "metadata": {},
   "source": [
    "#### Load Items List"
   ]
  },
  {
   "cell_type": "code",
   "execution_count": 36,
   "metadata": {
    "scrolled": true
   },
   "outputs": [
    {
     "data": {
      "text/html": [
       "<div>\n",
       "<style scoped>\n",
       "    .dataframe tbody tr th:only-of-type {\n",
       "        vertical-align: middle;\n",
       "    }\n",
       "\n",
       "    .dataframe tbody tr th {\n",
       "        vertical-align: top;\n",
       "    }\n",
       "\n",
       "    .dataframe thead th {\n",
       "        text-align: right;\n",
       "    }\n",
       "</style>\n",
       "<table border=\"1\" class=\"dataframe\">\n",
       "  <thead>\n",
       "    <tr style=\"text-align: right;\">\n",
       "      <th></th>\n",
       "      <th>ItemId</th>\n",
       "      <th>Description</th>\n",
       "      <th>Cost</th>\n",
       "      <th>CaseQty</th>\n",
       "      <th>CaseUOM</th>\n",
       "      <th>PakQty</th>\n",
       "      <th>PakUOM</th>\n",
       "      <th>InventoryGroup</th>\n",
       "    </tr>\n",
       "  </thead>\n",
       "  <tbody>\n",
       "    <tr>\n",
       "      <th>0</th>\n",
       "      <td>I-4472</td>\n",
       "      <td>AVOCADO MX</td>\n",
       "      <td>1.2450</td>\n",
       "      <td>20.000</td>\n",
       "      <td>CT</td>\n",
       "      <td>1.000</td>\n",
       "      <td>CT</td>\n",
       "      <td>PRODUCE</td>\n",
       "    </tr>\n",
       "    <tr>\n",
       "      <th>1</th>\n",
       "      <td>I-4973</td>\n",
       "      <td>AVOCADO PULP CHUNKY</td>\n",
       "      <td>0.0114</td>\n",
       "      <td>12.000</td>\n",
       "      <td>bag</td>\n",
       "      <td>454.000</td>\n",
       "      <td>g</td>\n",
       "      <td>PRODUCE</td>\n",
       "    </tr>\n",
       "    <tr>\n",
       "      <th>2</th>\n",
       "      <td>I-27410</td>\n",
       "      <td>BACON 3MM NATURALLY SMKD</td>\n",
       "      <td>9.0000</td>\n",
       "      <td>5.000</td>\n",
       "      <td>Kg</td>\n",
       "      <td>1.000</td>\n",
       "      <td>Kg</td>\n",
       "      <td>MEAT</td>\n",
       "    </tr>\n",
       "    <tr>\n",
       "      <th>3</th>\n",
       "      <td>I-1286</td>\n",
       "      <td>BAGEL WHOLE WHEAT (6 PACK)</td>\n",
       "      <td>0.5000</td>\n",
       "      <td>6.000</td>\n",
       "      <td>CT</td>\n",
       "      <td>1.000</td>\n",
       "      <td>CT</td>\n",
       "      <td>BREAD</td>\n",
       "    </tr>\n",
       "    <tr>\n",
       "      <th>4</th>\n",
       "      <td>I-3130</td>\n",
       "      <td>BASE BEEF CONC LIQ G/FREE</td>\n",
       "      <td>0.0151</td>\n",
       "      <td>4.000</td>\n",
       "      <td>pak</td>\n",
       "      <td>946.000</td>\n",
       "      <td>ml</td>\n",
       "      <td>FOOD - GROCERY</td>\n",
       "    </tr>\n",
       "  </tbody>\n",
       "</table>\n",
       "</div>"
      ],
      "text/plain": [
       "    ItemId                 Description    Cost CaseQty CaseUOM   PakQty  \\\n",
       "0   I-4472                  AVOCADO MX  1.2450  20.000      CT    1.000   \n",
       "1   I-4973         AVOCADO PULP CHUNKY  0.0114  12.000     bag  454.000   \n",
       "2  I-27410    BACON 3MM NATURALLY SMKD  9.0000   5.000      Kg    1.000   \n",
       "3   I-1286  BAGEL WHOLE WHEAT (6 PACK)  0.5000   6.000      CT    1.000   \n",
       "4   I-3130   BASE BEEF CONC LIQ G/FREE  0.0151   4.000     pak  946.000   \n",
       "\n",
       "  PakUOM  InventoryGroup  \n",
       "0     CT         PRODUCE  \n",
       "1      g         PRODUCE  \n",
       "2     Kg            MEAT  \n",
       "3     CT           BREAD  \n",
       "4     ml  FOOD - GROCERY  "
      ]
     },
     "execution_count": 36,
     "metadata": {},
     "output_type": "execute_result"
    }
   ],
   "source": [
    "ItemId = []\n",
    "Description = []\n",
    "Cost = []\n",
    "CaseQty = []\n",
    "CaseUOM = []\n",
    "PakQty = []\n",
    "PakUOM = []\n",
    "InventoryGroup = []\n",
    "\n",
    "for filepath in filepath_list:\n",
    "    xtree = et.parse(filepath + '/items.xml')\n",
    "    xroot = xtree.getroot()\n",
    "    for item in xtree.iterfind('Item'):\n",
    "        ItemId.append(item.attrib['id'])\n",
    "        Description.append(item.findtext('Description'))\n",
    "        Cost.append(item.findtext('Cost'))\n",
    "        CaseQty.append(item.findtext('CaseQty'))\n",
    "        CaseUOM.append(item.findtext('CaseUOM'))\n",
    "        PakQty.append(item.findtext('PakQty'))\n",
    "        PakUOM.append(item.findtext('PakUOM'))\n",
    "        InventoryGroup.append(item.findtext('InventoryGroup'))\n",
    "\n",
    "        \n",
    "Items = pd.DataFrame({'ItemId': ItemId, 'Description': Description, 'Cost': Cost, 'CaseQty': CaseQty, \n",
    "                      'CaseUOM': CaseUOM, 'PakQty': PakQty, 'PakUOM': PakUOM, 'InventoryGroup': InventoryGroup}\n",
    "                    ).drop_duplicates()\n",
    "\n",
    "Items.head()"
   ]
  },
  {
   "cell_type": "code",
   "execution_count": 37,
   "metadata": {},
   "outputs": [
    {
     "data": {
      "text/plain": [
       "(390, 8)"
      ]
     },
     "execution_count": 37,
     "metadata": {},
     "output_type": "execute_result"
    }
   ],
   "source": [
    "Items.shape"
   ]
  },
  {
   "cell_type": "code",
   "execution_count": 38,
   "metadata": {},
   "outputs": [],
   "source": [
    "path = os.path.join(os.getcwd(), \"data\", \"processed\", \"Items_List.csv\")\n",
    "Items.to_csv(path, index = False, header = True)"
   ]
  },
  {
   "cell_type": "markdown",
   "metadata": {},
   "source": [
    "#### Load Ingredient List"
   ]
  },
  {
   "cell_type": "code",
   "execution_count": 39,
   "metadata": {},
   "outputs": [
    {
     "data": {
      "text/html": [
       "<div>\n",
       "<style scoped>\n",
       "    .dataframe tbody tr th:only-of-type {\n",
       "        vertical-align: middle;\n",
       "    }\n",
       "\n",
       "    .dataframe tbody tr th {\n",
       "        vertical-align: top;\n",
       "    }\n",
       "\n",
       "    .dataframe thead th {\n",
       "        text-align: right;\n",
       "    }\n",
       "</style>\n",
       "<table border=\"1\" class=\"dataframe\">\n",
       "  <thead>\n",
       "    <tr style=\"text-align: right;\">\n",
       "      <th></th>\n",
       "      <th>IngredientId</th>\n",
       "      <th>Conversion</th>\n",
       "      <th>InvFactor</th>\n",
       "      <th>Qty</th>\n",
       "      <th>Recipe</th>\n",
       "      <th>Uom</th>\n",
       "    </tr>\n",
       "  </thead>\n",
       "  <tbody>\n",
       "    <tr>\n",
       "      <th>0</th>\n",
       "      <td>I-3388</td>\n",
       "      <td>1.00000000</td>\n",
       "      <td>0.3058</td>\n",
       "      <td>1.000</td>\n",
       "      <td>P-10496</td>\n",
       "      <td>L</td>\n",
       "    </tr>\n",
       "    <tr>\n",
       "      <th>1</th>\n",
       "      <td>I-4660</td>\n",
       "      <td>2.20462000</td>\n",
       "      <td>0.6942</td>\n",
       "      <td>2.270</td>\n",
       "      <td>P-10496</td>\n",
       "      <td>Kg</td>\n",
       "    </tr>\n",
       "    <tr>\n",
       "      <th>2</th>\n",
       "      <td>I-4679</td>\n",
       "      <td>1.00000000</td>\n",
       "      <td>0.0063</td>\n",
       "      <td>1.000</td>\n",
       "      <td>P-18318</td>\n",
       "      <td>BUNCH</td>\n",
       "    </tr>\n",
       "    <tr>\n",
       "      <th>3</th>\n",
       "      <td>I-4793</td>\n",
       "      <td>2.20462000</td>\n",
       "      <td>1.2048</td>\n",
       "      <td>10.000</td>\n",
       "      <td>P-18746</td>\n",
       "      <td>Kg</td>\n",
       "    </tr>\n",
       "    <tr>\n",
       "      <th>4</th>\n",
       "      <td>I-3643</td>\n",
       "      <td>0.00100000</td>\n",
       "      <td>0.1837</td>\n",
       "      <td>225.000</td>\n",
       "      <td>P-18907</td>\n",
       "      <td>g</td>\n",
       "    </tr>\n",
       "  </tbody>\n",
       "</table>\n",
       "</div>"
      ],
      "text/plain": [
       "  IngredientId  Conversion InvFactor      Qty   Recipe    Uom\n",
       "0       I-3388  1.00000000    0.3058    1.000  P-10496      L\n",
       "1       I-4660  2.20462000    0.6942    2.270  P-10496     Kg\n",
       "2       I-4679  1.00000000    0.0063    1.000  P-18318  BUNCH\n",
       "3       I-4793  2.20462000    1.2048   10.000  P-18746     Kg\n",
       "4       I-3643  0.00100000    0.1837  225.000  P-18907      g"
      ]
     },
     "execution_count": 39,
     "metadata": {},
     "output_type": "execute_result"
    }
   ],
   "source": [
    "IngredientId = []\n",
    "Conversion = []\n",
    "InvFactor = []\n",
    "Qty = []\n",
    "Recipe = []\n",
    "Uom = []\n",
    "\n",
    "for filepath in filepath_list:\n",
    "    xtree = et.parse(filepath + '/Ingredients.xml')\n",
    "    xroot = xtree.getroot()\n",
    "    for x in xtree.iterfind('Ingredient'):\n",
    "        IngredientId.append(x.attrib['ingredient'])\n",
    "        Conversion.append(x.attrib['conversion'])\n",
    "        InvFactor.append(x.attrib['invFactor'])\n",
    "        Qty.append(x.attrib['qty'])\n",
    "        Recipe.append(x.attrib['recipe'])\n",
    "        Uom.append(x.attrib['uom'])\n",
    "    \n",
    "Ingredients = pd.DataFrame({'IngredientId': IngredientId, 'Conversion': Conversion, \n",
    "                      'InvFactor': InvFactor, 'Qty': Qty, 'Recipe': Recipe,'Uom': Uom}).drop_duplicates()\n",
    "\n",
    "Ingredients.head()"
   ]
  },
  {
   "cell_type": "code",
   "execution_count": 40,
   "metadata": {},
   "outputs": [
    {
     "data": {
      "text/plain": [
       "(2198, 6)"
      ]
     },
     "execution_count": 40,
     "metadata": {},
     "output_type": "execute_result"
    }
   ],
   "source": [
    "Ingredients.shape"
   ]
  },
  {
   "cell_type": "code",
   "execution_count": 41,
   "metadata": {},
   "outputs": [],
   "source": [
    "path = os.path.join(os.getcwd(), \"data\", \"processed\", \"Ingredients_List.csv\")\n",
    "Ingredients.to_csv(path, index = False, header = True)"
   ]
  },
  {
   "cell_type": "markdown",
   "metadata": {},
   "source": [
    "#### Load Preps List"
   ]
  },
  {
   "cell_type": "code",
   "execution_count": 42,
   "metadata": {},
   "outputs": [
    {
     "data": {
      "text/html": [
       "<div>\n",
       "<style scoped>\n",
       "    .dataframe tbody tr th:only-of-type {\n",
       "        vertical-align: middle;\n",
       "    }\n",
       "\n",
       "    .dataframe tbody tr th {\n",
       "        vertical-align: top;\n",
       "    }\n",
       "\n",
       "    .dataframe thead th {\n",
       "        text-align: right;\n",
       "    }\n",
       "</style>\n",
       "<table border=\"1\" class=\"dataframe\">\n",
       "  <thead>\n",
       "    <tr style=\"text-align: right;\">\n",
       "      <th></th>\n",
       "      <th>PrepId</th>\n",
       "      <th>Description</th>\n",
       "      <th>Cost</th>\n",
       "      <th>PakQty</th>\n",
       "      <th>PakUOM</th>\n",
       "      <th>InventoryGroup</th>\n",
       "    </tr>\n",
       "  </thead>\n",
       "  <tbody>\n",
       "    <tr>\n",
       "      <th>0</th>\n",
       "      <td>P-56398</td>\n",
       "      <td>BATCH| Guacamole AR</td>\n",
       "      <td>11.7873</td>\n",
       "      <td>2.500</td>\n",
       "      <td>Kg</td>\n",
       "      <td>PREP</td>\n",
       "    </tr>\n",
       "    <tr>\n",
       "      <th>1</th>\n",
       "      <td>P-26333</td>\n",
       "      <td>BATCH|Citrus Herb Aioli</td>\n",
       "      <td>5.7669</td>\n",
       "      <td>3.000</td>\n",
       "      <td>L</td>\n",
       "      <td>PREP</td>\n",
       "    </tr>\n",
       "    <tr>\n",
       "      <th>2</th>\n",
       "      <td>P-35713</td>\n",
       "      <td>BLACKENED|Chicken</td>\n",
       "      <td>1.5686</td>\n",
       "      <td>185.000</td>\n",
       "      <td>ea</td>\n",
       "      <td>PREP</td>\n",
       "    </tr>\n",
       "    <tr>\n",
       "      <th>3</th>\n",
       "      <td>P-51579</td>\n",
       "      <td>BREADED|Chicken|Cooked</td>\n",
       "      <td>7.5905</td>\n",
       "      <td>1.600</td>\n",
       "      <td>Kg</td>\n",
       "      <td></td>\n",
       "    </tr>\n",
       "    <tr>\n",
       "      <th>4</th>\n",
       "      <td>P-50831</td>\n",
       "      <td>BREADED|Chicken|Karaage Thigh</td>\n",
       "      <td>8.9681</td>\n",
       "      <td>4.500</td>\n",
       "      <td>Kg</td>\n",
       "      <td></td>\n",
       "    </tr>\n",
       "  </tbody>\n",
       "</table>\n",
       "</div>"
      ],
      "text/plain": [
       "    PrepId                    Description     Cost   PakQty PakUOM  \\\n",
       "0  P-56398            BATCH| Guacamole AR  11.7873    2.500     Kg   \n",
       "1  P-26333        BATCH|Citrus Herb Aioli   5.7669    3.000      L   \n",
       "2  P-35713              BLACKENED|Chicken   1.5686  185.000     ea   \n",
       "3  P-51579         BREADED|Chicken|Cooked   7.5905    1.600     Kg   \n",
       "4  P-50831  BREADED|Chicken|Karaage Thigh   8.9681    4.500     Kg   \n",
       "\n",
       "  InventoryGroup  \n",
       "0           PREP  \n",
       "1           PREP  \n",
       "2           PREP  \n",
       "3                 \n",
       "4                 "
      ]
     },
     "execution_count": 42,
     "metadata": {},
     "output_type": "execute_result"
    }
   ],
   "source": [
    "PrepId = []\n",
    "Description = []\n",
    "Cost = []\n",
    "PakQty = []\n",
    "PakUOM = []\n",
    "InventoryGroup = []\n",
    "\n",
    "for filepath in filepath_list:\n",
    "    xtree = et.parse(filepath + '/Preps.xml')\n",
    "    xroot = xtree.getroot()\n",
    "    for x in xtree.iterfind('Prep'):\n",
    "        PrepId.append(x.attrib['id'])\n",
    "        Description.append(x.findtext('Description'))\n",
    "        Cost.append(x.findtext('Cost'))\n",
    "        PakQty.append(x.findtext('PakQty'))\n",
    "        PakUOM.append(x.findtext('PakUOM'))\n",
    "        InventoryGroup.append(x.findtext('InventoryGroup'))\n",
    "    \n",
    "Preps = pd.DataFrame({'PrepId': PrepId, 'Description': Description, 'Cost': Cost,\n",
    "                  'PakQty': PakQty, 'PakUOM':PakUOM, 'InventoryGroup': InventoryGroup}).drop_duplicates()\n",
    "\n",
    "Preps.head()"
   ]
  },
  {
   "cell_type": "code",
   "execution_count": 43,
   "metadata": {},
   "outputs": [
    {
     "data": {
      "text/plain": [
       "(427, 6)"
      ]
     },
     "execution_count": 43,
     "metadata": {},
     "output_type": "execute_result"
    }
   ],
   "source": [
    "Preps.shape"
   ]
  },
  {
   "cell_type": "code",
   "execution_count": 44,
   "metadata": {},
   "outputs": [],
   "source": [
    "path = os.path.join(os.getcwd(), \"data\", \"processed\", \"Preps_List.csv\")\n",
    "Preps.to_csv(path, index = False, header = True)"
   ]
  },
  {
   "cell_type": "markdown",
   "metadata": {},
   "source": [
    "#### Load Product List"
   ]
  },
  {
   "cell_type": "code",
   "execution_count": 45,
   "metadata": {
    "scrolled": false
   },
   "outputs": [
    {
     "data": {
      "text/html": [
       "<div>\n",
       "<style scoped>\n",
       "    .dataframe tbody tr th:only-of-type {\n",
       "        vertical-align: middle;\n",
       "    }\n",
       "\n",
       "    .dataframe tbody tr th {\n",
       "        vertical-align: top;\n",
       "    }\n",
       "\n",
       "    .dataframe thead th {\n",
       "        text-align: right;\n",
       "    }\n",
       "</style>\n",
       "<table border=\"1\" class=\"dataframe\">\n",
       "  <thead>\n",
       "    <tr style=\"text-align: right;\">\n",
       "      <th></th>\n",
       "      <th>ProdId</th>\n",
       "      <th>Description</th>\n",
       "      <th>Cost</th>\n",
       "    </tr>\n",
       "  </thead>\n",
       "  <tbody>\n",
       "    <tr>\n",
       "      <th>0</th>\n",
       "      <td>R-36666</td>\n",
       "      <td>FF|Bowl|Five Alarm</td>\n",
       "      <td>2.2206</td>\n",
       "    </tr>\n",
       "    <tr>\n",
       "      <th>1</th>\n",
       "      <td>R-36568</td>\n",
       "      <td>FF|Pasta|Spinach Avocado</td>\n",
       "      <td>1.7066</td>\n",
       "    </tr>\n",
       "    <tr>\n",
       "      <th>2</th>\n",
       "      <td>R-50362</td>\n",
       "      <td>FLX|Bowl|Karaage Chicken</td>\n",
       "      <td>3.0860</td>\n",
       "    </tr>\n",
       "    <tr>\n",
       "      <th>3</th>\n",
       "      <td>R-50360</td>\n",
       "      <td>FLX|Bowl|Salmon</td>\n",
       "      <td>4.3323</td>\n",
       "    </tr>\n",
       "    <tr>\n",
       "      <th>4</th>\n",
       "      <td>R-50359</td>\n",
       "      <td>FLX|Bowl|Tuna Albacore</td>\n",
       "      <td>3.6203</td>\n",
       "    </tr>\n",
       "  </tbody>\n",
       "</table>\n",
       "</div>"
      ],
      "text/plain": [
       "    ProdId               Description    Cost\n",
       "0  R-36666        FF|Bowl|Five Alarm  2.2206\n",
       "1  R-36568  FF|Pasta|Spinach Avocado  1.7066\n",
       "2  R-50362  FLX|Bowl|Karaage Chicken  3.0860\n",
       "3  R-50360           FLX|Bowl|Salmon  4.3323\n",
       "4  R-50359    FLX|Bowl|Tuna Albacore  3.6203"
      ]
     },
     "execution_count": 45,
     "metadata": {},
     "output_type": "execute_result"
    }
   ],
   "source": [
    "ProdId = []\n",
    "Description = []\n",
    "Cost = []\n",
    "\n",
    "for filepath in filepath_list:\n",
    "    xtree = et.parse(filepath + '/Products.xml')\n",
    "    xroot = xtree.getroot()\n",
    "    for x in xtree.iterfind('Prod'):\n",
    "        ProdId.append(x.attrib['id'])\n",
    "        Description.append(x.findtext('Description'))\n",
    "        Cost.append(x.findtext('Cost'))\n",
    "        \n",
    "Products = pd.DataFrame({'ProdId': ProdId, 'Description': Description, 'Cost': Cost}).drop_duplicates()\n",
    "\n",
    "Products.head()"
   ]
  },
  {
   "cell_type": "code",
   "execution_count": 46,
   "metadata": {},
   "outputs": [
    {
     "data": {
      "text/plain": [
       "(103, 3)"
      ]
     },
     "execution_count": 46,
     "metadata": {},
     "output_type": "execute_result"
    }
   ],
   "source": [
    "Products.shape"
   ]
  },
  {
   "cell_type": "code",
   "execution_count": 47,
   "metadata": {},
   "outputs": [],
   "source": [
    "path = os.path.join(os.getcwd(), \"data\", \"processed\", \"Products_List.csv\")\n",
    "Products.to_csv(path, index = False, header = True)"
   ]
  },
  {
   "cell_type": "markdown",
   "metadata": {},
   "source": [
    "#### Load Conversion List"
   ]
  },
  {
   "cell_type": "code",
   "execution_count": 48,
   "metadata": {
    "scrolled": true
   },
   "outputs": [
    {
     "data": {
      "text/html": [
       "<div>\n",
       "<style scoped>\n",
       "    .dataframe tbody tr th:only-of-type {\n",
       "        vertical-align: middle;\n",
       "    }\n",
       "\n",
       "    .dataframe tbody tr th {\n",
       "        vertical-align: top;\n",
       "    }\n",
       "\n",
       "    .dataframe thead th {\n",
       "        text-align: right;\n",
       "    }\n",
       "</style>\n",
       "<table border=\"1\" class=\"dataframe\">\n",
       "  <thead>\n",
       "    <tr style=\"text-align: right;\">\n",
       "      <th></th>\n",
       "      <th>ConversionId</th>\n",
       "      <th>Multiplier</th>\n",
       "      <th>ConvertFromQty</th>\n",
       "      <th>ConvertFromUom</th>\n",
       "      <th>ConvertToQty</th>\n",
       "      <th>ConvertToUom</th>\n",
       "    </tr>\n",
       "  </thead>\n",
       "  <tbody>\n",
       "    <tr>\n",
       "      <th>0</th>\n",
       "      <td></td>\n",
       "      <td>1.00000000</td>\n",
       "      <td>1.0000</td>\n",
       "      <td>XXX</td>\n",
       "      <td>1.0000</td>\n",
       "      <td>L</td>\n",
       "    </tr>\n",
       "    <tr>\n",
       "      <th>1</th>\n",
       "      <td></td>\n",
       "      <td>0.87719298</td>\n",
       "      <td>1.0000</td>\n",
       "      <td>1.14L</td>\n",
       "      <td>1.1400</td>\n",
       "      <td>L</td>\n",
       "    </tr>\n",
       "    <tr>\n",
       "      <th>2</th>\n",
       "      <td></td>\n",
       "      <td>0.66666667</td>\n",
       "      <td>1.0000</td>\n",
       "      <td>1.5L</td>\n",
       "      <td>1.5000</td>\n",
       "      <td>L</td>\n",
       "    </tr>\n",
       "    <tr>\n",
       "      <th>3</th>\n",
       "      <td></td>\n",
       "      <td>0.57142857</td>\n",
       "      <td>1.0000</td>\n",
       "      <td>1.75 L</td>\n",
       "      <td>1.7500</td>\n",
       "      <td>L</td>\n",
       "    </tr>\n",
       "    <tr>\n",
       "      <th>4</th>\n",
       "      <td></td>\n",
       "      <td>0.50000000</td>\n",
       "      <td>1.0000</td>\n",
       "      <td>2L</td>\n",
       "      <td>2.0000</td>\n",
       "      <td>L</td>\n",
       "    </tr>\n",
       "  </tbody>\n",
       "</table>\n",
       "</div>"
      ],
      "text/plain": [
       "  ConversionId  Multiplier ConvertFromQty ConvertFromUom ConvertToQty  \\\n",
       "0               1.00000000         1.0000            XXX       1.0000   \n",
       "1               0.87719298         1.0000          1.14L       1.1400   \n",
       "2               0.66666667         1.0000           1.5L       1.5000   \n",
       "3               0.57142857         1.0000         1.75 L       1.7500   \n",
       "4               0.50000000         1.0000             2L       2.0000   \n",
       "\n",
       "  ConvertToUom  \n",
       "0            L  \n",
       "1            L  \n",
       "2            L  \n",
       "3            L  \n",
       "4            L  "
      ]
     },
     "execution_count": 48,
     "metadata": {},
     "output_type": "execute_result"
    }
   ],
   "source": [
    "ConversionId = []\n",
    "Multiplier = []\n",
    "ConvertFromQty = []\n",
    "ConvertFromUom = []\n",
    "ConvertToQty = []\n",
    "ConvertToUom = []\n",
    "\n",
    "for filepath in filepath_list:\n",
    "    xtree = et.parse(filepath + '/Conversions.xml')\n",
    "    xroot = xtree.getroot()\n",
    "    for x in xtree.iterfind('Conversion'):\n",
    "        ConversionId.append(x.attrib['id'])\n",
    "        Multiplier.append(x.attrib['multiplier'])\n",
    "        ConvertFromQty.append(x.find('ConvertFrom').attrib['qty'])\n",
    "        ConvertFromUom.append(x.find('ConvertFrom').attrib['uom'])\n",
    "        ConvertToQty.append(x.find('ConvertTo').attrib['qty'])\n",
    "        ConvertToUom.append(x.find('ConvertTo').attrib['uom'])\n",
    "    \n",
    "    \n",
    "Conversions = pd.DataFrame({'ConversionId': ConversionId, 'Multiplier': Multiplier, 'ConvertFromQty': ConvertFromQty,\n",
    "                           'ConvertFromUom': ConvertFromUom, 'ConvertToQty': ConvertToQty, 'ConvertToUom': ConvertToUom}\n",
    "                          ).drop_duplicates()\n",
    "\n",
    "Conversions.head()"
   ]
  },
  {
   "cell_type": "code",
   "execution_count": 49,
   "metadata": {},
   "outputs": [
    {
     "data": {
      "text/plain": [
       "(240, 6)"
      ]
     },
     "execution_count": 49,
     "metadata": {},
     "output_type": "execute_result"
    }
   ],
   "source": [
    "Conversions.shape"
   ]
  },
  {
   "cell_type": "code",
   "execution_count": 50,
   "metadata": {},
   "outputs": [],
   "source": [
    "path = os.path.join(os.getcwd(), \"data\", \"processed\", \"Products_List.csv\")\n",
    "Products.to_csv(path, index = False, header = True)"
   ]
  },
  {
   "cell_type": "markdown",
   "metadata": {},
   "source": [
    "#### Load Emission Factors"
   ]
  },
  {
   "cell_type": "code",
   "execution_count": 51,
   "metadata": {},
   "outputs": [
    {
     "data": {
      "text/html": [
       "<div>\n",
       "<style scoped>\n",
       "    .dataframe tbody tr th:only-of-type {\n",
       "        vertical-align: middle;\n",
       "    }\n",
       "\n",
       "    .dataframe tbody tr th {\n",
       "        vertical-align: top;\n",
       "    }\n",
       "\n",
       "    .dataframe thead th {\n",
       "        text-align: right;\n",
       "    }\n",
       "</style>\n",
       "<table border=\"1\" class=\"dataframe\">\n",
       "  <thead>\n",
       "    <tr style=\"text-align: right;\">\n",
       "      <th></th>\n",
       "      <th>Category ID</th>\n",
       "      <th>Food Category</th>\n",
       "      <th>Active Total Supply Chain Emissions (kg CO2 / kg food)</th>\n",
       "    </tr>\n",
       "  </thead>\n",
       "  <tbody>\n",
       "    <tr>\n",
       "      <th>0</th>\n",
       "      <td>1</td>\n",
       "      <td>beef &amp; buffalo meat</td>\n",
       "      <td>41.3463</td>\n",
       "    </tr>\n",
       "    <tr>\n",
       "      <th>1</th>\n",
       "      <td>2</td>\n",
       "      <td>lamb/mutton &amp; goat meat</td>\n",
       "      <td>41.6211</td>\n",
       "    </tr>\n",
       "    <tr>\n",
       "      <th>2</th>\n",
       "      <td>3</td>\n",
       "      <td>pork (pig meat)</td>\n",
       "      <td>9.8315</td>\n",
       "    </tr>\n",
       "    <tr>\n",
       "      <th>3</th>\n",
       "      <td>4</td>\n",
       "      <td>poultry (chicken, turkey)</td>\n",
       "      <td>4.3996</td>\n",
       "    </tr>\n",
       "    <tr>\n",
       "      <th>4</th>\n",
       "      <td>5</td>\n",
       "      <td>butter</td>\n",
       "      <td>11.4316</td>\n",
       "    </tr>\n",
       "  </tbody>\n",
       "</table>\n",
       "</div>"
      ],
      "text/plain": [
       "   Category ID              Food Category  \\\n",
       "0            1        beef & buffalo meat   \n",
       "1            2    lamb/mutton & goat meat   \n",
       "2            3            pork (pig meat)   \n",
       "3            4  poultry (chicken, turkey)   \n",
       "4            5                     butter   \n",
       "\n",
       "   Active Total Supply Chain Emissions (kg CO2 / kg food)  \n",
       "0                                            41.3463       \n",
       "1                                            41.6211       \n",
       "2                                             9.8315       \n",
       "3                                             4.3996       \n",
       "4                                            11.4316       "
      ]
     },
     "execution_count": 51,
     "metadata": {},
     "output_type": "execute_result"
    }
   ],
   "source": [
    "cfc_filename = os.path.join(os.getcwd(), \"data\", \"raw\", \"cool_food_ghg.csv\")\n",
    "cfc = pd.read_csv(cfc_filename)\n",
    "cfc.head()"
   ]
  },
  {
   "cell_type": "code",
   "execution_count": 52,
   "metadata": {},
   "outputs": [
    {
     "data": {
      "text/plain": [
       "(54, 3)"
      ]
     },
     "execution_count": 52,
     "metadata": {},
     "output_type": "execute_result"
    }
   ],
   "source": [
    "cfc.shape"
   ]
  },
  {
   "cell_type": "markdown",
   "metadata": {},
   "source": [
    "## Data Analysis"
   ]
  },
  {
   "cell_type": "markdown",
   "metadata": {},
   "source": [
    "#### Mapping Ingredients to GHG Factors"
   ]
  },
  {
   "cell_type": "code",
   "execution_count": 58,
   "metadata": {},
   "outputs": [],
   "source": [
    "# Load Items List with assigned Cetegory ID\n",
    "items = pd.read_csv(os.path.join(os.getcwd(), \"data\", \"processed\", \"Items_List_Assigned.csv\"))"
   ]
  },
  {
   "cell_type": "code",
   "execution_count": 59,
   "metadata": {},
   "outputs": [],
   "source": [
    "df1 = pd.DataFrame(items)\n",
    "df2 = pd.DataFrame(cfc)"
   ]
  },
  {
   "cell_type": "code",
   "execution_count": 60,
   "metadata": {},
   "outputs": [
    {
     "data": {
      "text/html": [
       "<div>\n",
       "<style scoped>\n",
       "    .dataframe tbody tr th:only-of-type {\n",
       "        vertical-align: middle;\n",
       "    }\n",
       "\n",
       "    .dataframe tbody tr th {\n",
       "        vertical-align: top;\n",
       "    }\n",
       "\n",
       "    .dataframe thead th {\n",
       "        text-align: right;\n",
       "    }\n",
       "</style>\n",
       "<table border=\"1\" class=\"dataframe\">\n",
       "  <thead>\n",
       "    <tr style=\"text-align: right;\">\n",
       "      <th></th>\n",
       "      <th>ItemId</th>\n",
       "      <th>CategoryID</th>\n",
       "      <th>Description</th>\n",
       "      <th>Cost</th>\n",
       "      <th>CaseQty</th>\n",
       "      <th>CaseUOM</th>\n",
       "      <th>PakQty</th>\n",
       "      <th>PakUOM</th>\n",
       "      <th>InventoryGroup</th>\n",
       "    </tr>\n",
       "  </thead>\n",
       "  <tbody>\n",
       "    <tr>\n",
       "      <th>0</th>\n",
       "      <td>I-37002</td>\n",
       "      <td>1.0</td>\n",
       "      <td>BEEF INSIDE ROUND SHAVED</td>\n",
       "      <td>0.0158</td>\n",
       "      <td>9.00</td>\n",
       "      <td>Kg</td>\n",
       "      <td>1000.0</td>\n",
       "      <td>g</td>\n",
       "      <td>MEAT</td>\n",
       "    </tr>\n",
       "    <tr>\n",
       "      <th>1</th>\n",
       "      <td>I-37005</td>\n",
       "      <td>1.0</td>\n",
       "      <td>BEEF MEATBALLS</td>\n",
       "      <td>0.0093</td>\n",
       "      <td>4.54</td>\n",
       "      <td>Kg</td>\n",
       "      <td>1000.0</td>\n",
       "      <td>g</td>\n",
       "      <td>MEAT</td>\n",
       "    </tr>\n",
       "    <tr>\n",
       "      <th>2</th>\n",
       "      <td>I-7064</td>\n",
       "      <td>1.0</td>\n",
       "      <td>BEEF OUTSIDE FLAT AAA</td>\n",
       "      <td>8.4900</td>\n",
       "      <td>1.00</td>\n",
       "      <td>Kg</td>\n",
       "      <td>1.0</td>\n",
       "      <td>Kg</td>\n",
       "      <td>MEAT</td>\n",
       "    </tr>\n",
       "    <tr>\n",
       "      <th>3</th>\n",
       "      <td>I-10869</td>\n",
       "      <td>1.0</td>\n",
       "      <td>BEEF STIRFRY COV FR</td>\n",
       "      <td>14.5000</td>\n",
       "      <td>5.00</td>\n",
       "      <td>Kg</td>\n",
       "      <td>1.0</td>\n",
       "      <td>Kg</td>\n",
       "      <td>MEAT</td>\n",
       "    </tr>\n",
       "    <tr>\n",
       "      <th>4</th>\n",
       "      <td>I-52090</td>\n",
       "      <td>1.0</td>\n",
       "      <td>BURGER BEEF &amp; MUSHROOM HALAL</td>\n",
       "      <td>1.4742</td>\n",
       "      <td>1.00</td>\n",
       "      <td>cs</td>\n",
       "      <td>48.0</td>\n",
       "      <td>CT</td>\n",
       "      <td>MEAT</td>\n",
       "    </tr>\n",
       "  </tbody>\n",
       "</table>\n",
       "</div>"
      ],
      "text/plain": [
       "    ItemId  CategoryID                   Description     Cost  CaseQty  \\\n",
       "0  I-37002         1.0      BEEF INSIDE ROUND SHAVED   0.0158     9.00   \n",
       "1  I-37005         1.0                BEEF MEATBALLS   0.0093     4.54   \n",
       "2   I-7064         1.0         BEEF OUTSIDE FLAT AAA   8.4900     1.00   \n",
       "3  I-10869         1.0           BEEF STIRFRY COV FR  14.5000     5.00   \n",
       "4  I-52090         1.0  BURGER BEEF & MUSHROOM HALAL   1.4742     1.00   \n",
       "\n",
       "  CaseUOM  PakQty PakUOM InventoryGroup  \n",
       "0      Kg  1000.0      g           MEAT  \n",
       "1      Kg  1000.0      g           MEAT  \n",
       "2      Kg     1.0     Kg           MEAT  \n",
       "3      Kg     1.0     Kg           MEAT  \n",
       "4      cs    48.0     CT           MEAT  "
      ]
     },
     "execution_count": 60,
     "metadata": {},
     "output_type": "execute_result"
    }
   ],
   "source": [
    "df1.head()"
   ]
  },
  {
   "cell_type": "code",
   "execution_count": 61,
   "metadata": {},
   "outputs": [
    {
     "data": {
      "text/html": [
       "<div>\n",
       "<style scoped>\n",
       "    .dataframe tbody tr th:only-of-type {\n",
       "        vertical-align: middle;\n",
       "    }\n",
       "\n",
       "    .dataframe tbody tr th {\n",
       "        vertical-align: top;\n",
       "    }\n",
       "\n",
       "    .dataframe thead th {\n",
       "        text-align: right;\n",
       "    }\n",
       "</style>\n",
       "<table border=\"1\" class=\"dataframe\">\n",
       "  <thead>\n",
       "    <tr style=\"text-align: right;\">\n",
       "      <th></th>\n",
       "      <th>Category ID</th>\n",
       "      <th>Food Category</th>\n",
       "      <th>Active Total Supply Chain Emissions (kg CO2 / kg food)</th>\n",
       "    </tr>\n",
       "  </thead>\n",
       "  <tbody>\n",
       "    <tr>\n",
       "      <th>0</th>\n",
       "      <td>1</td>\n",
       "      <td>beef &amp; buffalo meat</td>\n",
       "      <td>41.3463</td>\n",
       "    </tr>\n",
       "    <tr>\n",
       "      <th>1</th>\n",
       "      <td>2</td>\n",
       "      <td>lamb/mutton &amp; goat meat</td>\n",
       "      <td>41.6211</td>\n",
       "    </tr>\n",
       "    <tr>\n",
       "      <th>2</th>\n",
       "      <td>3</td>\n",
       "      <td>pork (pig meat)</td>\n",
       "      <td>9.8315</td>\n",
       "    </tr>\n",
       "    <tr>\n",
       "      <th>3</th>\n",
       "      <td>4</td>\n",
       "      <td>poultry (chicken, turkey)</td>\n",
       "      <td>4.3996</td>\n",
       "    </tr>\n",
       "    <tr>\n",
       "      <th>4</th>\n",
       "      <td>5</td>\n",
       "      <td>butter</td>\n",
       "      <td>11.4316</td>\n",
       "    </tr>\n",
       "  </tbody>\n",
       "</table>\n",
       "</div>"
      ],
      "text/plain": [
       "   Category ID              Food Category  \\\n",
       "0            1        beef & buffalo meat   \n",
       "1            2    lamb/mutton & goat meat   \n",
       "2            3            pork (pig meat)   \n",
       "3            4  poultry (chicken, turkey)   \n",
       "4            5                     butter   \n",
       "\n",
       "   Active Total Supply Chain Emissions (kg CO2 / kg food)  \n",
       "0                                            41.3463       \n",
       "1                                            41.6211       \n",
       "2                                             9.8315       \n",
       "3                                             4.3996       \n",
       "4                                            11.4316       "
      ]
     },
     "execution_count": 61,
     "metadata": {},
     "output_type": "execute_result"
    }
   ],
   "source": [
    "df2.head()"
   ]
  },
  {
   "cell_type": "code",
   "execution_count": 63,
   "metadata": {},
   "outputs": [],
   "source": [
    "mapping = pd.merge(df1, df2.loc[:,['Category ID','Food Category','Active Total Supply Chain Emissions (kg CO2 / kg food)']], \n",
    "                  how = 'left',\n",
    "                  left_on = 'CategoryID', \n",
    "                  right_on = 'Category ID')"
   ]
  },
  {
   "cell_type": "code",
   "execution_count": 64,
   "metadata": {},
   "outputs": [
    {
     "data": {
      "text/html": [
       "<div>\n",
       "<style scoped>\n",
       "    .dataframe tbody tr th:only-of-type {\n",
       "        vertical-align: middle;\n",
       "    }\n",
       "\n",
       "    .dataframe tbody tr th {\n",
       "        vertical-align: top;\n",
       "    }\n",
       "\n",
       "    .dataframe thead th {\n",
       "        text-align: right;\n",
       "    }\n",
       "</style>\n",
       "<table border=\"1\" class=\"dataframe\">\n",
       "  <thead>\n",
       "    <tr style=\"text-align: right;\">\n",
       "      <th></th>\n",
       "      <th>ItemId</th>\n",
       "      <th>CategoryID</th>\n",
       "      <th>Description</th>\n",
       "      <th>Cost</th>\n",
       "      <th>CaseQty</th>\n",
       "      <th>CaseUOM</th>\n",
       "      <th>PakQty</th>\n",
       "      <th>PakUOM</th>\n",
       "      <th>InventoryGroup</th>\n",
       "      <th>Category ID</th>\n",
       "      <th>Food Category</th>\n",
       "      <th>Active Total Supply Chain Emissions (kg CO2 / kg food)</th>\n",
       "    </tr>\n",
       "  </thead>\n",
       "  <tbody>\n",
       "    <tr>\n",
       "      <th>0</th>\n",
       "      <td>I-37002</td>\n",
       "      <td>1.0</td>\n",
       "      <td>BEEF INSIDE ROUND SHAVED</td>\n",
       "      <td>0.0158</td>\n",
       "      <td>9.00</td>\n",
       "      <td>Kg</td>\n",
       "      <td>1000.0</td>\n",
       "      <td>g</td>\n",
       "      <td>MEAT</td>\n",
       "      <td>1.0</td>\n",
       "      <td>beef &amp; buffalo meat</td>\n",
       "      <td>41.3463</td>\n",
       "    </tr>\n",
       "    <tr>\n",
       "      <th>1</th>\n",
       "      <td>I-37005</td>\n",
       "      <td>1.0</td>\n",
       "      <td>BEEF MEATBALLS</td>\n",
       "      <td>0.0093</td>\n",
       "      <td>4.54</td>\n",
       "      <td>Kg</td>\n",
       "      <td>1000.0</td>\n",
       "      <td>g</td>\n",
       "      <td>MEAT</td>\n",
       "      <td>1.0</td>\n",
       "      <td>beef &amp; buffalo meat</td>\n",
       "      <td>41.3463</td>\n",
       "    </tr>\n",
       "    <tr>\n",
       "      <th>2</th>\n",
       "      <td>I-7064</td>\n",
       "      <td>1.0</td>\n",
       "      <td>BEEF OUTSIDE FLAT AAA</td>\n",
       "      <td>8.4900</td>\n",
       "      <td>1.00</td>\n",
       "      <td>Kg</td>\n",
       "      <td>1.0</td>\n",
       "      <td>Kg</td>\n",
       "      <td>MEAT</td>\n",
       "      <td>1.0</td>\n",
       "      <td>beef &amp; buffalo meat</td>\n",
       "      <td>41.3463</td>\n",
       "    </tr>\n",
       "    <tr>\n",
       "      <th>3</th>\n",
       "      <td>I-10869</td>\n",
       "      <td>1.0</td>\n",
       "      <td>BEEF STIRFRY COV FR</td>\n",
       "      <td>14.5000</td>\n",
       "      <td>5.00</td>\n",
       "      <td>Kg</td>\n",
       "      <td>1.0</td>\n",
       "      <td>Kg</td>\n",
       "      <td>MEAT</td>\n",
       "      <td>1.0</td>\n",
       "      <td>beef &amp; buffalo meat</td>\n",
       "      <td>41.3463</td>\n",
       "    </tr>\n",
       "    <tr>\n",
       "      <th>4</th>\n",
       "      <td>I-52090</td>\n",
       "      <td>1.0</td>\n",
       "      <td>BURGER BEEF &amp; MUSHROOM HALAL</td>\n",
       "      <td>1.4742</td>\n",
       "      <td>1.00</td>\n",
       "      <td>cs</td>\n",
       "      <td>48.0</td>\n",
       "      <td>CT</td>\n",
       "      <td>MEAT</td>\n",
       "      <td>1.0</td>\n",
       "      <td>beef &amp; buffalo meat</td>\n",
       "      <td>41.3463</td>\n",
       "    </tr>\n",
       "  </tbody>\n",
       "</table>\n",
       "</div>"
      ],
      "text/plain": [
       "    ItemId  CategoryID                   Description     Cost  CaseQty  \\\n",
       "0  I-37002         1.0      BEEF INSIDE ROUND SHAVED   0.0158     9.00   \n",
       "1  I-37005         1.0                BEEF MEATBALLS   0.0093     4.54   \n",
       "2   I-7064         1.0         BEEF OUTSIDE FLAT AAA   8.4900     1.00   \n",
       "3  I-10869         1.0           BEEF STIRFRY COV FR  14.5000     5.00   \n",
       "4  I-52090         1.0  BURGER BEEF & MUSHROOM HALAL   1.4742     1.00   \n",
       "\n",
       "  CaseUOM  PakQty PakUOM InventoryGroup  Category ID        Food Category  \\\n",
       "0      Kg  1000.0      g           MEAT          1.0  beef & buffalo meat   \n",
       "1      Kg  1000.0      g           MEAT          1.0  beef & buffalo meat   \n",
       "2      Kg     1.0     Kg           MEAT          1.0  beef & buffalo meat   \n",
       "3      Kg     1.0     Kg           MEAT          1.0  beef & buffalo meat   \n",
       "4      cs    48.0     CT           MEAT          1.0  beef & buffalo meat   \n",
       "\n",
       "   Active Total Supply Chain Emissions (kg CO2 / kg food)  \n",
       "0                                            41.3463       \n",
       "1                                            41.3463       \n",
       "2                                            41.3463       \n",
       "3                                            41.3463       \n",
       "4                                            41.3463       "
      ]
     },
     "execution_count": 64,
     "metadata": {},
     "output_type": "execute_result"
    }
   ],
   "source": [
    "mapping.head()"
   ]
  },
  {
   "cell_type": "code",
   "execution_count": 65,
   "metadata": {},
   "outputs": [
    {
     "data": {
      "text/plain": [
       "(390, 12)"
      ]
     },
     "execution_count": 65,
     "metadata": {},
     "output_type": "execute_result"
    }
   ],
   "source": [
    "mapping.shape"
   ]
  },
  {
   "cell_type": "markdown",
   "metadata": {},
   "source": [
    "#### Calculate GHG Emissions"
   ]
  },
  {
   "cell_type": "code",
   "execution_count": null,
   "metadata": {},
   "outputs": [],
   "source": []
  },
  {
   "cell_type": "code",
   "execution_count": null,
   "metadata": {},
   "outputs": [],
   "source": []
  },
  {
   "cell_type": "code",
   "execution_count": null,
   "metadata": {},
   "outputs": [],
   "source": []
  },
  {
   "cell_type": "code",
   "execution_count": null,
   "metadata": {},
   "outputs": [],
   "source": []
  }
 ],
 "metadata": {
  "kernelspec": {
   "display_name": "Python 3",
   "language": "python",
   "name": "python3"
  },
  "language_info": {
   "codemirror_mode": {
    "name": "ipython",
    "version": 3
   },
   "file_extension": ".py",
   "mimetype": "text/x-python",
   "name": "python",
   "nbconvert_exporter": "python",
   "pygments_lexer": "ipython3",
   "version": "3.8.5"
  }
 },
 "nbformat": 4,
 "nbformat_minor": 4
}
