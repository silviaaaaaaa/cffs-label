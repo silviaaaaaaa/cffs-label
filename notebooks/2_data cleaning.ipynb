{
 "cells": [
  {
   "cell_type": "markdown",
   "metadata": {},
   "source": [
    "# Climate-Friendly Food Systems (CFFS) Labelling Project\n",
    "\n",
    "### The University of British Columbia\n",
    "\n",
    "#### Created by Silvia Huang, CFFS Data Analyst\n",
    "****\n",
    "\n",
    "## Part II: Data Cleaning"
   ]
  },
  {
   "cell_type": "markdown",
   "metadata": {},
   "source": [
    "## Set up and Import Libraries"
   ]
  },
  {
   "cell_type": "code",
   "execution_count": 1,
   "metadata": {},
   "outputs": [],
   "source": [
    "#pip install -r requirements.txt"
   ]
  },
  {
   "cell_type": "code",
   "execution_count": 2,
   "metadata": {},
   "outputs": [],
   "source": [
    "import numpy as np\n",
    "import pandas as pd\n",
    "import pdpipe as pdp\n",
    "import matplotlib.pyplot as plt\n",
    "import glob\n",
    "import os\n",
    "import csv\n",
    "from itertools import islice\n",
    "from decimal import Decimal\n",
    "import xml.etree.ElementTree as et\n",
    "from xml.etree.ElementTree import parse\n",
    "import openpyxl\n",
    "import pytest\n",
    "from datetime import datetime"
   ]
  },
  {
   "cell_type": "code",
   "execution_count": 3,
   "metadata": {},
   "outputs": [],
   "source": [
    "# Set the root path, change the the current working directory into the project folder\n",
    "path = \"/Users/silvia/cffs-label\"\n",
    "os.chdir(path)"
   ]
  },
  {
   "cell_type": "code",
   "execution_count": 4,
   "metadata": {},
   "outputs": [],
   "source": [
    "# Enable reading data table in the scrolling window if you prefer\n",
    "#pd.set_option(\"display.max_rows\", None, \"display.max_columns\", None)"
   ]
  },
  {
   "cell_type": "markdown",
   "metadata": {},
   "source": [
    "***\n",
    "\n",
    "## Import Preprocessed Datasets"
   ]
  },
  {
   "cell_type": "code",
   "execution_count": 5,
   "metadata": {
    "scrolled": true
   },
   "outputs": [
    {
     "data": {
      "text/plain": [
       "ItemId             object\n",
       "Description        object\n",
       "CaseQty           float64\n",
       "CaseUOM            object\n",
       "PakQty            float64\n",
       "PakUOM             object\n",
       "InventoryGroup     object\n",
       "dtype: object"
      ]
     },
     "execution_count": 5,
     "metadata": {},
     "output_type": "execute_result"
    }
   ],
   "source": [
    "# Read Items_List.csv\n",
    "Items = pd.read_csv(os.path.join(os.getcwd(), \"data\", \"preprocessed\", \"Items_List.csv\"))\n",
    "Items.dtypes"
   ]
  },
  {
   "cell_type": "code",
   "execution_count": 6,
   "metadata": {},
   "outputs": [
    {
     "data": {
      "text/html": [
       "<div>\n",
       "<style scoped>\n",
       "    .dataframe tbody tr th:only-of-type {\n",
       "        vertical-align: middle;\n",
       "    }\n",
       "\n",
       "    .dataframe tbody tr th {\n",
       "        vertical-align: top;\n",
       "    }\n",
       "\n",
       "    .dataframe thead th {\n",
       "        text-align: right;\n",
       "    }\n",
       "</style>\n",
       "<table border=\"1\" class=\"dataframe\">\n",
       "  <thead>\n",
       "    <tr style=\"text-align: right;\">\n",
       "      <th></th>\n",
       "      <th>ItemId</th>\n",
       "      <th>Description</th>\n",
       "      <th>CaseQty</th>\n",
       "      <th>CaseUOM</th>\n",
       "      <th>PakQty</th>\n",
       "      <th>PakUOM</th>\n",
       "      <th>InventoryGroup</th>\n",
       "    </tr>\n",
       "  </thead>\n",
       "  <tbody>\n",
       "    <tr>\n",
       "      <th>0</th>\n",
       "      <td>I-4271</td>\n",
       "      <td>APPLES GRANNY SMITH</td>\n",
       "      <td>113.0</td>\n",
       "      <td>ea</td>\n",
       "      <td>1.0</td>\n",
       "      <td>CT</td>\n",
       "      <td>PRODUCE</td>\n",
       "    </tr>\n",
       "    <tr>\n",
       "      <th>1</th>\n",
       "      <td>I-4971</td>\n",
       "      <td>ARTICHOKE 1/4 SALAD CUT TFC</td>\n",
       "      <td>6.0</td>\n",
       "      <td>LG CAN</td>\n",
       "      <td>2.5</td>\n",
       "      <td>Kg</td>\n",
       "      <td>PRODUCE</td>\n",
       "    </tr>\n",
       "    <tr>\n",
       "      <th>2</th>\n",
       "      <td>I-2305</td>\n",
       "      <td>BACON PANCETTA</td>\n",
       "      <td>1.0</td>\n",
       "      <td>Kg</td>\n",
       "      <td>1.0</td>\n",
       "      <td>Kg</td>\n",
       "      <td>MEAT</td>\n",
       "    </tr>\n",
       "    <tr>\n",
       "      <th>3</th>\n",
       "      <td>I-1207</td>\n",
       "      <td>BAGUETTE FRENCH</td>\n",
       "      <td>24.0</td>\n",
       "      <td>each</td>\n",
       "      <td>1.0</td>\n",
       "      <td>CT</td>\n",
       "      <td>BREAD</td>\n",
       "    </tr>\n",
       "    <tr>\n",
       "      <th>4</th>\n",
       "      <td>I-17203</td>\n",
       "      <td>BALSAMIC GLAZE</td>\n",
       "      <td>2.0</td>\n",
       "      <td>bottle</td>\n",
       "      <td>2.0</td>\n",
       "      <td>L</td>\n",
       "      <td>FOOD - GROCERY</td>\n",
       "    </tr>\n",
       "  </tbody>\n",
       "</table>\n",
       "</div>"
      ],
      "text/plain": [
       "    ItemId                  Description  CaseQty CaseUOM  PakQty PakUOM  \\\n",
       "0   I-4271          APPLES GRANNY SMITH    113.0      ea     1.0     CT   \n",
       "1   I-4971  ARTICHOKE 1/4 SALAD CUT TFC      6.0  LG CAN     2.5     Kg   \n",
       "2   I-2305               BACON PANCETTA      1.0      Kg     1.0     Kg   \n",
       "3   I-1207              BAGUETTE FRENCH     24.0    each     1.0     CT   \n",
       "4  I-17203               BALSAMIC GLAZE      2.0  bottle     2.0      L   \n",
       "\n",
       "   InventoryGroup  \n",
       "0         PRODUCE  \n",
       "1         PRODUCE  \n",
       "2            MEAT  \n",
       "3           BREAD  \n",
       "4  FOOD - GROCERY  "
      ]
     },
     "execution_count": 6,
     "metadata": {},
     "output_type": "execute_result"
    }
   ],
   "source": [
    "Items.head()"
   ]
  },
  {
   "cell_type": "code",
   "execution_count": 7,
   "metadata": {},
   "outputs": [
    {
     "data": {
      "text/plain": [
       "(598, 7)"
      ]
     },
     "execution_count": 7,
     "metadata": {},
     "output_type": "execute_result"
    }
   ],
   "source": [
    "Items.shape"
   ]
  },
  {
   "cell_type": "code",
   "execution_count": 8,
   "metadata": {},
   "outputs": [
    {
     "data": {
      "text/plain": [
       "IngredientId     object\n",
       "Qty             float64\n",
       "Uom              object\n",
       "Conversion      float64\n",
       "InvFactor       float64\n",
       "Recipe           object\n",
       "dtype: object"
      ]
     },
     "execution_count": 8,
     "metadata": {},
     "output_type": "execute_result"
    }
   ],
   "source": [
    "# Read Ingredients_List.csv\n",
    "Ingredients = pd.read_csv(os.path.join(os.getcwd(), \"data\", \"preprocessed\", \"Ingredients_List.csv\"))\n",
    "Ingredients.dtypes"
   ]
  },
  {
   "cell_type": "code",
   "execution_count": 9,
   "metadata": {},
   "outputs": [
    {
     "data": {
      "text/html": [
       "<div>\n",
       "<style scoped>\n",
       "    .dataframe tbody tr th:only-of-type {\n",
       "        vertical-align: middle;\n",
       "    }\n",
       "\n",
       "    .dataframe tbody tr th {\n",
       "        vertical-align: top;\n",
       "    }\n",
       "\n",
       "    .dataframe thead th {\n",
       "        text-align: right;\n",
       "    }\n",
       "</style>\n",
       "<table border=\"1\" class=\"dataframe\">\n",
       "  <thead>\n",
       "    <tr style=\"text-align: right;\">\n",
       "      <th></th>\n",
       "      <th>IngredientId</th>\n",
       "      <th>Qty</th>\n",
       "      <th>Uom</th>\n",
       "      <th>Conversion</th>\n",
       "      <th>InvFactor</th>\n",
       "      <th>Recipe</th>\n",
       "    </tr>\n",
       "  </thead>\n",
       "  <tbody>\n",
       "    <tr>\n",
       "      <th>0</th>\n",
       "      <td>P-18746</td>\n",
       "      <td>1.00</td>\n",
       "      <td>Kg</td>\n",
       "      <td>1.00000</td>\n",
       "      <td>1.0000</td>\n",
       "      <td>P-10241</td>\n",
       "    </tr>\n",
       "    <tr>\n",
       "      <th>1</th>\n",
       "      <td>I-3388</td>\n",
       "      <td>1.00</td>\n",
       "      <td>L</td>\n",
       "      <td>1.00000</td>\n",
       "      <td>0.3058</td>\n",
       "      <td>P-10496</td>\n",
       "    </tr>\n",
       "    <tr>\n",
       "      <th>2</th>\n",
       "      <td>I-4660</td>\n",
       "      <td>2.27</td>\n",
       "      <td>Kg</td>\n",
       "      <td>2.20462</td>\n",
       "      <td>0.6942</td>\n",
       "      <td>P-10496</td>\n",
       "    </tr>\n",
       "    <tr>\n",
       "      <th>3</th>\n",
       "      <td>I-3451</td>\n",
       "      <td>2.56</td>\n",
       "      <td>L</td>\n",
       "      <td>1.00000</td>\n",
       "      <td>1.2800</td>\n",
       "      <td>P-13933</td>\n",
       "    </tr>\n",
       "    <tr>\n",
       "      <th>4</th>\n",
       "      <td>I-4679</td>\n",
       "      <td>1.00</td>\n",
       "      <td>BUNCH</td>\n",
       "      <td>1.00000</td>\n",
       "      <td>0.0063</td>\n",
       "      <td>P-18318</td>\n",
       "    </tr>\n",
       "  </tbody>\n",
       "</table>\n",
       "</div>"
      ],
      "text/plain": [
       "  IngredientId   Qty    Uom  Conversion  InvFactor   Recipe\n",
       "0      P-18746  1.00     Kg     1.00000     1.0000  P-10241\n",
       "1       I-3388  1.00      L     1.00000     0.3058  P-10496\n",
       "2       I-4660  2.27     Kg     2.20462     0.6942  P-10496\n",
       "3       I-3451  2.56      L     1.00000     1.2800  P-13933\n",
       "4       I-4679  1.00  BUNCH     1.00000     0.0063  P-18318"
      ]
     },
     "execution_count": 9,
     "metadata": {},
     "output_type": "execute_result"
    }
   ],
   "source": [
    "Ingredients.head()"
   ]
  },
  {
   "cell_type": "code",
   "execution_count": 10,
   "metadata": {},
   "outputs": [
    {
     "data": {
      "text/plain": [
       "(5382, 6)"
      ]
     },
     "execution_count": 10,
     "metadata": {},
     "output_type": "execute_result"
    }
   ],
   "source": [
    "Ingredients.shape"
   ]
  },
  {
   "cell_type": "code",
   "execution_count": 11,
   "metadata": {
    "scrolled": true
   },
   "outputs": [
    {
     "data": {
      "text/plain": [
       "PrepId             object\n",
       "Description        object\n",
       "PakQty            float64\n",
       "PakUOM             object\n",
       "InventoryGroup     object\n",
       "dtype: object"
      ]
     },
     "execution_count": 11,
     "metadata": {},
     "output_type": "execute_result"
    }
   ],
   "source": [
    "# Read Preps_List.csv\n",
    "Preps = pd.read_csv(os.path.join(os.getcwd(), \"data\", \"preprocessed\", \"Preps_List.csv\"))\n",
    "Preps.dtypes"
   ]
  },
  {
   "cell_type": "code",
   "execution_count": 12,
   "metadata": {},
   "outputs": [
    {
     "data": {
      "text/html": [
       "<div>\n",
       "<style scoped>\n",
       "    .dataframe tbody tr th:only-of-type {\n",
       "        vertical-align: middle;\n",
       "    }\n",
       "\n",
       "    .dataframe tbody tr th {\n",
       "        vertical-align: top;\n",
       "    }\n",
       "\n",
       "    .dataframe thead th {\n",
       "        text-align: right;\n",
       "    }\n",
       "</style>\n",
       "<table border=\"1\" class=\"dataframe\">\n",
       "  <thead>\n",
       "    <tr style=\"text-align: right;\">\n",
       "      <th></th>\n",
       "      <th>PrepId</th>\n",
       "      <th>Description</th>\n",
       "      <th>PakQty</th>\n",
       "      <th>PakUOM</th>\n",
       "      <th>InventoryGroup</th>\n",
       "    </tr>\n",
       "  </thead>\n",
       "  <tbody>\n",
       "    <tr>\n",
       "      <th>0</th>\n",
       "      <td>P-55516</td>\n",
       "      <td>BAKED|Lasagna|Spin Mushroom</td>\n",
       "      <td>5.550</td>\n",
       "      <td>Kg</td>\n",
       "      <td>NaN</td>\n",
       "    </tr>\n",
       "    <tr>\n",
       "      <th>1</th>\n",
       "      <td>P-54666</td>\n",
       "      <td>BAKED|Pasta|Chicken Alfredo</td>\n",
       "      <td>6.176</td>\n",
       "      <td>Kg</td>\n",
       "      <td>NaN</td>\n",
       "    </tr>\n",
       "    <tr>\n",
       "      <th>2</th>\n",
       "      <td>P-54664</td>\n",
       "      <td>BAKED|Pasta|Chorizo Penne</td>\n",
       "      <td>7.360</td>\n",
       "      <td>Kg</td>\n",
       "      <td>NaN</td>\n",
       "    </tr>\n",
       "    <tr>\n",
       "      <th>3</th>\n",
       "      <td>P-56502</td>\n",
       "      <td>BAKED|Pasta|Shrimp Pesto</td>\n",
       "      <td>5.760</td>\n",
       "      <td>Kg</td>\n",
       "      <td>NaN</td>\n",
       "    </tr>\n",
       "    <tr>\n",
       "      <th>4</th>\n",
       "      <td>P-56433</td>\n",
       "      <td>BATCH|Shrimp Remoulade</td>\n",
       "      <td>1.600</td>\n",
       "      <td>Kg</td>\n",
       "      <td>NaN</td>\n",
       "    </tr>\n",
       "  </tbody>\n",
       "</table>\n",
       "</div>"
      ],
      "text/plain": [
       "    PrepId                  Description  PakQty PakUOM InventoryGroup\n",
       "0  P-55516  BAKED|Lasagna|Spin Mushroom   5.550     Kg            NaN\n",
       "1  P-54666  BAKED|Pasta|Chicken Alfredo   6.176     Kg            NaN\n",
       "2  P-54664    BAKED|Pasta|Chorizo Penne   7.360     Kg            NaN\n",
       "3  P-56502     BAKED|Pasta|Shrimp Pesto   5.760     Kg            NaN\n",
       "4  P-56433       BATCH|Shrimp Remoulade   1.600     Kg            NaN"
      ]
     },
     "execution_count": 12,
     "metadata": {},
     "output_type": "execute_result"
    }
   ],
   "source": [
    "Preps.head()"
   ]
  },
  {
   "cell_type": "code",
   "execution_count": 13,
   "metadata": {},
   "outputs": [
    {
     "data": {
      "text/plain": [
       "(753, 5)"
      ]
     },
     "execution_count": 13,
     "metadata": {},
     "output_type": "execute_result"
    }
   ],
   "source": [
    "Preps.shape"
   ]
  },
  {
   "cell_type": "code",
   "execution_count": 14,
   "metadata": {},
   "outputs": [
    {
     "data": {
      "text/plain": [
       "ProdId         object\n",
       "Description    object\n",
       "SalesGroup     object\n",
       "dtype: object"
      ]
     },
     "execution_count": 14,
     "metadata": {},
     "output_type": "execute_result"
    }
   ],
   "source": [
    "# Read Product_List.csv\n",
    "Products = pd.read_csv(os.path.join(os.getcwd(), \"data\", \"preprocessed\", \"Products_List.csv\"))\n",
    "Products.dtypes"
   ]
  },
  {
   "cell_type": "code",
   "execution_count": 15,
   "metadata": {},
   "outputs": [
    {
     "data": {
      "text/html": [
       "<div>\n",
       "<style scoped>\n",
       "    .dataframe tbody tr th:only-of-type {\n",
       "        vertical-align: middle;\n",
       "    }\n",
       "\n",
       "    .dataframe tbody tr th {\n",
       "        vertical-align: top;\n",
       "    }\n",
       "\n",
       "    .dataframe thead th {\n",
       "        text-align: right;\n",
       "    }\n",
       "</style>\n",
       "<table border=\"1\" class=\"dataframe\">\n",
       "  <thead>\n",
       "    <tr style=\"text-align: right;\">\n",
       "      <th></th>\n",
       "      <th>ProdId</th>\n",
       "      <th>Description</th>\n",
       "      <th>SalesGroup</th>\n",
       "    </tr>\n",
       "  </thead>\n",
       "  <tbody>\n",
       "    <tr>\n",
       "      <th>0</th>\n",
       "      <td>R-61778</td>\n",
       "      <td>ALF|Flatbread|4 Cheese</td>\n",
       "      <td>OK - AL FORNO</td>\n",
       "    </tr>\n",
       "    <tr>\n",
       "      <th>1</th>\n",
       "      <td>R-61780</td>\n",
       "      <td>ALF|Flatbread|Apple &amp; Pancetta</td>\n",
       "      <td>OK - AL FORNO</td>\n",
       "    </tr>\n",
       "    <tr>\n",
       "      <th>2</th>\n",
       "      <td>R-61749</td>\n",
       "      <td>ALF|Flatbread|BBQ Chicken</td>\n",
       "      <td>OK - AL FORNO</td>\n",
       "    </tr>\n",
       "    <tr>\n",
       "      <th>3</th>\n",
       "      <td>R-50859</td>\n",
       "      <td>ALF|Flatbread|Bruschetta</td>\n",
       "      <td>OK - AL FORNO</td>\n",
       "    </tr>\n",
       "    <tr>\n",
       "      <th>4</th>\n",
       "      <td>R-50788</td>\n",
       "      <td>ALF|Flatbread|Caprese</td>\n",
       "      <td>OK - AL FORNO</td>\n",
       "    </tr>\n",
       "  </tbody>\n",
       "</table>\n",
       "</div>"
      ],
      "text/plain": [
       "    ProdId                     Description     SalesGroup\n",
       "0  R-61778          ALF|Flatbread|4 Cheese  OK - AL FORNO\n",
       "1  R-61780  ALF|Flatbread|Apple & Pancetta  OK - AL FORNO\n",
       "2  R-61749       ALF|Flatbread|BBQ Chicken  OK - AL FORNO\n",
       "3  R-50859        ALF|Flatbread|Bruschetta  OK - AL FORNO\n",
       "4  R-50788           ALF|Flatbread|Caprese  OK - AL FORNO"
      ]
     },
     "execution_count": 15,
     "metadata": {},
     "output_type": "execute_result"
    }
   ],
   "source": [
    "Products.head()"
   ]
  },
  {
   "cell_type": "code",
   "execution_count": 16,
   "metadata": {},
   "outputs": [
    {
     "data": {
      "text/plain": [
       "(458, 3)"
      ]
     },
     "execution_count": 16,
     "metadata": {},
     "output_type": "execute_result"
    }
   ],
   "source": [
    "Products.shape"
   ]
  },
  {
   "cell_type": "code",
   "execution_count": 17,
   "metadata": {},
   "outputs": [
    {
     "data": {
      "text/plain": [
       "ConversionId       object\n",
       "Multiplier        float64\n",
       "ConvertFromQty    float64\n",
       "ConvertFromUom     object\n",
       "ConvertToQty      float64\n",
       "ConvertToUom       object\n",
       "dtype: object"
      ]
     },
     "execution_count": 17,
     "metadata": {},
     "output_type": "execute_result"
    }
   ],
   "source": [
    "Conversions = pd.read_csv(os.path.join(os.getcwd(), \"data\", \"preprocessed\", \"Conversions_List.csv\"))\n",
    "Conversions.dtypes"
   ]
  },
  {
   "cell_type": "code",
   "execution_count": 18,
   "metadata": {
    "scrolled": true
   },
   "outputs": [
    {
     "data": {
      "text/html": [
       "<div>\n",
       "<style scoped>\n",
       "    .dataframe tbody tr th:only-of-type {\n",
       "        vertical-align: middle;\n",
       "    }\n",
       "\n",
       "    .dataframe tbody tr th {\n",
       "        vertical-align: top;\n",
       "    }\n",
       "\n",
       "    .dataframe thead th {\n",
       "        text-align: right;\n",
       "    }\n",
       "</style>\n",
       "<table border=\"1\" class=\"dataframe\">\n",
       "  <thead>\n",
       "    <tr style=\"text-align: right;\">\n",
       "      <th></th>\n",
       "      <th>ConversionId</th>\n",
       "      <th>Multiplier</th>\n",
       "      <th>ConvertFromQty</th>\n",
       "      <th>ConvertFromUom</th>\n",
       "      <th>ConvertToQty</th>\n",
       "      <th>ConvertToUom</th>\n",
       "    </tr>\n",
       "  </thead>\n",
       "  <tbody>\n",
       "    <tr>\n",
       "      <th>0</th>\n",
       "      <td>NaN</td>\n",
       "      <td>1.000000</td>\n",
       "      <td>1.0</td>\n",
       "      <td>XXX</td>\n",
       "      <td>1.00</td>\n",
       "      <td>L</td>\n",
       "    </tr>\n",
       "    <tr>\n",
       "      <th>1</th>\n",
       "      <td>NaN</td>\n",
       "      <td>0.877193</td>\n",
       "      <td>1.0</td>\n",
       "      <td>1.14L</td>\n",
       "      <td>1.14</td>\n",
       "      <td>L</td>\n",
       "    </tr>\n",
       "    <tr>\n",
       "      <th>2</th>\n",
       "      <td>NaN</td>\n",
       "      <td>0.666667</td>\n",
       "      <td>1.0</td>\n",
       "      <td>1.5L</td>\n",
       "      <td>1.50</td>\n",
       "      <td>L</td>\n",
       "    </tr>\n",
       "    <tr>\n",
       "      <th>3</th>\n",
       "      <td>NaN</td>\n",
       "      <td>0.571429</td>\n",
       "      <td>1.0</td>\n",
       "      <td>1.75 L</td>\n",
       "      <td>1.75</td>\n",
       "      <td>L</td>\n",
       "    </tr>\n",
       "    <tr>\n",
       "      <th>4</th>\n",
       "      <td>NaN</td>\n",
       "      <td>0.500000</td>\n",
       "      <td>1.0</td>\n",
       "      <td>2L</td>\n",
       "      <td>2.00</td>\n",
       "      <td>L</td>\n",
       "    </tr>\n",
       "  </tbody>\n",
       "</table>\n",
       "</div>"
      ],
      "text/plain": [
       "  ConversionId  Multiplier  ConvertFromQty ConvertFromUom  ConvertToQty  \\\n",
       "0          NaN    1.000000             1.0            XXX          1.00   \n",
       "1          NaN    0.877193             1.0          1.14L          1.14   \n",
       "2          NaN    0.666667             1.0           1.5L          1.50   \n",
       "3          NaN    0.571429             1.0         1.75 L          1.75   \n",
       "4          NaN    0.500000             1.0             2L          2.00   \n",
       "\n",
       "  ConvertToUom  \n",
       "0            L  \n",
       "1            L  \n",
       "2            L  \n",
       "3            L  \n",
       "4            L  "
      ]
     },
     "execution_count": 18,
     "metadata": {},
     "output_type": "execute_result"
    }
   ],
   "source": [
    "Conversions.head()"
   ]
  },
  {
   "cell_type": "code",
   "execution_count": 19,
   "metadata": {},
   "outputs": [
    {
     "data": {
      "text/plain": [
       "(296, 6)"
      ]
     },
     "execution_count": 19,
     "metadata": {},
     "output_type": "execute_result"
    }
   ],
   "source": [
    "Conversions.shape"
   ]
  },
  {
   "cell_type": "markdown",
   "metadata": {},
   "source": [
    "***\n",
    "## Update Conversion List"
   ]
  },
  {
   "cell_type": "code",
   "execution_count": 20,
   "metadata": {},
   "outputs": [
    {
     "data": {
      "text/html": [
       "<div>\n",
       "<style scoped>\n",
       "    .dataframe tbody tr th:only-of-type {\n",
       "        vertical-align: middle;\n",
       "    }\n",
       "\n",
       "    .dataframe tbody tr th {\n",
       "        vertical-align: top;\n",
       "    }\n",
       "\n",
       "    .dataframe thead th {\n",
       "        text-align: right;\n",
       "    }\n",
       "</style>\n",
       "<table border=\"1\" class=\"dataframe\">\n",
       "  <thead>\n",
       "    <tr style=\"text-align: right;\">\n",
       "      <th></th>\n",
       "      <th>ConversionId</th>\n",
       "      <th>Multiplier</th>\n",
       "      <th>ConvertFromQty</th>\n",
       "      <th>ConvertFromUom</th>\n",
       "      <th>ConvertToQty</th>\n",
       "      <th>ConvertToUom</th>\n",
       "    </tr>\n",
       "  </thead>\n",
       "  <tbody>\n",
       "    <tr>\n",
       "      <th>0</th>\n",
       "      <td>I-1028</td>\n",
       "      <td>0.008333</td>\n",
       "      <td>1.0</td>\n",
       "      <td>CT</td>\n",
       "      <td>120.0</td>\n",
       "      <td>g</td>\n",
       "    </tr>\n",
       "    <tr>\n",
       "      <th>1</th>\n",
       "      <td>I-1034</td>\n",
       "      <td>0.008333</td>\n",
       "      <td>1.0</td>\n",
       "      <td>CT</td>\n",
       "      <td>120.0</td>\n",
       "      <td>g</td>\n",
       "    </tr>\n",
       "    <tr>\n",
       "      <th>2</th>\n",
       "      <td>I-1035</td>\n",
       "      <td>0.010000</td>\n",
       "      <td>1.0</td>\n",
       "      <td>CT</td>\n",
       "      <td>100.0</td>\n",
       "      <td>g</td>\n",
       "    </tr>\n",
       "    <tr>\n",
       "      <th>3</th>\n",
       "      <td>I-10605</td>\n",
       "      <td>0.008850</td>\n",
       "      <td>1.0</td>\n",
       "      <td>CT</td>\n",
       "      <td>113.0</td>\n",
       "      <td>g</td>\n",
       "    </tr>\n",
       "    <tr>\n",
       "      <th>4</th>\n",
       "      <td>I-1126</td>\n",
       "      <td>0.006667</td>\n",
       "      <td>1.0</td>\n",
       "      <td>CT</td>\n",
       "      <td>150.0</td>\n",
       "      <td>g</td>\n",
       "    </tr>\n",
       "    <tr>\n",
       "      <th>...</th>\n",
       "      <td>...</td>\n",
       "      <td>...</td>\n",
       "      <td>...</td>\n",
       "      <td>...</td>\n",
       "      <td>...</td>\n",
       "      <td>...</td>\n",
       "    </tr>\n",
       "    <tr>\n",
       "      <th>310</th>\n",
       "      <td>P-32664</td>\n",
       "      <td>0.016393</td>\n",
       "      <td>1.0</td>\n",
       "      <td>each</td>\n",
       "      <td>61.0</td>\n",
       "      <td>g</td>\n",
       "    </tr>\n",
       "    <tr>\n",
       "      <th>311</th>\n",
       "      <td>P-55707</td>\n",
       "      <td>0.005405</td>\n",
       "      <td>1.0</td>\n",
       "      <td>PTN</td>\n",
       "      <td>185.0</td>\n",
       "      <td>g</td>\n",
       "    </tr>\n",
       "    <tr>\n",
       "      <th>312</th>\n",
       "      <td>P-55709</td>\n",
       "      <td>0.005405</td>\n",
       "      <td>1.0</td>\n",
       "      <td>PTN</td>\n",
       "      <td>185.0</td>\n",
       "      <td>g</td>\n",
       "    </tr>\n",
       "    <tr>\n",
       "      <th>313</th>\n",
       "      <td>P-62293</td>\n",
       "      <td>0.005405</td>\n",
       "      <td>1.0</td>\n",
       "      <td>PTN</td>\n",
       "      <td>185.0</td>\n",
       "      <td>g</td>\n",
       "    </tr>\n",
       "    <tr>\n",
       "      <th>314</th>\n",
       "      <td>P-62023</td>\n",
       "      <td>0.006452</td>\n",
       "      <td>1.0</td>\n",
       "      <td>ROLL</td>\n",
       "      <td>155.0</td>\n",
       "      <td>g</td>\n",
       "    </tr>\n",
       "  </tbody>\n",
       "</table>\n",
       "<p>315 rows × 6 columns</p>\n",
       "</div>"
      ],
      "text/plain": [
       "    ConversionId  Multiplier  ConvertFromQty ConvertFromUom  ConvertToQty  \\\n",
       "0         I-1028    0.008333             1.0             CT         120.0   \n",
       "1         I-1034    0.008333             1.0             CT         120.0   \n",
       "2         I-1035    0.010000             1.0             CT         100.0   \n",
       "3        I-10605    0.008850             1.0             CT         113.0   \n",
       "4         I-1126    0.006667             1.0             CT         150.0   \n",
       "..           ...         ...             ...            ...           ...   \n",
       "310      P-32664    0.016393             1.0           each          61.0   \n",
       "311      P-55707    0.005405             1.0            PTN         185.0   \n",
       "312      P-55709    0.005405             1.0            PTN         185.0   \n",
       "313      P-62293    0.005405             1.0            PTN         185.0   \n",
       "314      P-62023    0.006452             1.0           ROLL         155.0   \n",
       "\n",
       "    ConvertToUom  \n",
       "0              g  \n",
       "1              g  \n",
       "2              g  \n",
       "3              g  \n",
       "4              g  \n",
       "..           ...  \n",
       "310            g  \n",
       "311            g  \n",
       "312            g  \n",
       "313            g  \n",
       "314            g  \n",
       "\n",
       "[315 rows x 6 columns]"
      ]
     },
     "execution_count": 20,
     "metadata": {},
     "output_type": "execute_result"
    }
   ],
   "source": [
    "# Add the specific conversion info from the newly-processed data to a unit conversion database\n",
    "Update_Conv = pd.read_csv(os.path.join(os.getcwd(), \"data\", \"cleaning\", \"update\", \"Conv_UpdateConv.csv\"))\n",
    "Update_Conv"
   ]
  },
  {
   "cell_type": "code",
   "execution_count": 21,
   "metadata": {},
   "outputs": [],
   "source": [
    "for index, row in Update_Conv.iterrows():\n",
    "    Id = Update_Conv.loc[index, 'ConversionId']\n",
    "    Conversions.drop(Conversions[Conversions['ConversionId'] == Id].index, inplace = True)"
   ]
  },
  {
   "cell_type": "code",
   "execution_count": 22,
   "metadata": {},
   "outputs": [],
   "source": [
    "frames = [Conversions, Update_Conv]\n",
    "Conversions = pd.concat(frames).reset_index(drop=True, inplace=False).drop_duplicates()"
   ]
  },
  {
   "cell_type": "code",
   "execution_count": 23,
   "metadata": {},
   "outputs": [
    {
     "data": {
      "text/html": [
       "<div>\n",
       "<style scoped>\n",
       "    .dataframe tbody tr th:only-of-type {\n",
       "        vertical-align: middle;\n",
       "    }\n",
       "\n",
       "    .dataframe tbody tr th {\n",
       "        vertical-align: top;\n",
       "    }\n",
       "\n",
       "    .dataframe thead th {\n",
       "        text-align: right;\n",
       "    }\n",
       "</style>\n",
       "<table border=\"1\" class=\"dataframe\">\n",
       "  <thead>\n",
       "    <tr style=\"text-align: right;\">\n",
       "      <th></th>\n",
       "      <th>ConversionId</th>\n",
       "      <th>Multiplier</th>\n",
       "      <th>ConvertFromQty</th>\n",
       "      <th>ConvertFromUom</th>\n",
       "      <th>ConvertToQty</th>\n",
       "      <th>ConvertToUom</th>\n",
       "    </tr>\n",
       "  </thead>\n",
       "  <tbody>\n",
       "    <tr>\n",
       "      <th>0</th>\n",
       "      <td>NaN</td>\n",
       "      <td>1.000000</td>\n",
       "      <td>1.0</td>\n",
       "      <td>XXX</td>\n",
       "      <td>1.00</td>\n",
       "      <td>L</td>\n",
       "    </tr>\n",
       "    <tr>\n",
       "      <th>1</th>\n",
       "      <td>NaN</td>\n",
       "      <td>0.877193</td>\n",
       "      <td>1.0</td>\n",
       "      <td>1.14L</td>\n",
       "      <td>1.14</td>\n",
       "      <td>L</td>\n",
       "    </tr>\n",
       "    <tr>\n",
       "      <th>2</th>\n",
       "      <td>NaN</td>\n",
       "      <td>0.666667</td>\n",
       "      <td>1.0</td>\n",
       "      <td>1.5L</td>\n",
       "      <td>1.50</td>\n",
       "      <td>L</td>\n",
       "    </tr>\n",
       "    <tr>\n",
       "      <th>3</th>\n",
       "      <td>NaN</td>\n",
       "      <td>0.571429</td>\n",
       "      <td>1.0</td>\n",
       "      <td>1.75 L</td>\n",
       "      <td>1.75</td>\n",
       "      <td>L</td>\n",
       "    </tr>\n",
       "    <tr>\n",
       "      <th>4</th>\n",
       "      <td>NaN</td>\n",
       "      <td>0.500000</td>\n",
       "      <td>1.0</td>\n",
       "      <td>2L</td>\n",
       "      <td>2.00</td>\n",
       "      <td>L</td>\n",
       "    </tr>\n",
       "    <tr>\n",
       "      <th>...</th>\n",
       "      <td>...</td>\n",
       "      <td>...</td>\n",
       "      <td>...</td>\n",
       "      <td>...</td>\n",
       "      <td>...</td>\n",
       "      <td>...</td>\n",
       "    </tr>\n",
       "    <tr>\n",
       "      <th>585</th>\n",
       "      <td>P-32664</td>\n",
       "      <td>0.016393</td>\n",
       "      <td>1.0</td>\n",
       "      <td>each</td>\n",
       "      <td>61.00</td>\n",
       "      <td>g</td>\n",
       "    </tr>\n",
       "    <tr>\n",
       "      <th>586</th>\n",
       "      <td>P-55707</td>\n",
       "      <td>0.005405</td>\n",
       "      <td>1.0</td>\n",
       "      <td>PTN</td>\n",
       "      <td>185.00</td>\n",
       "      <td>g</td>\n",
       "    </tr>\n",
       "    <tr>\n",
       "      <th>587</th>\n",
       "      <td>P-55709</td>\n",
       "      <td>0.005405</td>\n",
       "      <td>1.0</td>\n",
       "      <td>PTN</td>\n",
       "      <td>185.00</td>\n",
       "      <td>g</td>\n",
       "    </tr>\n",
       "    <tr>\n",
       "      <th>588</th>\n",
       "      <td>P-62293</td>\n",
       "      <td>0.005405</td>\n",
       "      <td>1.0</td>\n",
       "      <td>PTN</td>\n",
       "      <td>185.00</td>\n",
       "      <td>g</td>\n",
       "    </tr>\n",
       "    <tr>\n",
       "      <th>589</th>\n",
       "      <td>P-62023</td>\n",
       "      <td>0.006452</td>\n",
       "      <td>1.0</td>\n",
       "      <td>ROLL</td>\n",
       "      <td>155.00</td>\n",
       "      <td>g</td>\n",
       "    </tr>\n",
       "  </tbody>\n",
       "</table>\n",
       "<p>590 rows × 6 columns</p>\n",
       "</div>"
      ],
      "text/plain": [
       "    ConversionId  Multiplier  ConvertFromQty ConvertFromUom  ConvertToQty  \\\n",
       "0            NaN    1.000000             1.0            XXX          1.00   \n",
       "1            NaN    0.877193             1.0          1.14L          1.14   \n",
       "2            NaN    0.666667             1.0           1.5L          1.50   \n",
       "3            NaN    0.571429             1.0         1.75 L          1.75   \n",
       "4            NaN    0.500000             1.0             2L          2.00   \n",
       "..           ...         ...             ...            ...           ...   \n",
       "585      P-32664    0.016393             1.0           each         61.00   \n",
       "586      P-55707    0.005405             1.0            PTN        185.00   \n",
       "587      P-55709    0.005405             1.0            PTN        185.00   \n",
       "588      P-62293    0.005405             1.0            PTN        185.00   \n",
       "589      P-62023    0.006452             1.0           ROLL        155.00   \n",
       "\n",
       "    ConvertToUom  \n",
       "0              L  \n",
       "1              L  \n",
       "2              L  \n",
       "3              L  \n",
       "4              L  \n",
       "..           ...  \n",
       "585            g  \n",
       "586            g  \n",
       "587            g  \n",
       "588            g  \n",
       "589            g  \n",
       "\n",
       "[590 rows x 6 columns]"
      ]
     },
     "execution_count": 23,
     "metadata": {},
     "output_type": "execute_result"
    }
   ],
   "source": [
    "Conversions"
   ]
  },
  {
   "cell_type": "code",
   "execution_count": 24,
   "metadata": {},
   "outputs": [],
   "source": [
    "path = os.path.join(os.getcwd(), \"data\", \"cleaning\", \"Conversions_Added.csv\")\n",
    "Conversions.to_csv(path, index = False, header = True)"
   ]
  },
  {
   "cell_type": "markdown",
   "metadata": {},
   "source": [
    "### Create Unit Converter"
   ]
  },
  {
   "cell_type": "code",
   "execution_count": 25,
   "metadata": {},
   "outputs": [
    {
     "data": {
      "text/html": [
       "<div>\n",
       "<style scoped>\n",
       "    .dataframe tbody tr th:only-of-type {\n",
       "        vertical-align: middle;\n",
       "    }\n",
       "\n",
       "    .dataframe tbody tr th {\n",
       "        vertical-align: top;\n",
       "    }\n",
       "\n",
       "    .dataframe thead th {\n",
       "        text-align: right;\n",
       "    }\n",
       "</style>\n",
       "<table border=\"1\" class=\"dataframe\">\n",
       "  <thead>\n",
       "    <tr style=\"text-align: right;\">\n",
       "      <th></th>\n",
       "      <th>Multiplier</th>\n",
       "      <th>ConvertFromQty</th>\n",
       "      <th>ConvertFromUom</th>\n",
       "      <th>ConvertToQty</th>\n",
       "      <th>ConvertToUom</th>\n",
       "    </tr>\n",
       "  </thead>\n",
       "  <tbody>\n",
       "    <tr>\n",
       "      <th>0</th>\n",
       "      <td>4.92890</td>\n",
       "      <td>1</td>\n",
       "      <td>tsp</td>\n",
       "      <td>4.92890</td>\n",
       "      <td>ml</td>\n",
       "    </tr>\n",
       "    <tr>\n",
       "      <th>1</th>\n",
       "      <td>14.78700</td>\n",
       "      <td>1</td>\n",
       "      <td>Tbsp</td>\n",
       "      <td>14.78700</td>\n",
       "      <td>ml</td>\n",
       "    </tr>\n",
       "    <tr>\n",
       "      <th>2</th>\n",
       "      <td>946.35000</td>\n",
       "      <td>1</td>\n",
       "      <td>qt</td>\n",
       "      <td>946.35000</td>\n",
       "      <td>ml</td>\n",
       "    </tr>\n",
       "    <tr>\n",
       "      <th>3</th>\n",
       "      <td>473.17625</td>\n",
       "      <td>1</td>\n",
       "      <td>pt</td>\n",
       "      <td>473.17625</td>\n",
       "      <td>ml</td>\n",
       "    </tr>\n",
       "    <tr>\n",
       "      <th>4</th>\n",
       "      <td>28.34950</td>\n",
       "      <td>1</td>\n",
       "      <td>oz</td>\n",
       "      <td>28.34950</td>\n",
       "      <td>g</td>\n",
       "    </tr>\n",
       "  </tbody>\n",
       "</table>\n",
       "</div>"
      ],
      "text/plain": [
       "   Multiplier  ConvertFromQty ConvertFromUom  ConvertToQty ConvertToUom\n",
       "0     4.92890               1            tsp       4.92890           ml\n",
       "1    14.78700               1           Tbsp      14.78700           ml\n",
       "2   946.35000               1             qt     946.35000           ml\n",
       "3   473.17625               1             pt     473.17625           ml\n",
       "4    28.34950               1             oz      28.34950            g"
      ]
     },
     "execution_count": 25,
     "metadata": {},
     "output_type": "execute_result"
    }
   ],
   "source": [
    "# Import standard unit conversion information and construct a dataframe\n",
    "Std_Unit = pd.read_csv(os.path.join(os.getcwd(), \"data\", \"external\", \"standard_conversions.csv\"))\n",
    "Std_Unit.head()"
   ]
  },
  {
   "cell_type": "code",
   "execution_count": 26,
   "metadata": {},
   "outputs": [],
   "source": [
    "# Seperate uoms that converted to 'ml' or 'g'\n",
    "liquid_unit = Std_Unit.loc[Std_Unit['ConvertToUom'] == 'ml', 'ConvertFromUom'].tolist()\n",
    "solid_unit = Std_Unit.loc[Std_Unit['ConvertToUom'] == 'g', 'ConvertFromUom'].tolist()"
   ]
  },
  {
   "cell_type": "code",
   "execution_count": 27,
   "metadata": {},
   "outputs": [],
   "source": [
    "# Construct a standard unit converter\n",
    "def std_converter(qty, uom):\n",
    "    if uom in Std_Unit['ConvertFromUom'].tolist():\n",
    "        multiplier = Std_Unit.loc[Std_Unit['ConvertFromUom'] == uom, 'Multiplier']\n",
    "        Qty = float(qty)*float(multiplier)\n",
    "        Uom = Std_Unit.loc[Std_Unit['ConvertFromUom'] == uom, 'ConvertToUom'].values[0]\n",
    "    else:\n",
    "        Qty = qty\n",
    "        Uom = uom\n",
    "    return (Qty, Uom)"
   ]
  },
  {
   "cell_type": "code",
   "execution_count": 28,
   "metadata": {},
   "outputs": [],
   "source": [
    "# Test the std_converter\n",
    "#assert std_converter(0.25,'lb') == (113.398, 'g')"
   ]
  },
  {
   "cell_type": "code",
   "execution_count": 29,
   "metadata": {},
   "outputs": [],
   "source": [
    "# Construct a unit converter for specific ingredients\n",
    "spc_cov = list(filter(None, Conversions['ConversionId'].tolist()))\n",
    "\n",
    "def spc_converter(ingre, qty, uom):\n",
    "    if uom in liquid_unit + solid_unit:\n",
    "        return std_converter(qty, uom)\n",
    "    elif ingre in spc_cov:\n",
    "        conversion = Conversions.loc[(Conversions['ConversionId'] == ingre) & (Conversions['ConvertFromUom'] == uom)\n",
    "                                    & (Conversions['ConvertToUom'] == 'g')]\n",
    "        multiplier = conversion['Multiplier']\n",
    "        if multiplier.empty:\n",
    "            return std_converter(qty, uom)\n",
    "        else: \n",
    "            Qty = float(qty)/float(multiplier)\n",
    "            Uom = conversion['ConvertToUom'].values[0]\n",
    "            return (Qty, Uom)\n",
    "    else:\n",
    "        return std_converter(qty, uom)"
   ]
  },
  {
   "cell_type": "code",
   "execution_count": 30,
   "metadata": {},
   "outputs": [],
   "source": [
    "# Test the spc_converter\n",
    "#assert spc_converter('I-1120', 1, 'CT') == (50, 'g')"
   ]
  },
  {
   "cell_type": "markdown",
   "metadata": {},
   "source": [
    "***\n",
    "## Items with Non-standard Units"
   ]
  },
  {
   "cell_type": "code",
   "execution_count": 31,
   "metadata": {},
   "outputs": [
    {
     "data": {
      "text/html": [
       "<div>\n",
       "<style scoped>\n",
       "    .dataframe tbody tr th:only-of-type {\n",
       "        vertical-align: middle;\n",
       "    }\n",
       "\n",
       "    .dataframe tbody tr th {\n",
       "        vertical-align: top;\n",
       "    }\n",
       "\n",
       "    .dataframe thead th {\n",
       "        text-align: right;\n",
       "    }\n",
       "</style>\n",
       "<table border=\"1\" class=\"dataframe\">\n",
       "  <thead>\n",
       "    <tr style=\"text-align: right;\">\n",
       "      <th></th>\n",
       "      <th>IngredientId</th>\n",
       "      <th>Qty</th>\n",
       "      <th>Uom</th>\n",
       "      <th>Conversion</th>\n",
       "      <th>InvFactor</th>\n",
       "      <th>Recipe</th>\n",
       "    </tr>\n",
       "  </thead>\n",
       "  <tbody>\n",
       "  </tbody>\n",
       "</table>\n",
       "</div>"
      ],
      "text/plain": [
       "Empty DataFrame\n",
       "Columns: [IngredientId, Qty, Uom, Conversion, InvFactor, Recipe]\n",
       "Index: []"
      ]
     },
     "execution_count": 31,
     "metadata": {},
     "output_type": "execute_result"
    }
   ],
   "source": [
    "# Filter out the items whose unit information is unknown \n",
    "col_names = list(Ingredients.columns.values)\n",
    "Items_Nonstd = []\n",
    "\n",
    "for index, row in Ingredients.iterrows():\n",
    "    Ingre = Ingredients.loc[index,'IngredientId']\n",
    "    Uom = Ingredients.loc[index,'Uom']\n",
    "    if Uom not in ['g', 'ml'] and Uom not in liquid_unit + solid_unit and Ingre.startswith('I') and Ingre not in Conversions[\"ConversionId\"].tolist():\n",
    "        Dict = {}\n",
    "        Dict.update(dict(row))\n",
    "        Items_Nonstd.append(Dict)\n",
    "\n",
    "Items_Nonstd = pd.DataFrame(Items_Nonstd, columns = col_names)\n",
    "Items_Nonstd.drop_duplicates(subset=['IngredientId'], inplace=True,)\n",
    "Items_Nonstd"
   ]
  },
  {
   "cell_type": "code",
   "execution_count": 32,
   "metadata": {},
   "outputs": [],
   "source": [
    "path = os.path.join(os.getcwd(), \"data\", \"cleaning\", \"Items_Nonstd.csv\")\n",
    "Items_Nonstd.to_csv(path, index = False, header = True)"
   ]
  },
  {
   "cell_type": "markdown",
   "metadata": {},
   "source": [
    "***\n",
    "## Clean Preps Units"
   ]
  },
  {
   "cell_type": "code",
   "execution_count": 33,
   "metadata": {},
   "outputs": [],
   "source": [
    "Preps['StdQty'] = np.nan\n",
    "Preps['StdUom'] = np.nan"
   ]
  },
  {
   "cell_type": "code",
   "execution_count": 34,
   "metadata": {},
   "outputs": [],
   "source": [
    "# Convert uom into 'g' or 'ml' for each prep using the unit converter\n",
    "for index in Preps.index:\n",
    "    PrepId = Preps.loc[index,'PrepId']\n",
    "    Qty = Preps.loc[index,'PakQty']\n",
    "    Uom = Preps.loc[index,'PakUOM']\n",
    "    Preps.loc[index,'StdQty'] = spc_converter(PrepId, Qty, Uom)[0]\n",
    "    Preps.loc[index,'StdUom'] = spc_converter(PrepId, Qty, Uom)[1]"
   ]
  },
  {
   "cell_type": "code",
   "execution_count": 35,
   "metadata": {
    "scrolled": true
   },
   "outputs": [
    {
     "data": {
      "text/html": [
       "<div>\n",
       "<style scoped>\n",
       "    .dataframe tbody tr th:only-of-type {\n",
       "        vertical-align: middle;\n",
       "    }\n",
       "\n",
       "    .dataframe tbody tr th {\n",
       "        vertical-align: top;\n",
       "    }\n",
       "\n",
       "    .dataframe thead th {\n",
       "        text-align: right;\n",
       "    }\n",
       "</style>\n",
       "<table border=\"1\" class=\"dataframe\">\n",
       "  <thead>\n",
       "    <tr style=\"text-align: right;\">\n",
       "      <th></th>\n",
       "      <th>PrepId</th>\n",
       "      <th>Description</th>\n",
       "      <th>PakQty</th>\n",
       "      <th>PakUOM</th>\n",
       "      <th>InventoryGroup</th>\n",
       "      <th>StdQty</th>\n",
       "      <th>StdUom</th>\n",
       "    </tr>\n",
       "  </thead>\n",
       "  <tbody>\n",
       "    <tr>\n",
       "      <th>0</th>\n",
       "      <td>P-55516</td>\n",
       "      <td>BAKED|Lasagna|Spin Mushroom</td>\n",
       "      <td>5.550</td>\n",
       "      <td>Kg</td>\n",
       "      <td>NaN</td>\n",
       "      <td>5550.000000</td>\n",
       "      <td>g</td>\n",
       "    </tr>\n",
       "    <tr>\n",
       "      <th>1</th>\n",
       "      <td>P-54666</td>\n",
       "      <td>BAKED|Pasta|Chicken Alfredo</td>\n",
       "      <td>6.176</td>\n",
       "      <td>Kg</td>\n",
       "      <td>NaN</td>\n",
       "      <td>6176.000000</td>\n",
       "      <td>g</td>\n",
       "    </tr>\n",
       "    <tr>\n",
       "      <th>2</th>\n",
       "      <td>P-54664</td>\n",
       "      <td>BAKED|Pasta|Chorizo Penne</td>\n",
       "      <td>7.360</td>\n",
       "      <td>Kg</td>\n",
       "      <td>NaN</td>\n",
       "      <td>7360.000000</td>\n",
       "      <td>g</td>\n",
       "    </tr>\n",
       "    <tr>\n",
       "      <th>3</th>\n",
       "      <td>P-56502</td>\n",
       "      <td>BAKED|Pasta|Shrimp Pesto</td>\n",
       "      <td>5.760</td>\n",
       "      <td>Kg</td>\n",
       "      <td>NaN</td>\n",
       "      <td>5760.000000</td>\n",
       "      <td>g</td>\n",
       "    </tr>\n",
       "    <tr>\n",
       "      <th>4</th>\n",
       "      <td>P-56433</td>\n",
       "      <td>BATCH|Shrimp Remoulade</td>\n",
       "      <td>1.600</td>\n",
       "      <td>Kg</td>\n",
       "      <td>NaN</td>\n",
       "      <td>1600.000000</td>\n",
       "      <td>g</td>\n",
       "    </tr>\n",
       "    <tr>\n",
       "      <th>...</th>\n",
       "      <td>...</td>\n",
       "      <td>...</td>\n",
       "      <td>...</td>\n",
       "      <td>...</td>\n",
       "      <td>...</td>\n",
       "      <td>...</td>\n",
       "      <td>...</td>\n",
       "    </tr>\n",
       "    <tr>\n",
       "      <th>748</th>\n",
       "      <td>P-47418</td>\n",
       "      <td>MIX|Cheese</td>\n",
       "      <td>2.000</td>\n",
       "      <td>Kg</td>\n",
       "      <td>PREP</td>\n",
       "      <td>2000.000000</td>\n",
       "      <td>g</td>\n",
       "    </tr>\n",
       "    <tr>\n",
       "      <th>749</th>\n",
       "      <td>P-42317</td>\n",
       "      <td>ROASTED|Spaghetti Squash</td>\n",
       "      <td>1.400</td>\n",
       "      <td>Kg</td>\n",
       "      <td>NaN</td>\n",
       "      <td>1400.000000</td>\n",
       "      <td>g</td>\n",
       "    </tr>\n",
       "    <tr>\n",
       "      <th>750</th>\n",
       "      <td>P-56927</td>\n",
       "      <td>SAUTE|Cauliflower Rice</td>\n",
       "      <td>1.000</td>\n",
       "      <td>Kg</td>\n",
       "      <td>NaN</td>\n",
       "      <td>1000.000000</td>\n",
       "      <td>g</td>\n",
       "    </tr>\n",
       "    <tr>\n",
       "      <th>751</th>\n",
       "      <td>P-56887</td>\n",
       "      <td>YIELD|Grated Pear</td>\n",
       "      <td>800.000</td>\n",
       "      <td>g</td>\n",
       "      <td>NaN</td>\n",
       "      <td>800.000000</td>\n",
       "      <td>g</td>\n",
       "    </tr>\n",
       "    <tr>\n",
       "      <th>752</th>\n",
       "      <td>P-46509</td>\n",
       "      <td>YIELD|Lettuce bun</td>\n",
       "      <td>3.000</td>\n",
       "      <td>PTN</td>\n",
       "      <td>NaN</td>\n",
       "      <td>449.999978</td>\n",
       "      <td>g</td>\n",
       "    </tr>\n",
       "  </tbody>\n",
       "</table>\n",
       "<p>753 rows × 7 columns</p>\n",
       "</div>"
      ],
      "text/plain": [
       "      PrepId                  Description   PakQty PakUOM InventoryGroup  \\\n",
       "0    P-55516  BAKED|Lasagna|Spin Mushroom    5.550     Kg            NaN   \n",
       "1    P-54666  BAKED|Pasta|Chicken Alfredo    6.176     Kg            NaN   \n",
       "2    P-54664    BAKED|Pasta|Chorizo Penne    7.360     Kg            NaN   \n",
       "3    P-56502     BAKED|Pasta|Shrimp Pesto    5.760     Kg            NaN   \n",
       "4    P-56433       BATCH|Shrimp Remoulade    1.600     Kg            NaN   \n",
       "..       ...                          ...      ...    ...            ...   \n",
       "748  P-47418                   MIX|Cheese    2.000     Kg           PREP   \n",
       "749  P-42317     ROASTED|Spaghetti Squash    1.400     Kg            NaN   \n",
       "750  P-56927       SAUTE|Cauliflower Rice    1.000     Kg            NaN   \n",
       "751  P-56887            YIELD|Grated Pear  800.000      g            NaN   \n",
       "752  P-46509            YIELD|Lettuce bun    3.000    PTN            NaN   \n",
       "\n",
       "          StdQty StdUom  \n",
       "0    5550.000000      g  \n",
       "1    6176.000000      g  \n",
       "2    7360.000000      g  \n",
       "3    5760.000000      g  \n",
       "4    1600.000000      g  \n",
       "..           ...    ...  \n",
       "748  2000.000000      g  \n",
       "749  1400.000000      g  \n",
       "750  1000.000000      g  \n",
       "751   800.000000      g  \n",
       "752   449.999978      g  \n",
       "\n",
       "[753 rows x 7 columns]"
      ]
     },
     "execution_count": 35,
     "metadata": {},
     "output_type": "execute_result"
    }
   ],
   "source": [
    "Preps"
   ]
  },
  {
   "cell_type": "code",
   "execution_count": 36,
   "metadata": {},
   "outputs": [],
   "source": [
    "# Save cleaned preps list to file\n",
    "path = os.path.join(os.getcwd(), \"data\", \"cleaning\", \"Preps_Unit_Cleaned.csv\")\n",
    "Preps.to_csv(path, index = False, header = True)"
   ]
  },
  {
   "cell_type": "markdown",
   "metadata": {},
   "source": [
    "### Get Preps with Nonstandard Unit"
   ]
  },
  {
   "cell_type": "code",
   "execution_count": 37,
   "metadata": {},
   "outputs": [],
   "source": [
    "col_names = list(Preps.columns.values)\n",
    "Preps_Nonstd = []\n",
    "\n",
    "for index, row in Preps.iterrows():\n",
    "    StdUom = Preps.loc[index,'StdUom']\n",
    "    if StdUom not in ['g', 'ml']:\n",
    "        Dict = {}\n",
    "        Dict.update(dict(row))\n",
    "        Preps_Nonstd.append(Dict)\n",
    "\n",
    "Preps_Nonstd = pd.DataFrame(Preps_Nonstd, columns = col_names)"
   ]
  },
  {
   "cell_type": "code",
   "execution_count": 38,
   "metadata": {
    "scrolled": true
   },
   "outputs": [
    {
     "data": {
      "text/html": [
       "<div>\n",
       "<style scoped>\n",
       "    .dataframe tbody tr th:only-of-type {\n",
       "        vertical-align: middle;\n",
       "    }\n",
       "\n",
       "    .dataframe tbody tr th {\n",
       "        vertical-align: top;\n",
       "    }\n",
       "\n",
       "    .dataframe thead th {\n",
       "        text-align: right;\n",
       "    }\n",
       "</style>\n",
       "<table border=\"1\" class=\"dataframe\">\n",
       "  <thead>\n",
       "    <tr style=\"text-align: right;\">\n",
       "      <th></th>\n",
       "      <th>PrepId</th>\n",
       "      <th>Description</th>\n",
       "      <th>PakQty</th>\n",
       "      <th>PakUOM</th>\n",
       "      <th>InventoryGroup</th>\n",
       "      <th>StdQty</th>\n",
       "      <th>StdUom</th>\n",
       "    </tr>\n",
       "  </thead>\n",
       "  <tbody>\n",
       "    <tr>\n",
       "      <th>0</th>\n",
       "      <td>P-51230</td>\n",
       "      <td>WINGS|Sauce Mix|ratio</td>\n",
       "      <td>1.0</td>\n",
       "      <td>srvg</td>\n",
       "      <td>NaN</td>\n",
       "      <td>1.0</td>\n",
       "      <td>srvg</td>\n",
       "    </tr>\n",
       "  </tbody>\n",
       "</table>\n",
       "</div>"
      ],
      "text/plain": [
       "    PrepId            Description  PakQty PakUOM  InventoryGroup  StdQty  \\\n",
       "0  P-51230  WINGS|Sauce Mix|ratio     1.0   srvg             NaN     1.0   \n",
       "\n",
       "  StdUom  \n",
       "0   srvg  "
      ]
     },
     "execution_count": 38,
     "metadata": {},
     "output_type": "execute_result"
    }
   ],
   "source": [
    "Preps_Nonstd"
   ]
  },
  {
   "cell_type": "code",
   "execution_count": 39,
   "metadata": {},
   "outputs": [
    {
     "data": {
      "text/html": [
       "<div>\n",
       "<style scoped>\n",
       "    .dataframe tbody tr th:only-of-type {\n",
       "        vertical-align: middle;\n",
       "    }\n",
       "\n",
       "    .dataframe tbody tr th {\n",
       "        vertical-align: top;\n",
       "    }\n",
       "\n",
       "    .dataframe thead th {\n",
       "        text-align: right;\n",
       "    }\n",
       "</style>\n",
       "<table border=\"1\" class=\"dataframe\">\n",
       "  <thead>\n",
       "    <tr style=\"text-align: right;\">\n",
       "      <th></th>\n",
       "      <th>PrepId</th>\n",
       "      <th>Description</th>\n",
       "      <th>PakQty</th>\n",
       "      <th>PakUOM</th>\n",
       "      <th>InventoryGroup</th>\n",
       "      <th>StdQty</th>\n",
       "      <th>StdUom</th>\n",
       "    </tr>\n",
       "  </thead>\n",
       "  <tbody>\n",
       "  </tbody>\n",
       "</table>\n",
       "</div>"
      ],
      "text/plain": [
       "Empty DataFrame\n",
       "Columns: [PrepId, Description, PakQty, PakUOM, InventoryGroup, StdQty, StdUom]\n",
       "Index: []"
      ]
     },
     "execution_count": 39,
     "metadata": {},
     "output_type": "execute_result"
    }
   ],
   "source": [
    "# Filter out preps with nonstandard uom but have information already\n",
    "Manual_PrepU = pd.read_csv(os.path.join(os.getcwd(), \"data\", \"cleaning\", \"update\", \"Preps_UpdateUom.csv\"))\n",
    "\n",
    "col_names = list(Preps_Nonstd.columns.values)\n",
    "Preps_Nonstd_na = []\n",
    "\n",
    "for index, row in Preps_Nonstd.iterrows():\n",
    "    PrepId = Preps_Nonstd.loc[index,'PrepId']\n",
    "    if PrepId not in Manual_PrepU['PrepId'].values:\n",
    "        Dict = {}\n",
    "        Dict.update(dict(row))\n",
    "        Preps_Nonstd_na.append(Dict)\n",
    "\n",
    "Preps_Nonstd = pd.DataFrame(Preps_Nonstd_na, columns = col_names)\n",
    "Preps_Nonstd"
   ]
  },
  {
   "cell_type": "code",
   "execution_count": 40,
   "metadata": {},
   "outputs": [],
   "source": [
    "path = os.path.join(os.getcwd(), \"data\", \"cleaning\", \"Preps_NonstdUom.csv\")\n",
    "Preps_Nonstd.to_csv(path, index = False, header = True)"
   ]
  },
  {
   "cell_type": "markdown",
   "metadata": {},
   "source": [
    "***\n",
    "\n",
    "## New Items"
   ]
  },
  {
   "cell_type": "code",
   "execution_count": 41,
   "metadata": {
    "scrolled": true
   },
   "outputs": [
    {
     "data": {
      "text/html": [
       "<div>\n",
       "<style scoped>\n",
       "    .dataframe tbody tr th:only-of-type {\n",
       "        vertical-align: middle;\n",
       "    }\n",
       "\n",
       "    .dataframe tbody tr th {\n",
       "        vertical-align: top;\n",
       "    }\n",
       "\n",
       "    .dataframe thead th {\n",
       "        text-align: right;\n",
       "    }\n",
       "</style>\n",
       "<table border=\"1\" class=\"dataframe\">\n",
       "  <thead>\n",
       "    <tr style=\"text-align: right;\">\n",
       "      <th></th>\n",
       "      <th>ItemId</th>\n",
       "      <th>CategoryID</th>\n",
       "      <th>Description</th>\n",
       "      <th>CaseQty</th>\n",
       "      <th>CaseUOM</th>\n",
       "      <th>PakQty</th>\n",
       "      <th>PakUOM</th>\n",
       "      <th>InventoryGroup</th>\n",
       "    </tr>\n",
       "  </thead>\n",
       "  <tbody>\n",
       "    <tr>\n",
       "      <th>0</th>\n",
       "      <td>I-57545</td>\n",
       "      <td>1</td>\n",
       "      <td>CHUCK FLAT BONELESS FZN</td>\n",
       "      <td>3.30</td>\n",
       "      <td>Kg</td>\n",
       "      <td>1.0</td>\n",
       "      <td>Kg</td>\n",
       "      <td>MEAT</td>\n",
       "    </tr>\n",
       "    <tr>\n",
       "      <th>1</th>\n",
       "      <td>I-10869</td>\n",
       "      <td>1</td>\n",
       "      <td>BEEF STIRFRY COV FR</td>\n",
       "      <td>5.00</td>\n",
       "      <td>Kg</td>\n",
       "      <td>1.0</td>\n",
       "      <td>Kg</td>\n",
       "      <td>MEAT</td>\n",
       "    </tr>\n",
       "    <tr>\n",
       "      <th>2</th>\n",
       "      <td>I-7064</td>\n",
       "      <td>1</td>\n",
       "      <td>BEEF OUTSIDE FLAT AAA</td>\n",
       "      <td>1.00</td>\n",
       "      <td>Kg</td>\n",
       "      <td>1.0</td>\n",
       "      <td>Kg</td>\n",
       "      <td>MEAT</td>\n",
       "    </tr>\n",
       "    <tr>\n",
       "      <th>3</th>\n",
       "      <td>I-37005</td>\n",
       "      <td>1</td>\n",
       "      <td>BEEF MEATBALLS</td>\n",
       "      <td>4.54</td>\n",
       "      <td>Kg</td>\n",
       "      <td>1000.0</td>\n",
       "      <td>g</td>\n",
       "      <td>MEAT</td>\n",
       "    </tr>\n",
       "    <tr>\n",
       "      <th>4</th>\n",
       "      <td>I-37002</td>\n",
       "      <td>1</td>\n",
       "      <td>BEEF INSIDE ROUND SHAVED</td>\n",
       "      <td>9.00</td>\n",
       "      <td>Kg</td>\n",
       "      <td>1000.0</td>\n",
       "      <td>g</td>\n",
       "      <td>MEAT</td>\n",
       "    </tr>\n",
       "  </tbody>\n",
       "</table>\n",
       "</div>"
      ],
      "text/plain": [
       "    ItemId  CategoryID               Description  CaseQty CaseUOM  PakQty  \\\n",
       "0  I-57545           1   CHUCK FLAT BONELESS FZN     3.30      Kg     1.0   \n",
       "1  I-10869           1       BEEF STIRFRY COV FR     5.00      Kg     1.0   \n",
       "2   I-7064           1     BEEF OUTSIDE FLAT AAA     1.00      Kg     1.0   \n",
       "3  I-37005           1            BEEF MEATBALLS     4.54      Kg  1000.0   \n",
       "4  I-37002           1  BEEF INSIDE ROUND SHAVED     9.00      Kg  1000.0   \n",
       "\n",
       "  PakUOM InventoryGroup  \n",
       "0     Kg           MEAT  \n",
       "1     Kg           MEAT  \n",
       "2     Kg           MEAT  \n",
       "3      g           MEAT  \n",
       "4      g           MEAT  "
      ]
     },
     "execution_count": 41,
     "metadata": {},
     "output_type": "execute_result"
    }
   ],
   "source": [
    "# Load current Items List with assigned Emission Factors Category ID\n",
    "Items_Assigned = pd.read_csv(os.path.join(os.getcwd(), \"data\", \"mapping\", \"Items_List_Assigned.csv\"))\n",
    "Items_Assigned.head()"
   ]
  },
  {
   "cell_type": "code",
   "execution_count": 42,
   "metadata": {},
   "outputs": [
    {
     "data": {
      "text/plain": [
       "(1993, 8)"
      ]
     },
     "execution_count": 42,
     "metadata": {},
     "output_type": "execute_result"
    }
   ],
   "source": [
    "Items_Assigned.shape"
   ]
  },
  {
   "cell_type": "markdown",
   "metadata": {},
   "source": [
    "### Get the List of New Items"
   ]
  },
  {
   "cell_type": "code",
   "execution_count": 43,
   "metadata": {},
   "outputs": [],
   "source": [
    "# Filter new items by itemID that not in the database and output them in a dataframe\n",
    "col_names = list(Items.columns.values)\n",
    "New_Items_List = []\n",
    "\n",
    "for index, row in Items.iterrows():\n",
    "    ItemId = Items.loc[index,'ItemId']\n",
    "    if ItemId not in Items_Assigned['ItemId'].values:\n",
    "        Dict = {}\n",
    "        Dict.update(dict(row))\n",
    "        New_Items_List.append(Dict)\n",
    "\n",
    "New_Items = pd.DataFrame(New_Items_List, columns = col_names)"
   ]
  },
  {
   "cell_type": "code",
   "execution_count": 44,
   "metadata": {},
   "outputs": [
    {
     "data": {
      "text/html": [
       "<div>\n",
       "<style scoped>\n",
       "    .dataframe tbody tr th:only-of-type {\n",
       "        vertical-align: middle;\n",
       "    }\n",
       "\n",
       "    .dataframe tbody tr th {\n",
       "        vertical-align: top;\n",
       "    }\n",
       "\n",
       "    .dataframe thead th {\n",
       "        text-align: right;\n",
       "    }\n",
       "</style>\n",
       "<table border=\"1\" class=\"dataframe\">\n",
       "  <thead>\n",
       "    <tr style=\"text-align: right;\">\n",
       "      <th></th>\n",
       "      <th>ItemId</th>\n",
       "      <th>CategoryID</th>\n",
       "      <th>Description</th>\n",
       "      <th>CaseQty</th>\n",
       "      <th>CaseUOM</th>\n",
       "      <th>PakQty</th>\n",
       "      <th>PakUOM</th>\n",
       "      <th>InventoryGroup</th>\n",
       "    </tr>\n",
       "  </thead>\n",
       "  <tbody>\n",
       "  </tbody>\n",
       "</table>\n",
       "</div>"
      ],
      "text/plain": [
       "Empty DataFrame\n",
       "Columns: [ItemId, CategoryID, Description, CaseQty, CaseUOM, PakQty, PakUOM, InventoryGroup]\n",
       "Index: []"
      ]
     },
     "execution_count": 44,
     "metadata": {},
     "output_type": "execute_result"
    }
   ],
   "source": [
    "New_Items.insert(1, \"CategoryID\", '')\n",
    "New_Items"
   ]
  },
  {
   "cell_type": "code",
   "execution_count": 45,
   "metadata": {},
   "outputs": [
    {
     "data": {
      "text/plain": [
       "(0, 8)"
      ]
     },
     "execution_count": 45,
     "metadata": {},
     "output_type": "execute_result"
    }
   ],
   "source": [
    "New_Items.shape"
   ]
  },
  {
   "cell_type": "code",
   "execution_count": 46,
   "metadata": {},
   "outputs": [],
   "source": [
    "# Store the list of new items into .csv file\n",
    "if not New_Items.empty:\n",
    "    path = os.path.join(os.getcwd(), \"data\", \"mapping\", \"new items\", str(datetime.date(datetime.now()))+\"_New_Items.csv\")\n",
    "    New_Items.to_csv(path, index = False, header = True)"
   ]
  },
  {
   "cell_type": "markdown",
   "metadata": {},
   "source": [
    "***\n",
    "## Data Summary"
   ]
  },
  {
   "cell_type": "code",
   "execution_count": 47,
   "metadata": {},
   "outputs": [
    {
     "data": {
      "text/html": [
       "<div>\n",
       "<style scoped>\n",
       "    .dataframe tbody tr th:only-of-type {\n",
       "        vertical-align: middle;\n",
       "    }\n",
       "\n",
       "    .dataframe tbody tr th {\n",
       "        vertical-align: top;\n",
       "    }\n",
       "\n",
       "    .dataframe thead th {\n",
       "        text-align: right;\n",
       "    }\n",
       "</style>\n",
       "<table border=\"1\" class=\"dataframe\">\n",
       "  <thead>\n",
       "    <tr style=\"text-align: right;\">\n",
       "      <th></th>\n",
       "      <th>count</th>\n",
       "      <th>columns</th>\n",
       "    </tr>\n",
       "  </thead>\n",
       "  <tbody>\n",
       "    <tr>\n",
       "      <th>New_Items</th>\n",
       "      <td>0</td>\n",
       "      <td>8</td>\n",
       "    </tr>\n",
       "    <tr>\n",
       "      <th>Preps_Nonstd</th>\n",
       "      <td>0</td>\n",
       "      <td>7</td>\n",
       "    </tr>\n",
       "    <tr>\n",
       "      <th>Items_Nonstd</th>\n",
       "      <td>0</td>\n",
       "      <td>6</td>\n",
       "    </tr>\n",
       "  </tbody>\n",
       "</table>\n",
       "</div>"
      ],
      "text/plain": [
       "              count  columns\n",
       "New_Items         0        8\n",
       "Preps_Nonstd      0        7\n",
       "Items_Nonstd      0        6"
      ]
     },
     "execution_count": 47,
     "metadata": {},
     "output_type": "execute_result"
    }
   ],
   "source": [
    "datasum = pd.DataFrame([New_Items.shape, Preps_Nonstd.shape, Items_Nonstd.shape],\n",
    "                       columns = ['count', 'columns'], \n",
    "                       index = ['New_Items', 'Preps_Nonstd', 'Items_Nonstd'])\n",
    "datasum"
   ]
  }
 ],
 "metadata": {
  "kernelspec": {
   "display_name": "Python 3",
   "language": "python",
   "name": "python3"
  },
  "language_info": {
   "codemirror_mode": {
    "name": "ipython",
    "version": 3
   },
   "file_extension": ".py",
   "mimetype": "text/x-python",
   "name": "python",
   "nbconvert_exporter": "python",
   "pygments_lexer": "ipython3",
   "version": "3.8.5"
  }
 },
 "nbformat": 4,
 "nbformat_minor": 4
}
