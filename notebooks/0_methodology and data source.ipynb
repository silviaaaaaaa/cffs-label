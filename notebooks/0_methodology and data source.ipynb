{
 "cells": [
  {
   "cell_type": "markdown",
   "metadata": {},
   "source": [
    "# Climate-Friendly Food Systems (CFFS) Labelling Project\n",
    "\n",
    "### The University of British Columbia\n",
    "\n",
    "#### Created by Silvia Huang"
   ]
  },
  {
   "cell_type": "markdown",
   "metadata": {},
   "source": [
    "## Objective\n",
    "\n",
    "Implement the Climate-Friendly Food Systems (CFFS) definition at the UBC Campus by producing the weighted metric that informs the choice of icon for each menu item."
   ]
  },
  {
   "cell_type": "markdown",
   "metadata": {},
   "source": [
    "## Data Source\n",
    "\n",
    "**Recipes Data**: extracted from UBC culinary services management platform Optimum Control\n",
    "    \n",
    "    Items.xml: Raw ingredient Items\n",
    "    Ingredients.xml: Ingredients/Preps that goes into prep/products recipes\n",
    "    Preps.xml: Preps that go into final product recipes\n",
    "    Products.xml: Final Recipes/Menu Items\n",
    "    Conversions.xml: Unit Conversion Information\n",
    "\n",
    "**cool_food_ghg.csv**: extracted from the [Cool Food Calculator](https://coolfood.org/pledge/). For this project, we use emission factors for the active total supply chain emissions in the North America region. The food category is at the detailed level for higher results accuracy.\n",
    "\n",
    "**standard_conversions.csv**: standard unit conversion information"
   ]
  },
  {
   "cell_type": "markdown",
   "metadata": {},
   "source": [
    "## Assumptions\n",
    "\n",
    "* The same GHG emission factor will be assigned to different forms (puree, sliced, chopped etc) of the same raw ingredient\n",
    "\n",
    "* We assume the GHG factors for different varieties of one ingredient are the same (i.e Red/Yellow Onion)\n",
    "\n",
    "* The loss/add of ingredient weight during the cooking process will be ignored\n",
    "\n",
    "* The amount of unusable part and wastes during the ingredients processing process will be ignored \n",
    "\n",
    "* Ignore GHG emissions from the cooking process\n",
    "\n",
    "* Assume the GHG emission factor for water is zero, and ignore the water use in the cooking process\n",
    "\n",
    "* We exclude the GHG emission from sauces/dressing that has no dominant ingredients"
   ]
  },
  {
   "cell_type": "code",
   "execution_count": null,
   "metadata": {},
   "outputs": [],
   "source": []
  }
 ],
 "metadata": {
  "kernelspec": {
   "display_name": "Python 3",
   "language": "python",
   "name": "python3"
  },
  "language_info": {
   "codemirror_mode": {
    "name": "ipython",
    "version": 3
   },
   "file_extension": ".py",
   "mimetype": "text/x-python",
   "name": "python",
   "nbconvert_exporter": "python",
   "pygments_lexer": "ipython3",
   "version": "3.8.5"
  }
 },
 "nbformat": 4,
 "nbformat_minor": 4
}
