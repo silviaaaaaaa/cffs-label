{
 "cells": [
  {
   "cell_type": "markdown",
   "metadata": {},
   "source": [
    "# Climate-Friendly Food Systems (CFFS) Labelling Project\n",
    "\n",
    "### The University of British Columbia\n",
    "\n",
    "#### Created by Silvia Huang, CFFS Data Analyst\n",
    "***\n",
    "\n",
    "## Part IV: Data Analysis"
   ]
  },
  {
   "cell_type": "markdown",
   "metadata": {},
   "source": [
    "## Set up and Import Libraries"
   ]
  },
  {
   "cell_type": "code",
   "execution_count": 1,
   "metadata": {},
   "outputs": [],
   "source": [
    "#pip install -r requirements.txt"
   ]
  },
  {
   "cell_type": "code",
   "execution_count": 2,
   "metadata": {},
   "outputs": [],
   "source": [
    "import numpy as np\n",
    "import pandas as pd\n",
    "import pdpipe as pdp\n",
    "import matplotlib.pyplot as plt\n",
    "import glob\n",
    "import os\n",
    "import csv\n",
    "from itertools import islice\n",
    "from decimal import Decimal\n",
    "import xml.etree.ElementTree as et\n",
    "from xml.etree.ElementTree import parse\n",
    "import openpyxl\n",
    "import pytest\n",
    "pd.set_option('mode.chained_assignment', None)"
   ]
  },
  {
   "cell_type": "code",
   "execution_count": 3,
   "metadata": {},
   "outputs": [],
   "source": [
    "# Set the root path, change the the current working directory into the project folder\n",
    "path = \"/Users/silvia/cffs-label\"\n",
    "os.chdir(path)"
   ]
  },
  {
   "cell_type": "code",
   "execution_count": 4,
   "metadata": {},
   "outputs": [],
   "source": [
    "# Enable reading data table in the scrolling window if you prefer\n",
    "#pd.set_option(\"display.max_rows\", None, \"display.max_columns\", None)"
   ]
  },
  {
   "cell_type": "markdown",
   "metadata": {},
   "source": [
    "***\n",
    "## Import Cleaned Datasets"
   ]
  },
  {
   "cell_type": "code",
   "execution_count": 5,
   "metadata": {
    "scrolled": true
   },
   "outputs": [
    {
     "data": {
      "text/plain": [
       "ItemId             object\n",
       "Description        object\n",
       "CaseQty           float64\n",
       "CaseUOM            object\n",
       "PakQty            float64\n",
       "PakUOM             object\n",
       "InventoryGroup     object\n",
       "dtype: object"
      ]
     },
     "execution_count": 5,
     "metadata": {},
     "output_type": "execute_result"
    }
   ],
   "source": [
    "Items = pd.read_csv(os.path.join(os.getcwd(), \"data\", \"preprocessed\", \"Items_List.csv\"))\n",
    "Items.dtypes"
   ]
  },
  {
   "cell_type": "code",
   "execution_count": 6,
   "metadata": {},
   "outputs": [
    {
     "data": {
      "text/html": [
       "<div>\n",
       "<style scoped>\n",
       "    .dataframe tbody tr th:only-of-type {\n",
       "        vertical-align: middle;\n",
       "    }\n",
       "\n",
       "    .dataframe tbody tr th {\n",
       "        vertical-align: top;\n",
       "    }\n",
       "\n",
       "    .dataframe thead th {\n",
       "        text-align: right;\n",
       "    }\n",
       "</style>\n",
       "<table border=\"1\" class=\"dataframe\">\n",
       "  <thead>\n",
       "    <tr style=\"text-align: right;\">\n",
       "      <th></th>\n",
       "      <th>ItemId</th>\n",
       "      <th>Description</th>\n",
       "      <th>CaseQty</th>\n",
       "      <th>CaseUOM</th>\n",
       "      <th>PakQty</th>\n",
       "      <th>PakUOM</th>\n",
       "      <th>InventoryGroup</th>\n",
       "    </tr>\n",
       "  </thead>\n",
       "  <tbody>\n",
       "    <tr>\n",
       "      <th>0</th>\n",
       "      <td>I-4271</td>\n",
       "      <td>APPLES GRANNY SMITH</td>\n",
       "      <td>113.0</td>\n",
       "      <td>ea</td>\n",
       "      <td>1.0</td>\n",
       "      <td>CT</td>\n",
       "      <td>PRODUCE</td>\n",
       "    </tr>\n",
       "    <tr>\n",
       "      <th>1</th>\n",
       "      <td>I-4971</td>\n",
       "      <td>ARTICHOKE 1/4 SALAD CUT TFC</td>\n",
       "      <td>6.0</td>\n",
       "      <td>LG CAN</td>\n",
       "      <td>2.5</td>\n",
       "      <td>Kg</td>\n",
       "      <td>PRODUCE</td>\n",
       "    </tr>\n",
       "    <tr>\n",
       "      <th>2</th>\n",
       "      <td>I-2305</td>\n",
       "      <td>BACON PANCETTA</td>\n",
       "      <td>1.0</td>\n",
       "      <td>Kg</td>\n",
       "      <td>1.0</td>\n",
       "      <td>Kg</td>\n",
       "      <td>MEAT</td>\n",
       "    </tr>\n",
       "    <tr>\n",
       "      <th>3</th>\n",
       "      <td>I-1207</td>\n",
       "      <td>BAGUETTE FRENCH</td>\n",
       "      <td>24.0</td>\n",
       "      <td>each</td>\n",
       "      <td>1.0</td>\n",
       "      <td>CT</td>\n",
       "      <td>BREAD</td>\n",
       "    </tr>\n",
       "    <tr>\n",
       "      <th>4</th>\n",
       "      <td>I-17203</td>\n",
       "      <td>BALSAMIC GLAZE</td>\n",
       "      <td>2.0</td>\n",
       "      <td>bottle</td>\n",
       "      <td>2.0</td>\n",
       "      <td>L</td>\n",
       "      <td>FOOD - GROCERY</td>\n",
       "    </tr>\n",
       "  </tbody>\n",
       "</table>\n",
       "</div>"
      ],
      "text/plain": [
       "    ItemId                  Description  CaseQty CaseUOM  PakQty PakUOM  \\\n",
       "0   I-4271          APPLES GRANNY SMITH    113.0      ea     1.0     CT   \n",
       "1   I-4971  ARTICHOKE 1/4 SALAD CUT TFC      6.0  LG CAN     2.5     Kg   \n",
       "2   I-2305               BACON PANCETTA      1.0      Kg     1.0     Kg   \n",
       "3   I-1207              BAGUETTE FRENCH     24.0    each     1.0     CT   \n",
       "4  I-17203               BALSAMIC GLAZE      2.0  bottle     2.0      L   \n",
       "\n",
       "   InventoryGroup  \n",
       "0         PRODUCE  \n",
       "1         PRODUCE  \n",
       "2            MEAT  \n",
       "3           BREAD  \n",
       "4  FOOD - GROCERY  "
      ]
     },
     "execution_count": 6,
     "metadata": {},
     "output_type": "execute_result"
    }
   ],
   "source": [
    "Items.head()"
   ]
  },
  {
   "cell_type": "code",
   "execution_count": 7,
   "metadata": {},
   "outputs": [
    {
     "data": {
      "text/plain": [
       "IngredientId     object\n",
       "Qty             float64\n",
       "Uom              object\n",
       "Conversion      float64\n",
       "InvFactor       float64\n",
       "Recipe           object\n",
       "dtype: object"
      ]
     },
     "execution_count": 7,
     "metadata": {},
     "output_type": "execute_result"
    }
   ],
   "source": [
    "Ingredients = pd.read_csv(os.path.join(os.getcwd(), \"data\", \"preprocessed\", \"Ingredients_List.csv\"))\n",
    "Ingredients.dtypes"
   ]
  },
  {
   "cell_type": "code",
   "execution_count": 8,
   "metadata": {},
   "outputs": [
    {
     "data": {
      "text/html": [
       "<div>\n",
       "<style scoped>\n",
       "    .dataframe tbody tr th:only-of-type {\n",
       "        vertical-align: middle;\n",
       "    }\n",
       "\n",
       "    .dataframe tbody tr th {\n",
       "        vertical-align: top;\n",
       "    }\n",
       "\n",
       "    .dataframe thead th {\n",
       "        text-align: right;\n",
       "    }\n",
       "</style>\n",
       "<table border=\"1\" class=\"dataframe\">\n",
       "  <thead>\n",
       "    <tr style=\"text-align: right;\">\n",
       "      <th></th>\n",
       "      <th>IngredientId</th>\n",
       "      <th>Qty</th>\n",
       "      <th>Uom</th>\n",
       "      <th>Conversion</th>\n",
       "      <th>InvFactor</th>\n",
       "      <th>Recipe</th>\n",
       "    </tr>\n",
       "  </thead>\n",
       "  <tbody>\n",
       "    <tr>\n",
       "      <th>0</th>\n",
       "      <td>P-18746</td>\n",
       "      <td>1.00</td>\n",
       "      <td>Kg</td>\n",
       "      <td>1.00000</td>\n",
       "      <td>1.0000</td>\n",
       "      <td>P-10241</td>\n",
       "    </tr>\n",
       "    <tr>\n",
       "      <th>1</th>\n",
       "      <td>I-3388</td>\n",
       "      <td>1.00</td>\n",
       "      <td>L</td>\n",
       "      <td>1.00000</td>\n",
       "      <td>0.3058</td>\n",
       "      <td>P-10496</td>\n",
       "    </tr>\n",
       "    <tr>\n",
       "      <th>2</th>\n",
       "      <td>I-4660</td>\n",
       "      <td>2.27</td>\n",
       "      <td>Kg</td>\n",
       "      <td>2.20462</td>\n",
       "      <td>0.6942</td>\n",
       "      <td>P-10496</td>\n",
       "    </tr>\n",
       "    <tr>\n",
       "      <th>3</th>\n",
       "      <td>I-3451</td>\n",
       "      <td>2.56</td>\n",
       "      <td>L</td>\n",
       "      <td>1.00000</td>\n",
       "      <td>1.2800</td>\n",
       "      <td>P-13933</td>\n",
       "    </tr>\n",
       "    <tr>\n",
       "      <th>4</th>\n",
       "      <td>I-4679</td>\n",
       "      <td>1.00</td>\n",
       "      <td>BUNCH</td>\n",
       "      <td>1.00000</td>\n",
       "      <td>0.0063</td>\n",
       "      <td>P-18318</td>\n",
       "    </tr>\n",
       "  </tbody>\n",
       "</table>\n",
       "</div>"
      ],
      "text/plain": [
       "  IngredientId   Qty    Uom  Conversion  InvFactor   Recipe\n",
       "0      P-18746  1.00     Kg     1.00000     1.0000  P-10241\n",
       "1       I-3388  1.00      L     1.00000     0.3058  P-10496\n",
       "2       I-4660  2.27     Kg     2.20462     0.6942  P-10496\n",
       "3       I-3451  2.56      L     1.00000     1.2800  P-13933\n",
       "4       I-4679  1.00  BUNCH     1.00000     0.0063  P-18318"
      ]
     },
     "execution_count": 8,
     "metadata": {},
     "output_type": "execute_result"
    }
   ],
   "source": [
    "Ingredients.head()"
   ]
  },
  {
   "cell_type": "code",
   "execution_count": 9,
   "metadata": {
    "scrolled": true
   },
   "outputs": [
    {
     "data": {
      "text/plain": [
       "PrepId             object\n",
       "Description        object\n",
       "PakQty            float64\n",
       "PakUOM             object\n",
       "InventoryGroup     object\n",
       "StdQty            float64\n",
       "StdUom             object\n",
       "dtype: object"
      ]
     },
     "execution_count": 9,
     "metadata": {},
     "output_type": "execute_result"
    }
   ],
   "source": [
    "Preps = pd.read_csv(os.path.join(os.getcwd(), \"data\", \"cleaning\", \"Preps_List_Cleaned.csv\"))\n",
    "Preps.dtypes"
   ]
  },
  {
   "cell_type": "code",
   "execution_count": 10,
   "metadata": {},
   "outputs": [
    {
     "data": {
      "text/plain": [
       "(752, 7)"
      ]
     },
     "execution_count": 10,
     "metadata": {},
     "output_type": "execute_result"
    }
   ],
   "source": [
    "Preps.head()\n",
    "Preps.shape"
   ]
  },
  {
   "cell_type": "code",
   "execution_count": 11,
   "metadata": {},
   "outputs": [
    {
     "data": {
      "text/plain": [
       "ProdId         object\n",
       "Description    object\n",
       "SalesGroup     object\n",
       "dtype: object"
      ]
     },
     "execution_count": 11,
     "metadata": {},
     "output_type": "execute_result"
    }
   ],
   "source": [
    "Products = pd.read_csv(os.path.join(os.getcwd(), \"data\", \"preprocessed\", \"Products_List.csv\"))\n",
    "Products.dtypes"
   ]
  },
  {
   "cell_type": "code",
   "execution_count": 12,
   "metadata": {},
   "outputs": [
    {
     "data": {
      "text/html": [
       "<div>\n",
       "<style scoped>\n",
       "    .dataframe tbody tr th:only-of-type {\n",
       "        vertical-align: middle;\n",
       "    }\n",
       "\n",
       "    .dataframe tbody tr th {\n",
       "        vertical-align: top;\n",
       "    }\n",
       "\n",
       "    .dataframe thead th {\n",
       "        text-align: right;\n",
       "    }\n",
       "</style>\n",
       "<table border=\"1\" class=\"dataframe\">\n",
       "  <thead>\n",
       "    <tr style=\"text-align: right;\">\n",
       "      <th></th>\n",
       "      <th>ProdId</th>\n",
       "      <th>Description</th>\n",
       "      <th>SalesGroup</th>\n",
       "    </tr>\n",
       "  </thead>\n",
       "  <tbody>\n",
       "    <tr>\n",
       "      <th>0</th>\n",
       "      <td>R-61778</td>\n",
       "      <td>ALF|Flatbread|4 Cheese</td>\n",
       "      <td>OK - AL FORNO</td>\n",
       "    </tr>\n",
       "    <tr>\n",
       "      <th>1</th>\n",
       "      <td>R-61780</td>\n",
       "      <td>ALF|Flatbread|Apple &amp; Pancetta</td>\n",
       "      <td>OK - AL FORNO</td>\n",
       "    </tr>\n",
       "    <tr>\n",
       "      <th>2</th>\n",
       "      <td>R-61749</td>\n",
       "      <td>ALF|Flatbread|BBQ Chicken</td>\n",
       "      <td>OK - AL FORNO</td>\n",
       "    </tr>\n",
       "    <tr>\n",
       "      <th>3</th>\n",
       "      <td>R-50859</td>\n",
       "      <td>ALF|Flatbread|Bruschetta</td>\n",
       "      <td>OK - AL FORNO</td>\n",
       "    </tr>\n",
       "    <tr>\n",
       "      <th>4</th>\n",
       "      <td>R-50788</td>\n",
       "      <td>ALF|Flatbread|Caprese</td>\n",
       "      <td>OK - AL FORNO</td>\n",
       "    </tr>\n",
       "  </tbody>\n",
       "</table>\n",
       "</div>"
      ],
      "text/plain": [
       "    ProdId                     Description     SalesGroup\n",
       "0  R-61778          ALF|Flatbread|4 Cheese  OK - AL FORNO\n",
       "1  R-61780  ALF|Flatbread|Apple & Pancetta  OK - AL FORNO\n",
       "2  R-61749       ALF|Flatbread|BBQ Chicken  OK - AL FORNO\n",
       "3  R-50859        ALF|Flatbread|Bruschetta  OK - AL FORNO\n",
       "4  R-50788           ALF|Flatbread|Caprese  OK - AL FORNO"
      ]
     },
     "execution_count": 12,
     "metadata": {},
     "output_type": "execute_result"
    }
   ],
   "source": [
    "Products.head()"
   ]
  },
  {
   "cell_type": "code",
   "execution_count": 13,
   "metadata": {},
   "outputs": [
    {
     "data": {
      "text/plain": [
       "ConversionId       object\n",
       "Multiplier        float64\n",
       "ConvertFromQty    float64\n",
       "ConvertFromUom     object\n",
       "ConvertToQty      float64\n",
       "ConvertToUom       object\n",
       "dtype: object"
      ]
     },
     "execution_count": 13,
     "metadata": {},
     "output_type": "execute_result"
    }
   ],
   "source": [
    "Conversions = pd.read_csv(os.path.join(os.getcwd(), \"data\", \"cleaning\", \"Conversions_Added.csv\"))\n",
    "Conversions.dtypes"
   ]
  },
  {
   "cell_type": "code",
   "execution_count": 14,
   "metadata": {},
   "outputs": [
    {
     "data": {
      "text/html": [
       "<div>\n",
       "<style scoped>\n",
       "    .dataframe tbody tr th:only-of-type {\n",
       "        vertical-align: middle;\n",
       "    }\n",
       "\n",
       "    .dataframe tbody tr th {\n",
       "        vertical-align: top;\n",
       "    }\n",
       "\n",
       "    .dataframe thead th {\n",
       "        text-align: right;\n",
       "    }\n",
       "</style>\n",
       "<table border=\"1\" class=\"dataframe\">\n",
       "  <thead>\n",
       "    <tr style=\"text-align: right;\">\n",
       "      <th></th>\n",
       "      <th>ConversionId</th>\n",
       "      <th>Multiplier</th>\n",
       "      <th>ConvertFromQty</th>\n",
       "      <th>ConvertFromUom</th>\n",
       "      <th>ConvertToQty</th>\n",
       "      <th>ConvertToUom</th>\n",
       "    </tr>\n",
       "  </thead>\n",
       "  <tbody>\n",
       "    <tr>\n",
       "      <th>0</th>\n",
       "      <td>NaN</td>\n",
       "      <td>1.000000</td>\n",
       "      <td>1.0</td>\n",
       "      <td>XXX</td>\n",
       "      <td>1.00</td>\n",
       "      <td>L</td>\n",
       "    </tr>\n",
       "    <tr>\n",
       "      <th>1</th>\n",
       "      <td>NaN</td>\n",
       "      <td>0.877193</td>\n",
       "      <td>1.0</td>\n",
       "      <td>1.14L</td>\n",
       "      <td>1.14</td>\n",
       "      <td>L</td>\n",
       "    </tr>\n",
       "    <tr>\n",
       "      <th>2</th>\n",
       "      <td>NaN</td>\n",
       "      <td>0.666667</td>\n",
       "      <td>1.0</td>\n",
       "      <td>1.5L</td>\n",
       "      <td>1.50</td>\n",
       "      <td>L</td>\n",
       "    </tr>\n",
       "    <tr>\n",
       "      <th>3</th>\n",
       "      <td>NaN</td>\n",
       "      <td>0.571429</td>\n",
       "      <td>1.0</td>\n",
       "      <td>1.75 L</td>\n",
       "      <td>1.75</td>\n",
       "      <td>L</td>\n",
       "    </tr>\n",
       "    <tr>\n",
       "      <th>4</th>\n",
       "      <td>NaN</td>\n",
       "      <td>0.500000</td>\n",
       "      <td>1.0</td>\n",
       "      <td>2L</td>\n",
       "      <td>2.00</td>\n",
       "      <td>L</td>\n",
       "    </tr>\n",
       "    <tr>\n",
       "      <th>...</th>\n",
       "      <td>...</td>\n",
       "      <td>...</td>\n",
       "      <td>...</td>\n",
       "      <td>...</td>\n",
       "      <td>...</td>\n",
       "      <td>...</td>\n",
       "    </tr>\n",
       "    <tr>\n",
       "      <th>585</th>\n",
       "      <td>P-32664</td>\n",
       "      <td>0.016393</td>\n",
       "      <td>1.0</td>\n",
       "      <td>each</td>\n",
       "      <td>61.00</td>\n",
       "      <td>g</td>\n",
       "    </tr>\n",
       "    <tr>\n",
       "      <th>586</th>\n",
       "      <td>P-55707</td>\n",
       "      <td>0.005405</td>\n",
       "      <td>1.0</td>\n",
       "      <td>PTN</td>\n",
       "      <td>185.00</td>\n",
       "      <td>g</td>\n",
       "    </tr>\n",
       "    <tr>\n",
       "      <th>587</th>\n",
       "      <td>P-55709</td>\n",
       "      <td>0.005405</td>\n",
       "      <td>1.0</td>\n",
       "      <td>PTN</td>\n",
       "      <td>185.00</td>\n",
       "      <td>g</td>\n",
       "    </tr>\n",
       "    <tr>\n",
       "      <th>588</th>\n",
       "      <td>P-62293</td>\n",
       "      <td>0.005405</td>\n",
       "      <td>1.0</td>\n",
       "      <td>PTN</td>\n",
       "      <td>185.00</td>\n",
       "      <td>g</td>\n",
       "    </tr>\n",
       "    <tr>\n",
       "      <th>589</th>\n",
       "      <td>P-62023</td>\n",
       "      <td>0.006452</td>\n",
       "      <td>1.0</td>\n",
       "      <td>ROLL</td>\n",
       "      <td>155.00</td>\n",
       "      <td>g</td>\n",
       "    </tr>\n",
       "  </tbody>\n",
       "</table>\n",
       "<p>590 rows × 6 columns</p>\n",
       "</div>"
      ],
      "text/plain": [
       "    ConversionId  Multiplier  ConvertFromQty ConvertFromUom  ConvertToQty  \\\n",
       "0            NaN    1.000000             1.0            XXX          1.00   \n",
       "1            NaN    0.877193             1.0          1.14L          1.14   \n",
       "2            NaN    0.666667             1.0           1.5L          1.50   \n",
       "3            NaN    0.571429             1.0         1.75 L          1.75   \n",
       "4            NaN    0.500000             1.0             2L          2.00   \n",
       "..           ...         ...             ...            ...           ...   \n",
       "585      P-32664    0.016393             1.0           each         61.00   \n",
       "586      P-55707    0.005405             1.0            PTN        185.00   \n",
       "587      P-55709    0.005405             1.0            PTN        185.00   \n",
       "588      P-62293    0.005405             1.0            PTN        185.00   \n",
       "589      P-62023    0.006452             1.0           ROLL        155.00   \n",
       "\n",
       "    ConvertToUom  \n",
       "0              L  \n",
       "1              L  \n",
       "2              L  \n",
       "3              L  \n",
       "4              L  \n",
       "..           ...  \n",
       "585            g  \n",
       "586            g  \n",
       "587            g  \n",
       "588            g  \n",
       "589            g  \n",
       "\n",
       "[590 rows x 6 columns]"
      ]
     },
     "execution_count": 14,
     "metadata": {},
     "output_type": "execute_result"
    }
   ],
   "source": [
    "Conversions"
   ]
  },
  {
   "cell_type": "code",
   "execution_count": 15,
   "metadata": {},
   "outputs": [
    {
     "data": {
      "text/plain": [
       "ItemId                                                     object\n",
       "CategoryID                                                  int64\n",
       "Description                                                object\n",
       "CaseQty                                                   float64\n",
       "CaseUOM                                                    object\n",
       "PakQty                                                    float64\n",
       "PakUOM                                                     object\n",
       "InventoryGroup                                             object\n",
       "Active Total Supply Chain Emissions (kg CO2 / kg food)    float64\n",
       "g N lost/kg product                                       float64\n",
       "Freshwater Withdrawals (L/FU)                             float64\n",
       "Stress-Weighted Water Use (L/FU)                          float64\n",
       "dtype: object"
      ]
     },
     "execution_count": 15,
     "metadata": {},
     "output_type": "execute_result"
    }
   ],
   "source": [
    "mapping = pd.read_csv(os.path.join(os.getcwd(), \"data\", \"mapping\", \"Mapping.csv\"))\n",
    "mapping.dtypes"
   ]
  },
  {
   "cell_type": "code",
   "execution_count": 16,
   "metadata": {},
   "outputs": [
    {
     "data": {
      "text/html": [
       "<div>\n",
       "<style scoped>\n",
       "    .dataframe tbody tr th:only-of-type {\n",
       "        vertical-align: middle;\n",
       "    }\n",
       "\n",
       "    .dataframe tbody tr th {\n",
       "        vertical-align: top;\n",
       "    }\n",
       "\n",
       "    .dataframe thead th {\n",
       "        text-align: right;\n",
       "    }\n",
       "</style>\n",
       "<table border=\"1\" class=\"dataframe\">\n",
       "  <thead>\n",
       "    <tr style=\"text-align: right;\">\n",
       "      <th></th>\n",
       "      <th>ItemId</th>\n",
       "      <th>CategoryID</th>\n",
       "      <th>Description</th>\n",
       "      <th>CaseQty</th>\n",
       "      <th>CaseUOM</th>\n",
       "      <th>PakQty</th>\n",
       "      <th>PakUOM</th>\n",
       "      <th>InventoryGroup</th>\n",
       "      <th>Active Total Supply Chain Emissions (kg CO2 / kg food)</th>\n",
       "      <th>g N lost/kg product</th>\n",
       "      <th>Freshwater Withdrawals (L/FU)</th>\n",
       "      <th>Stress-Weighted Water Use (L/FU)</th>\n",
       "    </tr>\n",
       "  </thead>\n",
       "  <tbody>\n",
       "    <tr>\n",
       "      <th>0</th>\n",
       "      <td>I-57545</td>\n",
       "      <td>1</td>\n",
       "      <td>CHUCK FLAT BONELESS FZN</td>\n",
       "      <td>3.30</td>\n",
       "      <td>Kg</td>\n",
       "      <td>1.0</td>\n",
       "      <td>Kg</td>\n",
       "      <td>MEAT</td>\n",
       "      <td>41.3463</td>\n",
       "      <td>329.50</td>\n",
       "      <td>1677.2</td>\n",
       "      <td>61309.0</td>\n",
       "    </tr>\n",
       "    <tr>\n",
       "      <th>1</th>\n",
       "      <td>I-10869</td>\n",
       "      <td>1</td>\n",
       "      <td>BEEF STIRFRY COV FR</td>\n",
       "      <td>5.00</td>\n",
       "      <td>Kg</td>\n",
       "      <td>1.0</td>\n",
       "      <td>Kg</td>\n",
       "      <td>MEAT</td>\n",
       "      <td>41.3463</td>\n",
       "      <td>329.50</td>\n",
       "      <td>1677.2</td>\n",
       "      <td>61309.0</td>\n",
       "    </tr>\n",
       "    <tr>\n",
       "      <th>2</th>\n",
       "      <td>I-7064</td>\n",
       "      <td>1</td>\n",
       "      <td>BEEF OUTSIDE FLAT AAA</td>\n",
       "      <td>1.00</td>\n",
       "      <td>Kg</td>\n",
       "      <td>1.0</td>\n",
       "      <td>Kg</td>\n",
       "      <td>MEAT</td>\n",
       "      <td>41.3463</td>\n",
       "      <td>329.50</td>\n",
       "      <td>1677.2</td>\n",
       "      <td>61309.0</td>\n",
       "    </tr>\n",
       "    <tr>\n",
       "      <th>3</th>\n",
       "      <td>I-37005</td>\n",
       "      <td>1</td>\n",
       "      <td>BEEF MEATBALLS</td>\n",
       "      <td>4.54</td>\n",
       "      <td>Kg</td>\n",
       "      <td>1000.0</td>\n",
       "      <td>g</td>\n",
       "      <td>MEAT</td>\n",
       "      <td>41.3463</td>\n",
       "      <td>329.50</td>\n",
       "      <td>1677.2</td>\n",
       "      <td>61309.0</td>\n",
       "    </tr>\n",
       "    <tr>\n",
       "      <th>4</th>\n",
       "      <td>I-37002</td>\n",
       "      <td>1</td>\n",
       "      <td>BEEF INSIDE ROUND SHAVED</td>\n",
       "      <td>9.00</td>\n",
       "      <td>Kg</td>\n",
       "      <td>1000.0</td>\n",
       "      <td>g</td>\n",
       "      <td>MEAT</td>\n",
       "      <td>41.3463</td>\n",
       "      <td>329.50</td>\n",
       "      <td>1677.2</td>\n",
       "      <td>61309.0</td>\n",
       "    </tr>\n",
       "    <tr>\n",
       "      <th>...</th>\n",
       "      <td>...</td>\n",
       "      <td>...</td>\n",
       "      <td>...</td>\n",
       "      <td>...</td>\n",
       "      <td>...</td>\n",
       "      <td>...</td>\n",
       "      <td>...</td>\n",
       "      <td>...</td>\n",
       "      <td>...</td>\n",
       "      <td>...</td>\n",
       "      <td>...</td>\n",
       "      <td>...</td>\n",
       "    </tr>\n",
       "    <tr>\n",
       "      <th>1988</th>\n",
       "      <td>I-62863</td>\n",
       "      <td>59</td>\n",
       "      <td>CK|G&amp;G|HMR|Meat Ball &amp; Pasta.</td>\n",
       "      <td>1.00</td>\n",
       "      <td>ea</td>\n",
       "      <td>1.0</td>\n",
       "      <td>ea</td>\n",
       "      <td>PRODUCTION FOOD</td>\n",
       "      <td>0.0000</td>\n",
       "      <td>0.00</td>\n",
       "      <td>0.0</td>\n",
       "      <td>0.0</td>\n",
       "    </tr>\n",
       "    <tr>\n",
       "      <th>1989</th>\n",
       "      <td>I-19923</td>\n",
       "      <td>12</td>\n",
       "      <td>HALIBUT STEAK 4OZ.OW</td>\n",
       "      <td>1.00</td>\n",
       "      <td>lb</td>\n",
       "      <td>1.0</td>\n",
       "      <td>lb</td>\n",
       "      <td>SEAFOOD</td>\n",
       "      <td>4.9798</td>\n",
       "      <td>70.30</td>\n",
       "      <td>1580.5</td>\n",
       "      <td>8483.4</td>\n",
       "    </tr>\n",
       "    <tr>\n",
       "      <th>1990</th>\n",
       "      <td>I-8105</td>\n",
       "      <td>12</td>\n",
       "      <td>SAL LOX SMK SLC OW</td>\n",
       "      <td>1.00</td>\n",
       "      <td>lb</td>\n",
       "      <td>1.0</td>\n",
       "      <td>lb</td>\n",
       "      <td>SEAFOOD</td>\n",
       "      <td>4.9798</td>\n",
       "      <td>70.30</td>\n",
       "      <td>1580.5</td>\n",
       "      <td>8483.4</td>\n",
       "    </tr>\n",
       "    <tr>\n",
       "      <th>1991</th>\n",
       "      <td>I-3094</td>\n",
       "      <td>54</td>\n",
       "      <td>PEPPERCORN BLACK WHOLE</td>\n",
       "      <td>3.00</td>\n",
       "      <td>Kg</td>\n",
       "      <td>1.0</td>\n",
       "      <td>Kg</td>\n",
       "      <td>SPICES</td>\n",
       "      <td>9.3703</td>\n",
       "      <td>6.75</td>\n",
       "      <td>24.9</td>\n",
       "      <td>220.3</td>\n",
       "    </tr>\n",
       "    <tr>\n",
       "      <th>1992</th>\n",
       "      <td>I-16060</td>\n",
       "      <td>54</td>\n",
       "      <td>SUMAC GROUND</td>\n",
       "      <td>1.00</td>\n",
       "      <td>each</td>\n",
       "      <td>454.0</td>\n",
       "      <td>g</td>\n",
       "      <td>SPICES</td>\n",
       "      <td>9.3703</td>\n",
       "      <td>6.75</td>\n",
       "      <td>24.9</td>\n",
       "      <td>220.3</td>\n",
       "    </tr>\n",
       "  </tbody>\n",
       "</table>\n",
       "<p>1993 rows × 12 columns</p>\n",
       "</div>"
      ],
      "text/plain": [
       "       ItemId  CategoryID                    Description  CaseQty CaseUOM  \\\n",
       "0     I-57545           1        CHUCK FLAT BONELESS FZN     3.30      Kg   \n",
       "1     I-10869           1            BEEF STIRFRY COV FR     5.00      Kg   \n",
       "2      I-7064           1          BEEF OUTSIDE FLAT AAA     1.00      Kg   \n",
       "3     I-37005           1                 BEEF MEATBALLS     4.54      Kg   \n",
       "4     I-37002           1       BEEF INSIDE ROUND SHAVED     9.00      Kg   \n",
       "...       ...         ...                            ...      ...     ...   \n",
       "1988  I-62863          59  CK|G&G|HMR|Meat Ball & Pasta.     1.00      ea   \n",
       "1989  I-19923          12           HALIBUT STEAK 4OZ.OW     1.00      lb   \n",
       "1990   I-8105          12             SAL LOX SMK SLC OW     1.00      lb   \n",
       "1991   I-3094          54        PEPPERCORN BLACK WHOLE      3.00      Kg   \n",
       "1992  I-16060          54                   SUMAC GROUND     1.00    each   \n",
       "\n",
       "      PakQty PakUOM   InventoryGroup  \\\n",
       "0        1.0     Kg             MEAT   \n",
       "1        1.0     Kg             MEAT   \n",
       "2        1.0     Kg             MEAT   \n",
       "3     1000.0      g             MEAT   \n",
       "4     1000.0      g             MEAT   \n",
       "...      ...    ...              ...   \n",
       "1988     1.0     ea  PRODUCTION FOOD   \n",
       "1989     1.0     lb          SEAFOOD   \n",
       "1990     1.0     lb          SEAFOOD   \n",
       "1991     1.0     Kg           SPICES   \n",
       "1992   454.0      g           SPICES   \n",
       "\n",
       "      Active Total Supply Chain Emissions (kg CO2 / kg food)  \\\n",
       "0                                               41.3463        \n",
       "1                                               41.3463        \n",
       "2                                               41.3463        \n",
       "3                                               41.3463        \n",
       "4                                               41.3463        \n",
       "...                                                 ...        \n",
       "1988                                             0.0000        \n",
       "1989                                             4.9798        \n",
       "1990                                             4.9798        \n",
       "1991                                             9.3703        \n",
       "1992                                             9.3703        \n",
       "\n",
       "      g N lost/kg product  Freshwater Withdrawals (L/FU)  \\\n",
       "0                  329.50                         1677.2   \n",
       "1                  329.50                         1677.2   \n",
       "2                  329.50                         1677.2   \n",
       "3                  329.50                         1677.2   \n",
       "4                  329.50                         1677.2   \n",
       "...                   ...                            ...   \n",
       "1988                 0.00                            0.0   \n",
       "1989                70.30                         1580.5   \n",
       "1990                70.30                         1580.5   \n",
       "1991                 6.75                           24.9   \n",
       "1992                 6.75                           24.9   \n",
       "\n",
       "      Stress-Weighted Water Use (L/FU)  \n",
       "0                              61309.0  \n",
       "1                              61309.0  \n",
       "2                              61309.0  \n",
       "3                              61309.0  \n",
       "4                              61309.0  \n",
       "...                                ...  \n",
       "1988                               0.0  \n",
       "1989                            8483.4  \n",
       "1990                            8483.4  \n",
       "1991                             220.3  \n",
       "1992                             220.3  \n",
       "\n",
       "[1993 rows x 12 columns]"
      ]
     },
     "execution_count": 16,
     "metadata": {},
     "output_type": "execute_result"
    }
   ],
   "source": [
    "mapping"
   ]
  },
  {
   "cell_type": "markdown",
   "metadata": {},
   "source": [
    "### Unit Converter"
   ]
  },
  {
   "cell_type": "code",
   "execution_count": 17,
   "metadata": {
    "scrolled": true
   },
   "outputs": [
    {
     "data": {
      "text/html": [
       "<div>\n",
       "<style scoped>\n",
       "    .dataframe tbody tr th:only-of-type {\n",
       "        vertical-align: middle;\n",
       "    }\n",
       "\n",
       "    .dataframe tbody tr th {\n",
       "        vertical-align: top;\n",
       "    }\n",
       "\n",
       "    .dataframe thead th {\n",
       "        text-align: right;\n",
       "    }\n",
       "</style>\n",
       "<table border=\"1\" class=\"dataframe\">\n",
       "  <thead>\n",
       "    <tr style=\"text-align: right;\">\n",
       "      <th></th>\n",
       "      <th>Multiplier</th>\n",
       "      <th>ConvertFromQty</th>\n",
       "      <th>ConvertFromUom</th>\n",
       "      <th>ConvertToQty</th>\n",
       "      <th>ConvertToUom</th>\n",
       "    </tr>\n",
       "  </thead>\n",
       "  <tbody>\n",
       "    <tr>\n",
       "      <th>0</th>\n",
       "      <td>4.92890</td>\n",
       "      <td>1</td>\n",
       "      <td>tsp</td>\n",
       "      <td>4.92890</td>\n",
       "      <td>ml</td>\n",
       "    </tr>\n",
       "    <tr>\n",
       "      <th>1</th>\n",
       "      <td>14.78700</td>\n",
       "      <td>1</td>\n",
       "      <td>Tbsp</td>\n",
       "      <td>14.78700</td>\n",
       "      <td>ml</td>\n",
       "    </tr>\n",
       "    <tr>\n",
       "      <th>2</th>\n",
       "      <td>946.35000</td>\n",
       "      <td>1</td>\n",
       "      <td>qt</td>\n",
       "      <td>946.35000</td>\n",
       "      <td>ml</td>\n",
       "    </tr>\n",
       "    <tr>\n",
       "      <th>3</th>\n",
       "      <td>473.17625</td>\n",
       "      <td>1</td>\n",
       "      <td>pt</td>\n",
       "      <td>473.17625</td>\n",
       "      <td>ml</td>\n",
       "    </tr>\n",
       "    <tr>\n",
       "      <th>4</th>\n",
       "      <td>28.34950</td>\n",
       "      <td>1</td>\n",
       "      <td>oz</td>\n",
       "      <td>28.34950</td>\n",
       "      <td>g</td>\n",
       "    </tr>\n",
       "  </tbody>\n",
       "</table>\n",
       "</div>"
      ],
      "text/plain": [
       "   Multiplier  ConvertFromQty ConvertFromUom  ConvertToQty ConvertToUom\n",
       "0     4.92890               1            tsp       4.92890           ml\n",
       "1    14.78700               1           Tbsp      14.78700           ml\n",
       "2   946.35000               1             qt     946.35000           ml\n",
       "3   473.17625               1             pt     473.17625           ml\n",
       "4    28.34950               1             oz      28.34950            g"
      ]
     },
     "execution_count": 17,
     "metadata": {},
     "output_type": "execute_result"
    }
   ],
   "source": [
    "# Import standard unit conversion information for items\n",
    "Std_Unit = pd.read_csv(os.path.join(os.getcwd(), \"data\", \"external\", \"standard_conversions.csv\"))\n",
    "Std_Unit.head()"
   ]
  },
  {
   "cell_type": "code",
   "execution_count": 18,
   "metadata": {},
   "outputs": [
    {
     "data": {
      "text/html": [
       "<div>\n",
       "<style scoped>\n",
       "    .dataframe tbody tr th:only-of-type {\n",
       "        vertical-align: middle;\n",
       "    }\n",
       "\n",
       "    .dataframe tbody tr th {\n",
       "        vertical-align: top;\n",
       "    }\n",
       "\n",
       "    .dataframe thead th {\n",
       "        text-align: right;\n",
       "    }\n",
       "</style>\n",
       "<table border=\"1\" class=\"dataframe\">\n",
       "  <thead>\n",
       "    <tr style=\"text-align: right;\">\n",
       "      <th></th>\n",
       "      <th>PrepId</th>\n",
       "      <th>Description</th>\n",
       "      <th>PakQty</th>\n",
       "      <th>PakUOM</th>\n",
       "      <th>InventoryGroup</th>\n",
       "      <th>StdQty</th>\n",
       "      <th>StdUom</th>\n",
       "    </tr>\n",
       "  </thead>\n",
       "  <tbody>\n",
       "    <tr>\n",
       "      <th>0</th>\n",
       "      <td>P-54697</td>\n",
       "      <td>LEMON|Wedge 1/8</td>\n",
       "      <td>8.0</td>\n",
       "      <td>each</td>\n",
       "      <td>PREP</td>\n",
       "      <td>84.0</td>\n",
       "      <td>g</td>\n",
       "    </tr>\n",
       "    <tr>\n",
       "      <th>1</th>\n",
       "      <td>P-35132</td>\n",
       "      <td>MARINATED|Lemon &amp; Herb Chx</td>\n",
       "      <td>185.0</td>\n",
       "      <td>ea</td>\n",
       "      <td>PREP</td>\n",
       "      <td>24050.0</td>\n",
       "      <td>g</td>\n",
       "    </tr>\n",
       "    <tr>\n",
       "      <th>2</th>\n",
       "      <td>P-51992</td>\n",
       "      <td>YIELD|Bread|Sourdough 5/8</td>\n",
       "      <td>36.0</td>\n",
       "      <td>slice</td>\n",
       "      <td>NaN</td>\n",
       "      <td>1620.0</td>\n",
       "      <td>g</td>\n",
       "    </tr>\n",
       "    <tr>\n",
       "      <th>3</th>\n",
       "      <td>P-26234</td>\n",
       "      <td>BATCH|Roasted Garlic Bread</td>\n",
       "      <td>16.0</td>\n",
       "      <td>ea</td>\n",
       "      <td>PREP</td>\n",
       "      <td>1280.0</td>\n",
       "      <td>g</td>\n",
       "    </tr>\n",
       "    <tr>\n",
       "      <th>4</th>\n",
       "      <td>P-26170</td>\n",
       "      <td>GRILLED|NaanBread</td>\n",
       "      <td>1.0</td>\n",
       "      <td>ea</td>\n",
       "      <td>PREP</td>\n",
       "      <td>125.0</td>\n",
       "      <td>g</td>\n",
       "    </tr>\n",
       "  </tbody>\n",
       "</table>\n",
       "</div>"
      ],
      "text/plain": [
       "    PrepId                 Description  PakQty PakUOM InventoryGroup   StdQty  \\\n",
       "0  P-54697             LEMON|Wedge 1/8     8.0   each           PREP     84.0   \n",
       "1  P-35132  MARINATED|Lemon & Herb Chx   185.0     ea           PREP  24050.0   \n",
       "2  P-51992   YIELD|Bread|Sourdough 5/8    36.0  slice            NaN   1620.0   \n",
       "3  P-26234  BATCH|Roasted Garlic Bread    16.0     ea           PREP   1280.0   \n",
       "4  P-26170           GRILLED|NaanBread     1.0     ea           PREP    125.0   \n",
       "\n",
       "  StdUom  \n",
       "0      g  \n",
       "1      g  \n",
       "2      g  \n",
       "3      g  \n",
       "4      g  "
      ]
     },
     "execution_count": 18,
     "metadata": {},
     "output_type": "execute_result"
    }
   ],
   "source": [
    "# Import list of prep that need convert uom to standard uom manually\n",
    "Manual_PrepU = pd.read_csv(os.path.join(os.getcwd(), \"data\", \"cleaning\", \"update\", \"Preps_UpdateUom.csv\"))\n",
    "Manual_PrepU.head()"
   ]
  },
  {
   "cell_type": "code",
   "execution_count": 19,
   "metadata": {},
   "outputs": [
    {
     "data": {
      "text/html": [
       "<div>\n",
       "<style scoped>\n",
       "    .dataframe tbody tr th:only-of-type {\n",
       "        vertical-align: middle;\n",
       "    }\n",
       "\n",
       "    .dataframe tbody tr th {\n",
       "        vertical-align: top;\n",
       "    }\n",
       "\n",
       "    .dataframe thead th {\n",
       "        text-align: right;\n",
       "    }\n",
       "</style>\n",
       "<table border=\"1\" class=\"dataframe\">\n",
       "  <thead>\n",
       "    <tr style=\"text-align: right;\">\n",
       "      <th></th>\n",
       "      <th>ConversionId</th>\n",
       "      <th>Multiplier</th>\n",
       "      <th>ConvertFromQty</th>\n",
       "      <th>ConvertFromUom</th>\n",
       "      <th>ConvertToQty</th>\n",
       "      <th>ConvertToUom</th>\n",
       "    </tr>\n",
       "  </thead>\n",
       "  <tbody>\n",
       "    <tr>\n",
       "      <th>0</th>\n",
       "      <td>P-54697</td>\n",
       "      <td></td>\n",
       "      <td>8.0</td>\n",
       "      <td>each</td>\n",
       "      <td>84.0</td>\n",
       "      <td>g</td>\n",
       "    </tr>\n",
       "    <tr>\n",
       "      <th>1</th>\n",
       "      <td>P-35132</td>\n",
       "      <td></td>\n",
       "      <td>185.0</td>\n",
       "      <td>ea</td>\n",
       "      <td>24050.0</td>\n",
       "      <td>g</td>\n",
       "    </tr>\n",
       "    <tr>\n",
       "      <th>2</th>\n",
       "      <td>P-51992</td>\n",
       "      <td></td>\n",
       "      <td>36.0</td>\n",
       "      <td>slice</td>\n",
       "      <td>1620.0</td>\n",
       "      <td>g</td>\n",
       "    </tr>\n",
       "    <tr>\n",
       "      <th>3</th>\n",
       "      <td>P-26234</td>\n",
       "      <td></td>\n",
       "      <td>16.0</td>\n",
       "      <td>ea</td>\n",
       "      <td>1280.0</td>\n",
       "      <td>g</td>\n",
       "    </tr>\n",
       "    <tr>\n",
       "      <th>4</th>\n",
       "      <td>P-26170</td>\n",
       "      <td></td>\n",
       "      <td>1.0</td>\n",
       "      <td>ea</td>\n",
       "      <td>125.0</td>\n",
       "      <td>g</td>\n",
       "    </tr>\n",
       "  </tbody>\n",
       "</table>\n",
       "</div>"
      ],
      "text/plain": [
       "  ConversionId Multiplier  ConvertFromQty ConvertFromUom  ConvertToQty  \\\n",
       "0      P-54697                        8.0           each          84.0   \n",
       "1      P-35132                      185.0             ea       24050.0   \n",
       "2      P-51992                       36.0          slice        1620.0   \n",
       "3      P-26234                       16.0             ea        1280.0   \n",
       "4      P-26170                        1.0             ea         125.0   \n",
       "\n",
       "  ConvertToUom  \n",
       "0            g  \n",
       "1            g  \n",
       "2            g  \n",
       "3            g  \n",
       "4            g  "
      ]
     },
     "execution_count": 19,
     "metadata": {},
     "output_type": "execute_result"
    }
   ],
   "source": [
    "# Add unit conversion info for preps into converter\n",
    "Prep_cov = Manual_PrepU[['PrepId', 'PakQty','PakUOM','StdQty','StdUom']]\n",
    "Prep_cov.insert(1, \"Multiplier\", '')\n",
    "Prep_cov.columns = Conversions.columns\n",
    "Prep_cov.loc['Multiplier'] = Prep_cov['ConvertFromQty']/Prep_cov['ConvertToQty']\n",
    "Prep_cov.head()"
   ]
  },
  {
   "cell_type": "code",
   "execution_count": 20,
   "metadata": {},
   "outputs": [
    {
     "data": {
      "text/html": [
       "<div>\n",
       "<style scoped>\n",
       "    .dataframe tbody tr th:only-of-type {\n",
       "        vertical-align: middle;\n",
       "    }\n",
       "\n",
       "    .dataframe tbody tr th {\n",
       "        vertical-align: top;\n",
       "    }\n",
       "\n",
       "    .dataframe thead th {\n",
       "        text-align: right;\n",
       "    }\n",
       "</style>\n",
       "<table border=\"1\" class=\"dataframe\">\n",
       "  <thead>\n",
       "    <tr style=\"text-align: right;\">\n",
       "      <th></th>\n",
       "      <th>ConversionId</th>\n",
       "      <th>Multiplier</th>\n",
       "      <th>ConvertFromQty</th>\n",
       "      <th>ConvertFromUom</th>\n",
       "      <th>ConvertToQty</th>\n",
       "      <th>ConvertToUom</th>\n",
       "    </tr>\n",
       "  </thead>\n",
       "  <tbody>\n",
       "    <tr>\n",
       "      <th>0</th>\n",
       "      <td>NaN</td>\n",
       "      <td>1</td>\n",
       "      <td>1.0</td>\n",
       "      <td>XXX</td>\n",
       "      <td>1.00</td>\n",
       "      <td>L</td>\n",
       "    </tr>\n",
       "    <tr>\n",
       "      <th>1</th>\n",
       "      <td>NaN</td>\n",
       "      <td>0.877193</td>\n",
       "      <td>1.0</td>\n",
       "      <td>1.14L</td>\n",
       "      <td>1.14</td>\n",
       "      <td>L</td>\n",
       "    </tr>\n",
       "    <tr>\n",
       "      <th>2</th>\n",
       "      <td>NaN</td>\n",
       "      <td>0.666667</td>\n",
       "      <td>1.0</td>\n",
       "      <td>1.5L</td>\n",
       "      <td>1.50</td>\n",
       "      <td>L</td>\n",
       "    </tr>\n",
       "    <tr>\n",
       "      <th>3</th>\n",
       "      <td>NaN</td>\n",
       "      <td>0.571429</td>\n",
       "      <td>1.0</td>\n",
       "      <td>1.75 L</td>\n",
       "      <td>1.75</td>\n",
       "      <td>L</td>\n",
       "    </tr>\n",
       "    <tr>\n",
       "      <th>4</th>\n",
       "      <td>NaN</td>\n",
       "      <td>0.5</td>\n",
       "      <td>1.0</td>\n",
       "      <td>2L</td>\n",
       "      <td>2.00</td>\n",
       "      <td>L</td>\n",
       "    </tr>\n",
       "    <tr>\n",
       "      <th>...</th>\n",
       "      <td>...</td>\n",
       "      <td>...</td>\n",
       "      <td>...</td>\n",
       "      <td>...</td>\n",
       "      <td>...</td>\n",
       "      <td>...</td>\n",
       "    </tr>\n",
       "    <tr>\n",
       "      <th>798</th>\n",
       "      <td>P-55707</td>\n",
       "      <td></td>\n",
       "      <td>1.0</td>\n",
       "      <td>PTN</td>\n",
       "      <td>185.00</td>\n",
       "      <td>g</td>\n",
       "    </tr>\n",
       "    <tr>\n",
       "      <th>799</th>\n",
       "      <td>P-55709</td>\n",
       "      <td></td>\n",
       "      <td>1.0</td>\n",
       "      <td>PTN</td>\n",
       "      <td>185.00</td>\n",
       "      <td>g</td>\n",
       "    </tr>\n",
       "    <tr>\n",
       "      <th>800</th>\n",
       "      <td>P-62293</td>\n",
       "      <td></td>\n",
       "      <td>1.0</td>\n",
       "      <td>PTN</td>\n",
       "      <td>185.00</td>\n",
       "      <td>g</td>\n",
       "    </tr>\n",
       "    <tr>\n",
       "      <th>801</th>\n",
       "      <td>P-62023</td>\n",
       "      <td></td>\n",
       "      <td>1.0</td>\n",
       "      <td>ROLL</td>\n",
       "      <td>155.00</td>\n",
       "      <td>g</td>\n",
       "    </tr>\n",
       "    <tr>\n",
       "      <th>802</th>\n",
       "      <td>NaN</td>\n",
       "      <td>NaN</td>\n",
       "      <td>NaN</td>\n",
       "      <td>NaN</td>\n",
       "      <td>NaN</td>\n",
       "      <td>NaN</td>\n",
       "    </tr>\n",
       "  </tbody>\n",
       "</table>\n",
       "<p>803 rows × 6 columns</p>\n",
       "</div>"
      ],
      "text/plain": [
       "    ConversionId Multiplier  ConvertFromQty ConvertFromUom  ConvertToQty  \\\n",
       "0            NaN          1             1.0            XXX          1.00   \n",
       "1            NaN   0.877193             1.0          1.14L          1.14   \n",
       "2            NaN   0.666667             1.0           1.5L          1.50   \n",
       "3            NaN   0.571429             1.0         1.75 L          1.75   \n",
       "4            NaN        0.5             1.0             2L          2.00   \n",
       "..           ...        ...             ...            ...           ...   \n",
       "798      P-55707                        1.0            PTN        185.00   \n",
       "799      P-55709                        1.0            PTN        185.00   \n",
       "800      P-62293                        1.0            PTN        185.00   \n",
       "801      P-62023                        1.0           ROLL        155.00   \n",
       "802          NaN        NaN             NaN            NaN           NaN   \n",
       "\n",
       "    ConvertToUom  \n",
       "0              L  \n",
       "1              L  \n",
       "2              L  \n",
       "3              L  \n",
       "4              L  \n",
       "..           ...  \n",
       "798            g  \n",
       "799            g  \n",
       "800            g  \n",
       "801            g  \n",
       "802          NaN  \n",
       "\n",
       "[803 rows x 6 columns]"
      ]
     },
     "execution_count": 20,
     "metadata": {},
     "output_type": "execute_result"
    }
   ],
   "source": [
    "frames = [Conversions, Prep_cov]\n",
    "Conversions = pd.concat(frames).reset_index(drop=True, inplace=False).drop_duplicates()\n",
    "Conversions"
   ]
  },
  {
   "cell_type": "code",
   "execution_count": 21,
   "metadata": {},
   "outputs": [],
   "source": [
    "# Seperate uoms that converted to 'ml' or 'g'\n",
    "liquid_unit = Std_Unit.loc[Std_Unit['ConvertToUom'] == 'ml', 'ConvertFromUom'].tolist()\n",
    "solid_unit = Std_Unit.loc[Std_Unit['ConvertToUom'] == 'g', 'ConvertFromUom'].tolist()"
   ]
  },
  {
   "cell_type": "code",
   "execution_count": 22,
   "metadata": {},
   "outputs": [],
   "source": [
    "# Construct a standard unit converter\n",
    "def std_converter(qty, uom):\n",
    "    if uom in Std_Unit['ConvertFromUom'].tolist():\n",
    "        multiplier = Std_Unit.loc[Std_Unit['ConvertFromUom'] == uom, 'Multiplier']\n",
    "        Qty = float(qty)*float(multiplier)\n",
    "        Uom = Std_Unit.loc[Std_Unit['ConvertFromUom'] == uom, 'ConvertToUom'].values[0]\n",
    "    else:\n",
    "        Qty = qty\n",
    "        Uom = uom\n",
    "    return (Qty, Uom)"
   ]
  },
  {
   "cell_type": "code",
   "execution_count": 23,
   "metadata": {},
   "outputs": [
    {
     "data": {
      "text/plain": [
       "(113.398, 'g')"
      ]
     },
     "execution_count": 23,
     "metadata": {},
     "output_type": "execute_result"
    }
   ],
   "source": [
    "# Test the std_converter\n",
    "std_converter(0.25,'lb')"
   ]
  },
  {
   "cell_type": "code",
   "execution_count": 24,
   "metadata": {},
   "outputs": [],
   "source": [
    "# Construct a unit converter for specific items\n",
    "spc_cov = list(filter(None, Conversions['ConversionId'].tolist()))\n",
    "\n",
    "def spc_converter(ingre, qty, uom):\n",
    "    if uom in liquid_unit + solid_unit: #convert to std uom for ingredients has no specific convention instruction\n",
    "        return std_converter(qty, uom)\n",
    "    elif ingre in spc_cov: #convert to std uom for ingredients has specific convention instruction\n",
    "        conversion = Conversions.loc[(Conversions['ConversionId'] == ingre) & (Conversions['ConvertFromUom'] == uom)\n",
    "                                    & (Conversions['ConvertToUom'] == 'g')]\n",
    "        conversion.drop_duplicates(subset=['ConversionId'], inplace = True)\n",
    "        multiplier = conversion['Multiplier']\n",
    "        if multiplier.empty:\n",
    "            return std_converter(qty, uom)\n",
    "        else: \n",
    "            #print(conversion)\n",
    "            Qty = float(qty)/float(multiplier)\n",
    "            Uom = conversion['ConvertToUom'].values[0]\n",
    "            return (Qty, Uom)\n",
    "    else:\n",
    "        return std_converter(qty, uom)"
   ]
  },
  {
   "cell_type": "code",
   "execution_count": 25,
   "metadata": {},
   "outputs": [],
   "source": [
    "# Test the spc_converter\n",
    "#spc_converter('I-1120', 1, 'CT')"
   ]
  },
  {
   "cell_type": "code",
   "execution_count": 26,
   "metadata": {},
   "outputs": [
    {
     "data": {
      "text/plain": [
       "(129.9999948000002, 'g')"
      ]
     },
     "execution_count": 26,
     "metadata": {},
     "output_type": "execute_result"
    }
   ],
   "source": [
    "spc_converter('P-35132', 1, 'ea')"
   ]
  },
  {
   "cell_type": "markdown",
   "metadata": {},
   "source": [
    "## GHG Factors Calculation for Preps"
   ]
  },
  {
   "cell_type": "code",
   "execution_count": 27,
   "metadata": {},
   "outputs": [],
   "source": [
    "Preps['GHG Emission (g)'] = 0\n",
    "Preps['GHG Emission(g)/StdUom'] = 0\n",
    "Preps['N lost (g)'] = 0\n",
    "Preps['N lost (g)/StdUom'] = 0\n",
    "Preps['Freshwater Withdrawals (ml)'] = 0\n",
    "Preps['Freshwater Withdrawals (ml)/StdUom'] = 0\n",
    "Preps['Stress-Weighted Water Use (ml)'] = 0\n",
    "Preps['Stress-Weighted Water Use (ml)/StdUom'] = 0"
   ]
  },
  {
   "cell_type": "code",
   "execution_count": 28,
   "metadata": {},
   "outputs": [],
   "source": [
    "# Calculate GHG, nitro, water footprints per gram/ml of each prep for items as ingredients only\n",
    "def get_items_ghge_prep(index, row):\n",
    "    ingres = Ingredients.loc[Ingredients['Recipe'] == Preps.loc[index,'PrepId']]\n",
    "    ghg = Preps.loc[index, 'GHG Emission (g)']\n",
    "    nitro = Preps.loc[index, 'N lost (g)']\n",
    "    water = Preps.loc[index, 'Freshwater Withdrawals (ml)']\n",
    "    str_water = Preps.loc[index, 'Stress-Weighted Water Use (ml)']\n",
    "    weight = Preps.loc[index, 'StdQty']\n",
    "    #print('Index:', index, '\\nIngres:\\n', ingres)\n",
    "    for idx, row in ingres.iterrows():\n",
    "        ingre = ingres.loc[idx,'IngredientId']\n",
    "        if ingre.startswith('I'): \n",
    "            ghge = mapping.loc[mapping['ItemId'] == ingre, 'Active Total Supply Chain Emissions (kg CO2 / kg food)']\n",
    "            nitro_fac = mapping.loc[mapping['ItemId'] == ingre, 'g N lost/kg product']\n",
    "            water_fac = mapping.loc[mapping['ItemId'] == ingre, 'Freshwater Withdrawals (L/FU)']\n",
    "            str_water_fac = mapping.loc[mapping['ItemId'] == ingre, 'Stress-Weighted Water Use (L/FU)']\n",
    "            #print(ghge)\n",
    "            Qty = float(ingres.loc[idx,'Qty'])\n",
    "            Uom = ingres.loc[idx,'Uom']\n",
    "            if ingre in spc_cov:\n",
    "                qty = spc_converter(ingre, Qty, Uom)[0]\n",
    "                ghg += qty*float(ghge)\n",
    "                nitro += qty*float(nitro_fac)/1000\n",
    "                water += qty*float(water_fac)\n",
    "                str_water += qty*float(str_water_fac)\n",
    "            else:\n",
    "                qty = std_converter(Qty, Uom)[0]\n",
    "                ghg += qty*float(ghge)\n",
    "                nitro += qty*float(nitro_fac)/1000\n",
    "                water += qty*float(water_fac)\n",
    "                str_water += qty*float(str_water_fac)\n",
    "            #print(ingre, Qty, Uom, qty, float(ghge), qty*float(ghge))\n",
    "            #print(ghg, nitro, water, str_water)\n",
    "    Preps.loc[index, 'GHG Emission (g)'] = float(ghg)\n",
    "    Preps.loc[index, 'GHG Emission(g)/StdUom'] = ghg/float(weight)\n",
    "    Preps.loc[index, 'N lost (g)'] = float(nitro)\n",
    "    Preps.loc[index, 'N lost (g)/StdUom'] = nitro/float(weight)\n",
    "    Preps.loc[index, 'Freshwater Withdrawals (ml)'] = float(water)\n",
    "    Preps.loc[index, 'Freshwater Withdrawals (ml)/StdUom'] = water/float(weight)\n",
    "    Preps.loc[index, 'Stress-Weighted Water Use (ml)'] = float(str_water)\n",
    "    Preps.loc[index, 'Stress-Weighted Water Use (ml)/StdUom'] = str_water/float(weight)"
   ]
  },
  {
   "cell_type": "code",
   "execution_count": 29,
   "metadata": {},
   "outputs": [],
   "source": [
    "# Calculate GHG, nitro, water footprints per gram/ml of each prep for other preps as ingredients\n",
    "def get_preps_ghge_prep(index, row):\n",
    "    ingres = Ingredients.loc[Ingredients['Recipe'] == Preps.loc[index,'PrepId']]\n",
    "    ghg = Preps.loc[index, 'GHG Emission (g)']\n",
    "    nitro = Preps.loc[index, 'N lost (g)']\n",
    "    water = Preps.loc[index, 'Freshwater Withdrawals (ml)']\n",
    "    str_water = Preps.loc[index, 'Stress-Weighted Water Use (ml)']\n",
    "    weight = Preps.loc[index, 'StdQty']\n",
    "    #print('Index:', index, '\\nIngres:\\n', ingres)\n",
    "    for idx, row in ingres.iterrows():\n",
    "        ingre = ingres.loc[idx,'IngredientId']\n",
    "        if ingre.startswith('P') and len(ingres) > 1:\n",
    "            ghge = Preps.loc[Preps['PrepId'] == ingre, 'GHG Emission(g)/StdUom']\n",
    "            nitro_fac = Preps.loc[Preps['PrepId'] == ingre, 'N lost (g)/StdUom']\n",
    "            water_fac = Preps.loc[Preps['PrepId'] == ingre, 'Freshwater Withdrawals (ml)/StdUom']\n",
    "            str_water_fac = Preps.loc[Preps['PrepId'] == ingre, 'Stress-Weighted Water Use (ml)/StdUom']\n",
    "            #print(ghge)\n",
    "            Qty = float(ingres.loc[idx,'Qty'])\n",
    "            Uom = ingres.loc[idx,'Uom']\n",
    "            if ingre in spc_cov:\n",
    "                qty = spc_converter(ingre, Qty, Uom)[0]\n",
    "                ghg += qty*float(ghge)\n",
    "                nitro += qty*float(nitro_fac)\n",
    "                water += qty*float(water_fac)\n",
    "                str_water += qty*float(str_water_fac)\n",
    "            else:\n",
    "                qty = std_converter(Qty, Uom)[0]\n",
    "                ghg += qty*float(ghge)\n",
    "                nitro += qty*float(nitro_fac)\n",
    "                water += qty*float(water_fac)\n",
    "                str_water += qty*float(str_water_fac)\n",
    "            #print(ingre, Qty, Uom, qty, qty*float(ghge))\n",
    "            #print(ghg, nitro, water, str_water)\n",
    "    Preps.loc[index, 'GHG Emission (g)'] = float(ghg)\n",
    "    Preps.loc[index, 'GHG Emission(g)/StdUom'] = ghg/float(weight)\n",
    "    Preps.loc[index, 'N lost (g)'] = float(nitro)\n",
    "    Preps.loc[index, 'N lost (g)/StdUom'] = nitro/float(weight)\n",
    "    Preps.loc[index, 'Freshwater Withdrawals (ml)'] = float(water)\n",
    "    Preps.loc[index, 'Freshwater Withdrawals (ml)/StdUom'] = water/float(weight)\n",
    "    Preps.loc[index, 'Stress-Weighted Water Use (ml)'] = float(str_water)\n",
    "    Preps.loc[index, 'Stress-Weighted Water Use (ml)/StdUom'] = str_water/float(weight)"
   ]
  },
  {
   "cell_type": "code",
   "execution_count": 30,
   "metadata": {},
   "outputs": [],
   "source": [
    "# Calculate GHG, nitro, water footprints per gram/ml of each prep for linked preps\n",
    "def link_preps(index, row):\n",
    "    ingres = Ingredients.loc[Ingredients['Recipe'] == Preps.loc[index,'PrepId']]\n",
    "    ghg = Preps.loc[index, 'GHG Emission (g)']\n",
    "    nitro = Preps.loc[index, 'N lost (g)']\n",
    "    water = Preps.loc[index, 'Freshwater Withdrawals (ml)']\n",
    "    str_water = Preps.loc[index, 'Stress-Weighted Water Use (ml)']\n",
    "    weight = Preps.loc[index, 'StdQty']\n",
    "    if len(ingres) == 1:\n",
    "        ingre = ingres.iloc[0]['IngredientId']\n",
    "        if ingre.startswith('P'):\n",
    "            #print(ingres)\n",
    "            ghge = Preps.loc[Preps['PrepId'] == ingre, 'GHG Emission(g)/StdUom']\n",
    "            nitro_fac = Preps.loc[Preps['PrepId'] == ingre, 'N lost (g)/StdUom']\n",
    "            water_fac = Preps.loc[Preps['PrepId'] == ingre, 'Freshwater Withdrawals (ml)/StdUom']\n",
    "            str_water_fac = Preps.loc[Preps['PrepId'] == ingre, 'Stress-Weighted Water Use (ml)/StdUom']\n",
    "            Qty = float(ingres.iloc[0]['Qty'])\n",
    "            Uom = ingres.iloc[0]['Uom']\n",
    "            if ingre in spc_cov:\n",
    "                qty = spc_converter(ingre, Qty, Uom)[0]\n",
    "                ghg = qty*float(ghge)\n",
    "                nitro = qty*float(nitro_fac)\n",
    "                water = qty*float(water_fac)\n",
    "                str_water = qty*float(str_water_fac)\n",
    "            else:\n",
    "                qty = std_converter(Qty, Uom)[0]\n",
    "                ghg = qty*float(ghge)\n",
    "                nitro = qty*float(nitro_fac)\n",
    "                water = qty*float(water_fac)\n",
    "                str_water = qty*float(str_water_fac)\n",
    "            #print(ingre, ghge, Qty, Uom, qty, weight)\n",
    "            #print(ghg, nitro, water, str_water)\n",
    "    Preps.loc[index, 'GHG Emission (g)'] = float(ghg)\n",
    "    Preps.loc[index, 'GHG Emission(g)/StdUom'] = ghg/float(weight)\n",
    "    Preps.loc[index, 'N lost (g)'] = float(nitro)\n",
    "    Preps.loc[index, 'N lost (g)/StdUom'] = nitro/float(weight)\n",
    "    Preps.loc[index, 'Freshwater Withdrawals (ml)'] = float(water)\n",
    "    Preps.loc[index, 'Freshwater Withdrawals (ml)/StdUom'] = water/float(weight)\n",
    "    Preps.loc[index, 'Stress-Weighted Water Use (ml)'] = float(str_water)\n",
    "    Preps.loc[index, 'Stress-Weighted Water Use (ml)/StdUom'] = str_water/float(weight)"
   ]
  },
  {
   "cell_type": "code",
   "execution_count": 31,
   "metadata": {},
   "outputs": [],
   "source": [
    "for index, row in Preps.iterrows():\n",
    "    get_items_ghge_prep(index , row)"
   ]
  },
  {
   "cell_type": "code",
   "execution_count": 32,
   "metadata": {},
   "outputs": [],
   "source": [
    "for index, row in Preps.iterrows():\n",
    "    link_preps(index, row)"
   ]
  },
  {
   "cell_type": "code",
   "execution_count": 33,
   "metadata": {},
   "outputs": [],
   "source": [
    "for index, row in Preps.iterrows():\n",
    "    get_preps_ghge_prep(index, row)"
   ]
  },
  {
   "cell_type": "code",
   "execution_count": 34,
   "metadata": {},
   "outputs": [
    {
     "data": {
      "text/html": [
       "<div>\n",
       "<style scoped>\n",
       "    .dataframe tbody tr th:only-of-type {\n",
       "        vertical-align: middle;\n",
       "    }\n",
       "\n",
       "    .dataframe tbody tr th {\n",
       "        vertical-align: top;\n",
       "    }\n",
       "\n",
       "    .dataframe thead th {\n",
       "        text-align: right;\n",
       "    }\n",
       "</style>\n",
       "<table border=\"1\" class=\"dataframe\">\n",
       "  <thead>\n",
       "    <tr style=\"text-align: right;\">\n",
       "      <th></th>\n",
       "      <th>PrepId</th>\n",
       "      <th>Description</th>\n",
       "      <th>PakQty</th>\n",
       "      <th>PakUOM</th>\n",
       "      <th>InventoryGroup</th>\n",
       "      <th>StdQty</th>\n",
       "      <th>StdUom</th>\n",
       "      <th>GHG Emission (g)</th>\n",
       "      <th>GHG Emission(g)/StdUom</th>\n",
       "      <th>N lost (g)</th>\n",
       "      <th>N lost (g)/StdUom</th>\n",
       "      <th>Freshwater Withdrawals (ml)</th>\n",
       "      <th>Freshwater Withdrawals (ml)/StdUom</th>\n",
       "      <th>Stress-Weighted Water Use (ml)</th>\n",
       "      <th>Stress-Weighted Water Use (ml)/StdUom</th>\n",
       "    </tr>\n",
       "  </thead>\n",
       "  <tbody>\n",
       "    <tr>\n",
       "      <th>0</th>\n",
       "      <td>P-55516</td>\n",
       "      <td>BAKED|Lasagna|Spin Mushroom</td>\n",
       "      <td>5.550</td>\n",
       "      <td>Kg</td>\n",
       "      <td>NaN</td>\n",
       "      <td>5550.0</td>\n",
       "      <td>g</td>\n",
       "      <td>19928.597446</td>\n",
       "      <td>3.590738</td>\n",
       "      <td>200.304444</td>\n",
       "      <td>0.036091</td>\n",
       "      <td>3.117239e+06</td>\n",
       "      <td>561.664706</td>\n",
       "      <td>1.528246e+08</td>\n",
       "      <td>27535.955248</td>\n",
       "    </tr>\n",
       "    <tr>\n",
       "      <th>1</th>\n",
       "      <td>P-54666</td>\n",
       "      <td>BAKED|Pasta|Chicken Alfredo</td>\n",
       "      <td>6.176</td>\n",
       "      <td>Kg</td>\n",
       "      <td>NaN</td>\n",
       "      <td>6176.0</td>\n",
       "      <td>g</td>\n",
       "      <td>17657.751270</td>\n",
       "      <td>2.859092</td>\n",
       "      <td>220.725071</td>\n",
       "      <td>0.035739</td>\n",
       "      <td>2.698940e+06</td>\n",
       "      <td>437.004590</td>\n",
       "      <td>1.148603e+08</td>\n",
       "      <td>18597.849170</td>\n",
       "    </tr>\n",
       "    <tr>\n",
       "      <th>2</th>\n",
       "      <td>P-54664</td>\n",
       "      <td>BAKED|Pasta|Chorizo Penne</td>\n",
       "      <td>7.360</td>\n",
       "      <td>Kg</td>\n",
       "      <td>NaN</td>\n",
       "      <td>7360.0</td>\n",
       "      <td>g</td>\n",
       "      <td>22177.046905</td>\n",
       "      <td>3.013186</td>\n",
       "      <td>263.810524</td>\n",
       "      <td>0.035844</td>\n",
       "      <td>4.002303e+06</td>\n",
       "      <td>543.791113</td>\n",
       "      <td>1.534654e+08</td>\n",
       "      <td>20851.278079</td>\n",
       "    </tr>\n",
       "    <tr>\n",
       "      <th>3</th>\n",
       "      <td>P-56502</td>\n",
       "      <td>BAKED|Pasta|Shrimp Pesto</td>\n",
       "      <td>5.760</td>\n",
       "      <td>Kg</td>\n",
       "      <td>NaN</td>\n",
       "      <td>5760.0</td>\n",
       "      <td>g</td>\n",
       "      <td>29040.084386</td>\n",
       "      <td>5.041681</td>\n",
       "      <td>178.743124</td>\n",
       "      <td>0.031032</td>\n",
       "      <td>2.738595e+06</td>\n",
       "      <td>475.450528</td>\n",
       "      <td>1.531610e+08</td>\n",
       "      <td>26590.457290</td>\n",
       "    </tr>\n",
       "    <tr>\n",
       "      <th>4</th>\n",
       "      <td>P-56433</td>\n",
       "      <td>BATCH|Shrimp Remoulade</td>\n",
       "      <td>1.600</td>\n",
       "      <td>Kg</td>\n",
       "      <td>NaN</td>\n",
       "      <td>1600.0</td>\n",
       "      <td>g</td>\n",
       "      <td>12750.771772</td>\n",
       "      <td>7.969232</td>\n",
       "      <td>45.416647</td>\n",
       "      <td>0.028385</td>\n",
       "      <td>7.288906e+05</td>\n",
       "      <td>455.556609</td>\n",
       "      <td>2.903103e+07</td>\n",
       "      <td>18144.394365</td>\n",
       "    </tr>\n",
       "    <tr>\n",
       "      <th>...</th>\n",
       "      <td>...</td>\n",
       "      <td>...</td>\n",
       "      <td>...</td>\n",
       "      <td>...</td>\n",
       "      <td>...</td>\n",
       "      <td>...</td>\n",
       "      <td>...</td>\n",
       "      <td>...</td>\n",
       "      <td>...</td>\n",
       "      <td>...</td>\n",
       "      <td>...</td>\n",
       "      <td>...</td>\n",
       "      <td>...</td>\n",
       "      <td>...</td>\n",
       "      <td>...</td>\n",
       "    </tr>\n",
       "    <tr>\n",
       "      <th>747</th>\n",
       "      <td>P-47418</td>\n",
       "      <td>MIX|Cheese</td>\n",
       "      <td>2.000</td>\n",
       "      <td>Kg</td>\n",
       "      <td>PREP</td>\n",
       "      <td>2000.0</td>\n",
       "      <td>g</td>\n",
       "      <td>17820.800000</td>\n",
       "      <td>8.910400</td>\n",
       "      <td>186.600000</td>\n",
       "      <td>0.093300</td>\n",
       "      <td>3.118600e+06</td>\n",
       "      <td>1559.300000</td>\n",
       "      <td>1.609262e+08</td>\n",
       "      <td>80463.100000</td>\n",
       "    </tr>\n",
       "    <tr>\n",
       "      <th>748</th>\n",
       "      <td>P-42317</td>\n",
       "      <td>ROASTED|Spaghetti Squash</td>\n",
       "      <td>1.400</td>\n",
       "      <td>Kg</td>\n",
       "      <td>NaN</td>\n",
       "      <td>1400.0</td>\n",
       "      <td>g</td>\n",
       "      <td>1411.767296</td>\n",
       "      <td>1.008405</td>\n",
       "      <td>18.978199</td>\n",
       "      <td>0.013556</td>\n",
       "      <td>1.952269e+05</td>\n",
       "      <td>139.447762</td>\n",
       "      <td>7.055818e+06</td>\n",
       "      <td>5039.870226</td>\n",
       "    </tr>\n",
       "    <tr>\n",
       "      <th>749</th>\n",
       "      <td>P-56927</td>\n",
       "      <td>SAUTE|Cauliflower Rice</td>\n",
       "      <td>1.000</td>\n",
       "      <td>Kg</td>\n",
       "      <td>NaN</td>\n",
       "      <td>1000.0</td>\n",
       "      <td>g</td>\n",
       "      <td>809.481296</td>\n",
       "      <td>0.809481</td>\n",
       "      <td>8.311199</td>\n",
       "      <td>0.008311</td>\n",
       "      <td>5.468787e+04</td>\n",
       "      <td>54.687867</td>\n",
       "      <td>2.487132e+06</td>\n",
       "      <td>2487.132316</td>\n",
       "    </tr>\n",
       "    <tr>\n",
       "      <th>750</th>\n",
       "      <td>P-56887</td>\n",
       "      <td>YIELD|Grated Pear</td>\n",
       "      <td>800.000</td>\n",
       "      <td>g</td>\n",
       "      <td>NaN</td>\n",
       "      <td>800.0</td>\n",
       "      <td>g</td>\n",
       "      <td>430.600000</td>\n",
       "      <td>0.538250</td>\n",
       "      <td>2.700000</td>\n",
       "      <td>0.003375</td>\n",
       "      <td>3.500000e+03</td>\n",
       "      <td>4.375000</td>\n",
       "      <td>4.700000e+03</td>\n",
       "      <td>5.875000</td>\n",
       "    </tr>\n",
       "    <tr>\n",
       "      <th>751</th>\n",
       "      <td>P-46509</td>\n",
       "      <td>YIELD|Lettuce bun</td>\n",
       "      <td>3.000</td>\n",
       "      <td>PTN</td>\n",
       "      <td>NaN</td>\n",
       "      <td>450.0</td>\n",
       "      <td>g</td>\n",
       "      <td>469.611174</td>\n",
       "      <td>1.043580</td>\n",
       "      <td>5.964515</td>\n",
       "      <td>0.013254</td>\n",
       "      <td>4.114760e+04</td>\n",
       "      <td>91.439117</td>\n",
       "      <td>1.874972e+06</td>\n",
       "      <td>4166.603750</td>\n",
       "    </tr>\n",
       "  </tbody>\n",
       "</table>\n",
       "<p>752 rows × 15 columns</p>\n",
       "</div>"
      ],
      "text/plain": [
       "      PrepId                  Description   PakQty PakUOM InventoryGroup  \\\n",
       "0    P-55516  BAKED|Lasagna|Spin Mushroom    5.550     Kg            NaN   \n",
       "1    P-54666  BAKED|Pasta|Chicken Alfredo    6.176     Kg            NaN   \n",
       "2    P-54664    BAKED|Pasta|Chorizo Penne    7.360     Kg            NaN   \n",
       "3    P-56502     BAKED|Pasta|Shrimp Pesto    5.760     Kg            NaN   \n",
       "4    P-56433       BATCH|Shrimp Remoulade    1.600     Kg            NaN   \n",
       "..       ...                          ...      ...    ...            ...   \n",
       "747  P-47418                   MIX|Cheese    2.000     Kg           PREP   \n",
       "748  P-42317     ROASTED|Spaghetti Squash    1.400     Kg            NaN   \n",
       "749  P-56927       SAUTE|Cauliflower Rice    1.000     Kg            NaN   \n",
       "750  P-56887            YIELD|Grated Pear  800.000      g            NaN   \n",
       "751  P-46509            YIELD|Lettuce bun    3.000    PTN            NaN   \n",
       "\n",
       "     StdQty StdUom  GHG Emission (g)  GHG Emission(g)/StdUom  N lost (g)  \\\n",
       "0    5550.0      g      19928.597446                3.590738  200.304444   \n",
       "1    6176.0      g      17657.751270                2.859092  220.725071   \n",
       "2    7360.0      g      22177.046905                3.013186  263.810524   \n",
       "3    5760.0      g      29040.084386                5.041681  178.743124   \n",
       "4    1600.0      g      12750.771772                7.969232   45.416647   \n",
       "..      ...    ...               ...                     ...         ...   \n",
       "747  2000.0      g      17820.800000                8.910400  186.600000   \n",
       "748  1400.0      g       1411.767296                1.008405   18.978199   \n",
       "749  1000.0      g        809.481296                0.809481    8.311199   \n",
       "750   800.0      g        430.600000                0.538250    2.700000   \n",
       "751   450.0      g        469.611174                1.043580    5.964515   \n",
       "\n",
       "     N lost (g)/StdUom  Freshwater Withdrawals (ml)  \\\n",
       "0             0.036091                 3.117239e+06   \n",
       "1             0.035739                 2.698940e+06   \n",
       "2             0.035844                 4.002303e+06   \n",
       "3             0.031032                 2.738595e+06   \n",
       "4             0.028385                 7.288906e+05   \n",
       "..                 ...                          ...   \n",
       "747           0.093300                 3.118600e+06   \n",
       "748           0.013556                 1.952269e+05   \n",
       "749           0.008311                 5.468787e+04   \n",
       "750           0.003375                 3.500000e+03   \n",
       "751           0.013254                 4.114760e+04   \n",
       "\n",
       "     Freshwater Withdrawals (ml)/StdUom  Stress-Weighted Water Use (ml)  \\\n",
       "0                            561.664706                    1.528246e+08   \n",
       "1                            437.004590                    1.148603e+08   \n",
       "2                            543.791113                    1.534654e+08   \n",
       "3                            475.450528                    1.531610e+08   \n",
       "4                            455.556609                    2.903103e+07   \n",
       "..                                  ...                             ...   \n",
       "747                         1559.300000                    1.609262e+08   \n",
       "748                          139.447762                    7.055818e+06   \n",
       "749                           54.687867                    2.487132e+06   \n",
       "750                            4.375000                    4.700000e+03   \n",
       "751                           91.439117                    1.874972e+06   \n",
       "\n",
       "     Stress-Weighted Water Use (ml)/StdUom  \n",
       "0                             27535.955248  \n",
       "1                             18597.849170  \n",
       "2                             20851.278079  \n",
       "3                             26590.457290  \n",
       "4                             18144.394365  \n",
       "..                                     ...  \n",
       "747                           80463.100000  \n",
       "748                            5039.870226  \n",
       "749                            2487.132316  \n",
       "750                               5.875000  \n",
       "751                            4166.603750  \n",
       "\n",
       "[752 rows x 15 columns]"
      ]
     },
     "execution_count": 34,
     "metadata": {},
     "output_type": "execute_result"
    }
   ],
   "source": [
    "Preps"
   ]
  },
  {
   "cell_type": "code",
   "execution_count": 35,
   "metadata": {},
   "outputs": [],
   "source": [
    "path = os.path.join(os.getcwd(), \"data\", \"final\", \"Preps Footprints.csv\")\n",
    "Preps.to_csv(path, index = False, header = True)"
   ]
  },
  {
   "cell_type": "markdown",
   "metadata": {},
   "source": [
    "## GHGe Calculation for Products"
   ]
  },
  {
   "cell_type": "code",
   "execution_count": 36,
   "metadata": {},
   "outputs": [],
   "source": [
    "Products['Weight (g)'] = 0\n",
    "Products['GHG Emission (g)'] = 0\n",
    "Products['N lost (g)'] = 0\n",
    "Products['Freshwater Withdrawals (ml)'] = 0\n",
    "Products['Stress-Weighted Water Use (ml)'] = 0"
   ]
  },
  {
   "cell_type": "code",
   "execution_count": 37,
   "metadata": {},
   "outputs": [],
   "source": [
    "# Calculate GHG, nitro, water footprints per gram/ml of each product for items ingredients only\n",
    "def get_items_ghge(index, row):\n",
    "    ingres = Ingredients.loc[Ingredients['Recipe'] == Products.loc[index,'ProdId']]\n",
    "    ghg = Products.loc[index, 'GHG Emission (g)']\n",
    "    nitro = Products.loc[index, 'N lost (g)']\n",
    "    water = Products.loc[index, 'Freshwater Withdrawals (ml)']\n",
    "    str_water = Products.loc[index, 'Stress-Weighted Water Use (ml)']\n",
    "    weight = Products.loc[index, 'Weight (g)']\n",
    "    #print('Index:', index, '\\nIngres:\\n', ingres)\n",
    "    for idx, row in ingres.iterrows():\n",
    "        ingre = ingres.loc[idx,'IngredientId']\n",
    "        if ingre.startswith('I'):\n",
    "            ghge = mapping.loc[mapping['ItemId'] == ingre, 'Active Total Supply Chain Emissions (kg CO2 / kg food)']\n",
    "            nitro_fac = mapping.loc[mapping['ItemId'] == ingre, 'g N lost/kg product']\n",
    "            water_fac = mapping.loc[mapping['ItemId'] == ingre, 'Freshwater Withdrawals (L/FU)']\n",
    "            str_water_fac = mapping.loc[mapping['ItemId'] == ingre, 'Stress-Weighted Water Use (L/FU)']\n",
    "            Qty = float(ingres.loc[idx,'Qty'])\n",
    "            Uom = ingres.loc[idx,'Uom']\n",
    "            if ingre in Conversions['ConversionId'].tolist():\n",
    "                qty = spc_converter(ingre, Qty, Uom)[0]\n",
    "                weight += qty\n",
    "                ghg += qty*float(ghge)\n",
    "                nitro += qty*float(nitro_fac)/1000\n",
    "                water += qty*float(water_fac)\n",
    "                str_water += qty*float(str_water_fac)\n",
    "            else:\n",
    "                qty = std_converter(Qty, Uom)[0]\n",
    "                weight += qty\n",
    "                ghg += qty*float(ghge)\n",
    "                nitro += qty*float(nitro_fac)/1000\n",
    "                water += qty*float(water_fac)\n",
    "                str_water += qty*float(str_water_fac)\n",
    "            #print(ingre, Qty, Uom, qty, float(ghge), qty*float(ghge))\n",
    "    Products.loc[index, 'GHG Emission (g)'] = float(ghg)\n",
    "    Products.loc[index, 'Weight (g)'] = float(weight)\n",
    "    Products.loc[index, 'N lost (g)'] = float(nitro)\n",
    "    Products.loc[index, 'Freshwater Withdrawals (ml)'] = float(water)\n",
    "    Products.loc[index, 'Stress-Weighted Water Use (ml)'] = float(str_water)"
   ]
  },
  {
   "cell_type": "code",
   "execution_count": 38,
   "metadata": {},
   "outputs": [],
   "source": [
    "# Calculate GHG, nitro, water footprints per gram/ml of each product for preps ingredients only\n",
    "def get_preps_ghge(index, row):\n",
    "    ingres = Ingredients.loc[Ingredients['Recipe'] == Products.loc[index,'ProdId']]\n",
    "    ghg = Products.loc[index, 'GHG Emission (g)']\n",
    "    nitro = Products.loc[index, 'N lost (g)']\n",
    "    water = Products.loc[index, 'Freshwater Withdrawals (ml)']\n",
    "    str_water = Products.loc[index, 'Stress-Weighted Water Use (ml)']\n",
    "    weight = Products.loc[index, 'Weight (g)']\n",
    "    #print('Index:', index, '\\nIngres:\\n', ingres)\n",
    "    for idx, row in ingres.iterrows():\n",
    "        ingre = ingres.loc[idx,'IngredientId']\n",
    "        if ingre.startswith('P'):\n",
    "            ghge = Preps.loc[Preps['PrepId'] == ingre, 'GHG Emission(g)/StdUom']\n",
    "            nitro_fac = Preps.loc[Preps['PrepId'] == ingre, 'N lost (g)/StdUom']\n",
    "            water_fac = Preps.loc[Preps['PrepId'] == ingre, 'Freshwater Withdrawals (ml)/StdUom']\n",
    "            str_water_fac = Preps.loc[Preps['PrepId'] == ingre, 'Stress-Weighted Water Use (ml)/StdUom']\n",
    "            Qty = float(ingres.loc[idx,'Qty'])\n",
    "            Uom = ingres.loc[idx,'Uom']\n",
    "            if ingre in Conversions['ConversionId'].tolist():\n",
    "                qty = spc_converter(ingre, Qty, Uom)[0]\n",
    "                weight += qty\n",
    "                ghg += qty*float(ghge)\n",
    "                nitro += qty*float(nitro_fac)\n",
    "                water += qty*float(water_fac)\n",
    "                str_water += qty*float(str_water_fac)\n",
    "            else:\n",
    "                qty = std_converter(Qty, Uom)[0]\n",
    "                weight += qty\n",
    "                ghg += qty*float(ghge)\n",
    "                nitro += qty*float(nitro_fac)\n",
    "                water += qty*float(water_fac)\n",
    "                str_water += qty*float(str_water_fac)\n",
    "            #print(ingre, Qty, Uom, qty, float(ghge), qty*float(ghge))\n",
    "    Products.loc[index, 'GHG Emission (g)'] = float(ghg)\n",
    "    Products.loc[index, 'Weight (g)'] = float(weight)\n",
    "    Products.loc[index, 'N lost (g)'] = float(nitro)\n",
    "    Products.loc[index, 'Freshwater Withdrawals (ml)'] = float(water)\n",
    "    Products.loc[index, 'Stress-Weighted Water Use (ml)'] = float(str_water)"
   ]
  },
  {
   "cell_type": "code",
   "execution_count": 39,
   "metadata": {},
   "outputs": [],
   "source": [
    "# Calculate GHG, nitro, water footprints per gram/ml of each product for other products ingredients\n",
    "def get_products_ghge(index, row):\n",
    "    ingres = Ingredients.loc[Ingredients['Recipe'] == Products.loc[index,'ProdId']]\n",
    "    ghg = Products.loc[index, 'GHG Emission (g)']\n",
    "    nitro = Products.loc[index, 'N lost (g)']\n",
    "    water = Products.loc[index, 'Freshwater Withdrawals (ml)']\n",
    "    str_water = Products.loc[index, 'Stress-Weighted Water Use (ml)']\n",
    "    weight = Products.loc[index, 'Weight (g)']\n",
    "    #print('Index:', index, '\\nIngres:\\n', ingres)\n",
    "    for idx, row in ingres.iterrows():\n",
    "        ingre = ingres.loc[idx,'IngredientId']\n",
    "        if ingre.startswith('R'):\n",
    "            ghge = Products.loc[Products['ProdId'] == ingre, 'GHG Emission (g)']\n",
    "            nitro_fac = Products.loc[Products['ProdId'] == ingre, 'N lost (g)']\n",
    "            water_fac = Products.loc[Products['ProdId'] == ingre, 'Freshwater Withdrawals (ml)']\n",
    "            str_water_fac = Products.loc[Products['ProdId'] == ingre, 'Stress-Weighted Water Use (ml)']\n",
    "            Weight = Products.loc[Products['ProdId'] == ingre, 'Weight (g)']\n",
    "            Qty = float(ingres.loc[idx,'Qty'])\n",
    "            ghg += Qty*float(ghge)\n",
    "            nitro += Qty*float(nitro_fac)\n",
    "            water += Qty*float(water_fac)\n",
    "            str_water += Qty*float(str_water_fac)\n",
    "            weight += Qty*float(Weight)\n",
    "            #print(ingre, Qty, float(ghge), Qty*float(ghge))\n",
    "    Products.loc[index, 'GHG Emission (g)'] = float(ghg)\n",
    "    Products.loc[index, 'Weight (g)'] = float(weight)\n",
    "    Products.loc[index, 'N lost (g)'] = float(nitro)\n",
    "    Products.loc[index, 'Freshwater Withdrawals (ml)'] = float(water)\n",
    "    Products.loc[index, 'Stress-Weighted Water Use (ml)'] = float(str_water)"
   ]
  },
  {
   "cell_type": "code",
   "execution_count": 40,
   "metadata": {},
   "outputs": [],
   "source": [
    "for index, row in Products.iterrows():\n",
    "    get_items_ghge(index , row)"
   ]
  },
  {
   "cell_type": "code",
   "execution_count": 41,
   "metadata": {},
   "outputs": [],
   "source": [
    "for index, row in Products.iterrows():\n",
    "    get_preps_ghge(index, row)"
   ]
  },
  {
   "cell_type": "code",
   "execution_count": 42,
   "metadata": {},
   "outputs": [],
   "source": [
    "for index, row in Products.iterrows():\n",
    "    get_products_ghge(index, row)"
   ]
  },
  {
   "cell_type": "code",
   "execution_count": 43,
   "metadata": {},
   "outputs": [
    {
     "data": {
      "text/html": [
       "<div>\n",
       "<style scoped>\n",
       "    .dataframe tbody tr th:only-of-type {\n",
       "        vertical-align: middle;\n",
       "    }\n",
       "\n",
       "    .dataframe tbody tr th {\n",
       "        vertical-align: top;\n",
       "    }\n",
       "\n",
       "    .dataframe thead th {\n",
       "        text-align: right;\n",
       "    }\n",
       "</style>\n",
       "<table border=\"1\" class=\"dataframe\">\n",
       "  <thead>\n",
       "    <tr style=\"text-align: right;\">\n",
       "      <th></th>\n",
       "      <th>PrepId</th>\n",
       "      <th>Description</th>\n",
       "      <th>PakQty</th>\n",
       "      <th>PakUOM</th>\n",
       "      <th>InventoryGroup</th>\n",
       "      <th>StdQty</th>\n",
       "      <th>StdUom</th>\n",
       "    </tr>\n",
       "  </thead>\n",
       "  <tbody>\n",
       "  </tbody>\n",
       "</table>\n",
       "</div>"
      ],
      "text/plain": [
       "Empty DataFrame\n",
       "Columns: [PrepId, Description, PakQty, PakUOM, InventoryGroup, StdQty, StdUom]\n",
       "Index: []"
      ]
     },
     "execution_count": 43,
     "metadata": {},
     "output_type": "execute_result"
    }
   ],
   "source": [
    "# Filter out products using preps with unknown units\n",
    "Preps_Nonstd = pd.read_csv(os.path.join(os.getcwd(), \"data\", \"cleaning\", \"Preps_NonstdUom.csv\"))\n",
    "Preps_Nonstd"
   ]
  },
  {
   "cell_type": "code",
   "execution_count": 44,
   "metadata": {},
   "outputs": [],
   "source": [
    "def filter_products(index, row):\n",
    "    ingres = Ingredients.loc[Ingredients['Recipe'] == Products.loc[index,'ProdId']]\n",
    "    #print(ingres)\n",
    "    for idx, row in ingres.iterrows():\n",
    "        ingre = ingres.loc[idx,'IngredientId']\n",
    "        if ingre in Preps_Nonstd['PrepId'].tolist():\n",
    "            print(ingre, index, Products.loc[index,'ProdId'])\n",
    "            Products.drop(index, inplace=True)\n",
    "            break"
   ]
  },
  {
   "cell_type": "code",
   "execution_count": 45,
   "metadata": {},
   "outputs": [],
   "source": [
    "for index, row in Products.iterrows():\n",
    "    filter_products(index, row)"
   ]
  },
  {
   "cell_type": "code",
   "execution_count": 46,
   "metadata": {},
   "outputs": [],
   "source": [
    "Products['Freshwater Withdrawals (L)'] = round(Products['Freshwater Withdrawals (ml)']/1000, 2)\n",
    "Products['Stress-Weighted Water Use (L)'] = round(Products['Stress-Weighted Water Use (ml)']/1000, 2)\n",
    "Products = Products.drop(columns=['Freshwater Withdrawals (ml)', 'Stress-Weighted Water Use (ml)'])"
   ]
  },
  {
   "cell_type": "code",
   "execution_count": 47,
   "metadata": {},
   "outputs": [],
   "source": [
    "Products['GHG Emission (g) / 100g'] = round(100*Products['GHG Emission (g)']/Products['Weight (g)'], 2)\n",
    "Products['N lost (g) / 100g'] = round(100*Products['N lost (g)']/Products['Weight (g)'], 2)\n",
    "Products['Freshwater Withdrawals (L) / 100g'] = round(100*Products['Freshwater Withdrawals (L)']/Products['Weight (g)'], 2)\n",
    "Products['Stress-Weighted Water Use (L) / 100g'] = round(100*Products['Stress-Weighted Water Use (L)']/Products['Weight (g)'], 2)"
   ]
  },
  {
   "cell_type": "code",
   "execution_count": 48,
   "metadata": {},
   "outputs": [
    {
     "data": {
      "text/html": [
       "<div>\n",
       "<style scoped>\n",
       "    .dataframe tbody tr th:only-of-type {\n",
       "        vertical-align: middle;\n",
       "    }\n",
       "\n",
       "    .dataframe tbody tr th {\n",
       "        vertical-align: top;\n",
       "    }\n",
       "\n",
       "    .dataframe thead th {\n",
       "        text-align: right;\n",
       "    }\n",
       "</style>\n",
       "<table border=\"1\" class=\"dataframe\">\n",
       "  <thead>\n",
       "    <tr style=\"text-align: right;\">\n",
       "      <th></th>\n",
       "      <th>ProdId</th>\n",
       "      <th>Description</th>\n",
       "      <th>SalesGroup</th>\n",
       "      <th>Weight (g)</th>\n",
       "      <th>GHG Emission (g)</th>\n",
       "      <th>N lost (g)</th>\n",
       "      <th>Freshwater Withdrawals (L)</th>\n",
       "      <th>Stress-Weighted Water Use (L)</th>\n",
       "      <th>GHG Emission (g) / 100g</th>\n",
       "      <th>N lost (g) / 100g</th>\n",
       "      <th>Freshwater Withdrawals (L) / 100g</th>\n",
       "      <th>Stress-Weighted Water Use (L) / 100g</th>\n",
       "    </tr>\n",
       "  </thead>\n",
       "  <tbody>\n",
       "    <tr>\n",
       "      <th>0</th>\n",
       "      <td>R-61778</td>\n",
       "      <td>ALF|Flatbread|4 Cheese</td>\n",
       "      <td>OK - AL FORNO</td>\n",
       "      <td>185.000000</td>\n",
       "      <td>1229.947500</td>\n",
       "      <td>11.939000</td>\n",
       "      <td>212.84</td>\n",
       "      <td>10662.59</td>\n",
       "      <td>664.84</td>\n",
       "      <td>6.45</td>\n",
       "      <td>115.05</td>\n",
       "      <td>5763.56</td>\n",
       "    </tr>\n",
       "    <tr>\n",
       "      <th>1</th>\n",
       "      <td>R-61780</td>\n",
       "      <td>ALF|Flatbread|Apple &amp; Pancetta</td>\n",
       "      <td>OK - AL FORNO</td>\n",
       "      <td>140.000000</td>\n",
       "      <td>756.345750</td>\n",
       "      <td>9.031250</td>\n",
       "      <td>144.99</td>\n",
       "      <td>5287.95</td>\n",
       "      <td>540.25</td>\n",
       "      <td>6.45</td>\n",
       "      <td>103.56</td>\n",
       "      <td>3777.11</td>\n",
       "    </tr>\n",
       "    <tr>\n",
       "      <th>2</th>\n",
       "      <td>R-61749</td>\n",
       "      <td>ALF|Flatbread|BBQ Chicken</td>\n",
       "      <td>OK - AL FORNO</td>\n",
       "      <td>245.000000</td>\n",
       "      <td>1011.756923</td>\n",
       "      <td>18.958191</td>\n",
       "      <td>118.17</td>\n",
       "      <td>3196.50</td>\n",
       "      <td>412.96</td>\n",
       "      <td>7.74</td>\n",
       "      <td>48.23</td>\n",
       "      <td>1304.69</td>\n",
       "    </tr>\n",
       "    <tr>\n",
       "      <th>3</th>\n",
       "      <td>R-50859</td>\n",
       "      <td>ALF|Flatbread|Bruschetta</td>\n",
       "      <td>OK - AL FORNO</td>\n",
       "      <td>215.000000</td>\n",
       "      <td>454.128829</td>\n",
       "      <td>4.589045</td>\n",
       "      <td>75.98</td>\n",
       "      <td>3520.38</td>\n",
       "      <td>211.22</td>\n",
       "      <td>2.13</td>\n",
       "      <td>35.34</td>\n",
       "      <td>1637.39</td>\n",
       "    </tr>\n",
       "    <tr>\n",
       "      <th>4</th>\n",
       "      <td>R-50788</td>\n",
       "      <td>ALF|Flatbread|Caprese</td>\n",
       "      <td>OK - AL FORNO</td>\n",
       "      <td>233.000000</td>\n",
       "      <td>1010.276452</td>\n",
       "      <td>10.809234</td>\n",
       "      <td>150.95</td>\n",
       "      <td>7671.61</td>\n",
       "      <td>433.60</td>\n",
       "      <td>4.64</td>\n",
       "      <td>64.79</td>\n",
       "      <td>3292.54</td>\n",
       "    </tr>\n",
       "    <tr>\n",
       "      <th>...</th>\n",
       "      <td>...</td>\n",
       "      <td>...</td>\n",
       "      <td>...</td>\n",
       "      <td>...</td>\n",
       "      <td>...</td>\n",
       "      <td>...</td>\n",
       "      <td>...</td>\n",
       "      <td>...</td>\n",
       "      <td>...</td>\n",
       "      <td>...</td>\n",
       "      <td>...</td>\n",
       "      <td>...</td>\n",
       "    </tr>\n",
       "    <tr>\n",
       "      <th>453</th>\n",
       "      <td>R-57815</td>\n",
       "      <td>SQR|Tofu Sofrito Quesadilla +1</td>\n",
       "      <td>OK - SQUARE MEAL</td>\n",
       "      <td>650.000002</td>\n",
       "      <td>1542.748135</td>\n",
       "      <td>11.964991</td>\n",
       "      <td>171.88</td>\n",
       "      <td>8616.10</td>\n",
       "      <td>237.35</td>\n",
       "      <td>1.84</td>\n",
       "      <td>26.44</td>\n",
       "      <td>1325.55</td>\n",
       "    </tr>\n",
       "    <tr>\n",
       "      <th>454</th>\n",
       "      <td>R-61679</td>\n",
       "      <td>SQR|Tofu Sofrito Quesadilla +2</td>\n",
       "      <td>OK - SQUARE MEAL</td>\n",
       "      <td>1065.000002</td>\n",
       "      <td>2275.218575</td>\n",
       "      <td>16.560511</td>\n",
       "      <td>214.99</td>\n",
       "      <td>11264.83</td>\n",
       "      <td>213.64</td>\n",
       "      <td>1.55</td>\n",
       "      <td>20.19</td>\n",
       "      <td>1057.73</td>\n",
       "    </tr>\n",
       "    <tr>\n",
       "      <th>455</th>\n",
       "      <td>R-56902</td>\n",
       "      <td>SQR|Vegan Lettuce Wrap</td>\n",
       "      <td>OK - SQUARE MEAL</td>\n",
       "      <td>399.999993</td>\n",
       "      <td>640.295633</td>\n",
       "      <td>3.987816</td>\n",
       "      <td>81.04</td>\n",
       "      <td>4682.22</td>\n",
       "      <td>160.07</td>\n",
       "      <td>1.00</td>\n",
       "      <td>20.26</td>\n",
       "      <td>1170.56</td>\n",
       "    </tr>\n",
       "    <tr>\n",
       "      <th>456</th>\n",
       "      <td>R-57810</td>\n",
       "      <td>SQR|Vegan Lettuce Wrap +1</td>\n",
       "      <td>OK - SQUARE MEAL</td>\n",
       "      <td>544.999993</td>\n",
       "      <td>806.712203</td>\n",
       "      <td>4.920096</td>\n",
       "      <td>157.61</td>\n",
       "      <td>5354.54</td>\n",
       "      <td>148.02</td>\n",
       "      <td>0.90</td>\n",
       "      <td>28.92</td>\n",
       "      <td>982.48</td>\n",
       "    </tr>\n",
       "    <tr>\n",
       "      <th>457</th>\n",
       "      <td>R-57811</td>\n",
       "      <td>SQR|Vegan Lettuce Wrap +2</td>\n",
       "      <td>OK - SQUARE MEAL</td>\n",
       "      <td>689.999993</td>\n",
       "      <td>973.128774</td>\n",
       "      <td>5.852376</td>\n",
       "      <td>234.18</td>\n",
       "      <td>6026.86</td>\n",
       "      <td>141.03</td>\n",
       "      <td>0.85</td>\n",
       "      <td>33.94</td>\n",
       "      <td>873.46</td>\n",
       "    </tr>\n",
       "  </tbody>\n",
       "</table>\n",
       "<p>458 rows × 12 columns</p>\n",
       "</div>"
      ],
      "text/plain": [
       "      ProdId                     Description        SalesGroup   Weight (g)  \\\n",
       "0    R-61778          ALF|Flatbread|4 Cheese     OK - AL FORNO   185.000000   \n",
       "1    R-61780  ALF|Flatbread|Apple & Pancetta     OK - AL FORNO   140.000000   \n",
       "2    R-61749       ALF|Flatbread|BBQ Chicken     OK - AL FORNO   245.000000   \n",
       "3    R-50859        ALF|Flatbread|Bruschetta     OK - AL FORNO   215.000000   \n",
       "4    R-50788           ALF|Flatbread|Caprese     OK - AL FORNO   233.000000   \n",
       "..       ...                             ...               ...          ...   \n",
       "453  R-57815  SQR|Tofu Sofrito Quesadilla +1  OK - SQUARE MEAL   650.000002   \n",
       "454  R-61679  SQR|Tofu Sofrito Quesadilla +2  OK - SQUARE MEAL  1065.000002   \n",
       "455  R-56902          SQR|Vegan Lettuce Wrap  OK - SQUARE MEAL   399.999993   \n",
       "456  R-57810       SQR|Vegan Lettuce Wrap +1  OK - SQUARE MEAL   544.999993   \n",
       "457  R-57811       SQR|Vegan Lettuce Wrap +2  OK - SQUARE MEAL   689.999993   \n",
       "\n",
       "     GHG Emission (g)  N lost (g)  Freshwater Withdrawals (L)  \\\n",
       "0         1229.947500   11.939000                      212.84   \n",
       "1          756.345750    9.031250                      144.99   \n",
       "2         1011.756923   18.958191                      118.17   \n",
       "3          454.128829    4.589045                       75.98   \n",
       "4         1010.276452   10.809234                      150.95   \n",
       "..                ...         ...                         ...   \n",
       "453       1542.748135   11.964991                      171.88   \n",
       "454       2275.218575   16.560511                      214.99   \n",
       "455        640.295633    3.987816                       81.04   \n",
       "456        806.712203    4.920096                      157.61   \n",
       "457        973.128774    5.852376                      234.18   \n",
       "\n",
       "     Stress-Weighted Water Use (L)  GHG Emission (g) / 100g  \\\n",
       "0                         10662.59                   664.84   \n",
       "1                          5287.95                   540.25   \n",
       "2                          3196.50                   412.96   \n",
       "3                          3520.38                   211.22   \n",
       "4                          7671.61                   433.60   \n",
       "..                             ...                      ...   \n",
       "453                        8616.10                   237.35   \n",
       "454                       11264.83                   213.64   \n",
       "455                        4682.22                   160.07   \n",
       "456                        5354.54                   148.02   \n",
       "457                        6026.86                   141.03   \n",
       "\n",
       "     N lost (g) / 100g  Freshwater Withdrawals (L) / 100g  \\\n",
       "0                 6.45                             115.05   \n",
       "1                 6.45                             103.56   \n",
       "2                 7.74                              48.23   \n",
       "3                 2.13                              35.34   \n",
       "4                 4.64                              64.79   \n",
       "..                 ...                                ...   \n",
       "453               1.84                              26.44   \n",
       "454               1.55                              20.19   \n",
       "455               1.00                              20.26   \n",
       "456               0.90                              28.92   \n",
       "457               0.85                              33.94   \n",
       "\n",
       "     Stress-Weighted Water Use (L) / 100g  \n",
       "0                                 5763.56  \n",
       "1                                 3777.11  \n",
       "2                                 1304.69  \n",
       "3                                 1637.39  \n",
       "4                                 3292.54  \n",
       "..                                    ...  \n",
       "453                               1325.55  \n",
       "454                               1057.73  \n",
       "455                               1170.56  \n",
       "456                                982.48  \n",
       "457                                873.46  \n",
       "\n",
       "[458 rows x 12 columns]"
      ]
     },
     "execution_count": 48,
     "metadata": {},
     "output_type": "execute_result"
    }
   ],
   "source": [
    "Products"
   ]
  },
  {
   "cell_type": "code",
   "execution_count": 49,
   "metadata": {},
   "outputs": [
    {
     "data": {
      "text/plain": [
       "(458, 12)"
      ]
     },
     "execution_count": 49,
     "metadata": {},
     "output_type": "execute_result"
    }
   ],
   "source": [
    "Products.shape"
   ]
  },
  {
   "cell_type": "code",
   "execution_count": 50,
   "metadata": {},
   "outputs": [],
   "source": [
    "path = os.path.join(os.getcwd(), \"data\", \"final\", \"Recipes Footprints.csv\")\n",
    "Products.to_csv(path, index = False, header = True)"
   ]
  },
  {
   "cell_type": "markdown",
   "metadata": {},
   "source": [
    "## Data Visualization"
   ]
  },
  {
   "cell_type": "code",
   "execution_count": 51,
   "metadata": {},
   "outputs": [],
   "source": [
    "path = os.path.join(os.getcwd(), \"reports\", \"figures/\")"
   ]
  },
  {
   "cell_type": "code",
   "execution_count": 52,
   "metadata": {},
   "outputs": [
    {
     "data": {
      "text/plain": [
       "<AxesSubplot:>"
      ]
     },
     "execution_count": 52,
     "metadata": {},
     "output_type": "execute_result"
    },
    {
     "data": {
      "image/png": "[encoded data removed]",
      "text/plain": [
       "<Figure size 432x288 with 1 Axes>"
      ]
     },
     "metadata": {
      "needs_background": "light"
     },
     "output_type": "display_data"
    }
   ],
   "source": [
    "Products.boxplot(column=['GHG Emission (g)'], return_type='axes')"
   ]
  },
  {
   "cell_type": "code",
   "execution_count": 53,
   "metadata": {},
   "outputs": [
    {
     "data": {
      "text/plain": [
       "<AxesSubplot:>"
      ]
     },
     "execution_count": 53,
     "metadata": {},
     "output_type": "execute_result"
    },
    {
     "data": {
      "image/png": "[encoded data removed]",
      "text/plain": [
       "<Figure size 432x288 with 1 Axes>"
      ]
     },
     "metadata": {
      "needs_background": "light"
     },
     "output_type": "display_data"
    }
   ],
   "source": [
    "Products.boxplot(column=['N lost (g)'], return_type='axes')"
   ]
  },
  {
   "cell_type": "code",
   "execution_count": 54,
   "metadata": {},
   "outputs": [
    {
     "data": {
      "text/plain": [
       "<AxesSubplot:>"
      ]
     },
     "execution_count": 54,
     "metadata": {},
     "output_type": "execute_result"
    },
    {
     "data": {
      "image/png": "[encoded data removed]",
      "text/plain": [
       "<Figure size 432x288 with 1 Axes>"
      ]
     },
     "metadata": {
      "needs_background": "light"
     },
     "output_type": "display_data"
    }
   ],
   "source": [
    "Products.boxplot(column=['Freshwater Withdrawals (L)'], return_type='axes')"
   ]
  },
  {
   "cell_type": "code",
   "execution_count": 55,
   "metadata": {},
   "outputs": [
    {
     "data": {
      "text/plain": [
       "<AxesSubplot:>"
      ]
     },
     "execution_count": 55,
     "metadata": {},
     "output_type": "execute_result"
    },
    {
     "data": {
      "image/png": "[encoded data removed]",
      "text/plain": [
       "<Figure size 432x288 with 1 Axes>"
      ]
     },
     "metadata": {
      "needs_background": "light"
     },
     "output_type": "display_data"
    }
   ],
   "source": [
    "Products.boxplot(column=['Stress-Weighted Water Use (L)'], return_type='axes')"
   ]
  },
  {
   "cell_type": "code",
   "execution_count": 56,
   "metadata": {},
   "outputs": [
    {
     "data": {
      "image/png": "[encoded data removed]",
      "text/plain": [
       "<Figure size 432x288 with 1 Axes>"
      ]
     },
     "metadata": {
      "needs_background": "light"
     },
     "output_type": "display_data"
    }
   ],
   "source": [
    "Products.hist(column=['GHG Emission (g)'], bins= 40, alpha = 0.7)\n",
    "plt.axvline(Products['GHG Emission (g)'].mean(), color='r', linestyle='dashed', linewidth=2, label = 'mean' )\n",
    "plt.axvline(Products['GHG Emission (g)'].median(), color='k', linewidth=1, label = 'median')\n",
    "plt.xlabel('GHG Emission (g) / Dish')\n",
    "plt.ylabel('Frequency')\n",
    "plt.xlim(left=0)\n",
    "plt.savefig(path + 'GHGe_dish.png')"
   ]
  },
  {
   "cell_type": "code",
   "execution_count": 57,
   "metadata": {},
   "outputs": [
    {
     "data": {
      "image/png": "[encoded data removed]",
      "text/plain": [
       "<Figure size 432x288 with 1 Axes>"
      ]
     },
     "metadata": {
      "needs_background": "light"
     },
     "output_type": "display_data"
    }
   ],
   "source": [
    "Products.hist(column=['GHG Emission (g) / 100g'], bins= 40, alpha = 0.7)\n",
    "plt.axvline(Products['GHG Emission (g) / 100g'].mean(), color='r', linestyle='dashed', linewidth=2, label = 'mean' )\n",
    "plt.axvline(Products['GHG Emission (g) / 100g'].median(), color='k', linewidth=1, label = 'median')\n",
    "plt.xlabel('GHG Emission (g) / 100g')\n",
    "plt.ylabel('Frequency')\n",
    "plt.xlim(left=0)\n",
    "plt.savefig(path + 'GHGe_100g.png')"
   ]
  },
  {
   "cell_type": "code",
   "execution_count": 58,
   "metadata": {},
   "outputs": [
    {
     "data": {
      "image/png": "[encoded data removed]",
      "text/plain": [
       "<Figure size 432x288 with 1 Axes>"
      ]
     },
     "metadata": {
      "needs_background": "light"
     },
     "output_type": "display_data"
    }
   ],
   "source": [
    "Products.hist(column=['N lost (g)'], bins= 40, alpha = 0.7)\n",
    "plt.axvline(Products['N lost (g)'].mean(), color='r', linestyle='dashed', linewidth=2, label = 'mean' )\n",
    "plt.axvline(Products['N lost (g)'].median(), color='k', linewidth=1, label = 'median')\n",
    "plt.xlabel('N lost (g) / Dish')\n",
    "plt.ylabel('Frequency')\n",
    "plt.xlim(left=0)\n",
    "plt.savefig(path + 'N lost_dish.png')"
   ]
  },
  {
   "cell_type": "code",
   "execution_count": 59,
   "metadata": {},
   "outputs": [
    {
     "data": {
      "image/png": "[encoded data removed]",
      "text/plain": [
       "<Figure size 432x288 with 1 Axes>"
      ]
     },
     "metadata": {
      "needs_background": "light"
     },
     "output_type": "display_data"
    }
   ],
   "source": [
    "Products.hist(column=['N lost (g) / 100g'], bins= 40, alpha = 0.7)\n",
    "plt.axvline(Products['N lost (g) / 100g'].mean(), color='r', linestyle='dashed', linewidth=2, label = 'mean' )\n",
    "plt.axvline(Products['N lost (g) / 100g'].median(), color='k', linewidth=1, label = 'median')\n",
    "plt.xlabel('N lost (g) / 100g')\n",
    "plt.ylabel('Frequency')\n",
    "plt.xlim(left=0)\n",
    "plt.savefig(path + 'N lost_100g.png')"
   ]
  },
  {
   "cell_type": "code",
   "execution_count": 60,
   "metadata": {},
   "outputs": [
    {
     "data": {
      "image/png": "[encoded data removed]",
      "text/plain": [
       "<Figure size 432x288 with 1 Axes>"
      ]
     },
     "metadata": {
      "needs_background": "light"
     },
     "output_type": "display_data"
    }
   ],
   "source": [
    "Products.hist(column=['Freshwater Withdrawals (L)'], bins= 40, alpha = 0.7)\n",
    "plt.axvline(Products['Freshwater Withdrawals (L)'].mean(), color='r', linestyle='dashed', linewidth=2, label = 'mean' )\n",
    "plt.axvline(Products['Freshwater Withdrawals (L)'].median(), color='k', linewidth=1, label = 'median')\n",
    "plt.xlabel('Freshwater Withdrawals (L) / Dish')\n",
    "plt.ylabel('Frequency')\n",
    "plt.xlim(left=0)\n",
    "plt.savefig(path + 'Fresh water_dish.png')"
   ]
  },
  {
   "cell_type": "code",
   "execution_count": 61,
   "metadata": {},
   "outputs": [
    {
     "data": {
      "image/png": "[encoded data removed]",
      "text/plain": [
       "<Figure size 432x288 with 1 Axes>"
      ]
     },
     "metadata": {
      "needs_background": "light"
     },
     "output_type": "display_data"
    }
   ],
   "source": [
    "Products.hist(column=['Freshwater Withdrawals (L) / 100g'], bins= 40, alpha = 0.7)\n",
    "plt.axvline(Products['Freshwater Withdrawals (L) / 100g'].mean(), color='r', linestyle='dashed', linewidth=2, label = 'mean' )\n",
    "plt.axvline(Products['Freshwater Withdrawals (L) / 100g'].median(), color='k', linewidth=1, label = 'median')\n",
    "plt.xlabel('Freshwater Withdrawals (L) / 100g')\n",
    "plt.ylabel('Frequency')\n",
    "plt.xlim(left=0)\n",
    "plt.savefig(path + 'Fresh water_100g.png')"
   ]
  },
  {
   "cell_type": "code",
   "execution_count": 62,
   "metadata": {},
   "outputs": [
    {
     "data": {
      "image/png": "[encoded data removed]",
      "text/plain": [
       "<Figure size 432x288 with 1 Axes>"
      ]
     },
     "metadata": {
      "needs_background": "light"
     },
     "output_type": "display_data"
    }
   ],
   "source": [
    "Products.hist(column=['Stress-Weighted Water Use (L)'], bins= 40, alpha = 0.7)\n",
    "plt.axvline(Products['Stress-Weighted Water Use (L)'].mean(), color='r', linestyle='dashed', linewidth=2, label = 'mean' )\n",
    "plt.axvline(Products['Stress-Weighted Water Use (L)'].median(), color='k', linewidth=1, label = 'median')\n",
    "plt.xlabel('Stress-Weighted Water Use (L) / Dish')\n",
    "plt.ylabel('Frequency')\n",
    "plt.xlim(left=0)\n",
    "plt.savefig(path + 'Stress water_dish.png')"
   ]
  },
  {
   "cell_type": "code",
   "execution_count": 63,
   "metadata": {},
   "outputs": [
    {
     "data": {
      "image/png": "[encoded data removed]",
      "text/plain": [
       "<Figure size 432x288 with 1 Axes>"
      ]
     },
     "metadata": {
      "needs_background": "light"
     },
     "output_type": "display_data"
    }
   ],
   "source": [
    "Products.hist(column=['Stress-Weighted Water Use (L) / 100g'], bins= 40, alpha = 0.7)\n",
    "plt.axvline(Products['Stress-Weighted Water Use (L) / 100g'].mean(), color='r', linestyle='dashed', linewidth=2, label = 'mean' )\n",
    "plt.axvline(Products['Stress-Weighted Water Use (L) / 100g'].median(), color='k', linewidth=1, label = 'median')\n",
    "plt.xlabel('Stress-Weighted Water Use (L) / 100g')\n",
    "plt.ylabel('Frequency')\n",
    "plt.xlim(left=0)\n",
    "plt.savefig(path + 'Stress water_100g.png')"
   ]
  }
 ],
 "metadata": {
  "kernelspec": {
   "display_name": "Python 3",
   "language": "python",
   "name": "python3"
  },
  "language_info": {
   "codemirror_mode": {
    "name": "ipython",
    "version": 3
   },
   "file_extension": ".py",
   "mimetype": "text/x-python",
   "name": "python",
   "nbconvert_exporter": "python",
   "pygments_lexer": "ipython3",
   "version": "3.8.5"
  }
 },
 "nbformat": 4,
 "nbformat_minor": 4
}
