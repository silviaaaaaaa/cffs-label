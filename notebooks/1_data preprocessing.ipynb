{
 "cells": [
  {
   "cell_type": "markdown",
   "metadata": {},
   "source": [
    "![](ubc_header.png)"
   ]
  },
  {
   "cell_type": "markdown",
   "metadata": {},
   "source": [
    "# Climate-Friendly Food Systems (CFFS) Labelling Project\n",
    "\n",
    "### The University of British Columbia\n",
    "\n",
    "#### Created by Silvia Huang, CFFS Data Analyst\n",
    "****\n",
    "\n",
    "## Part I: Data Preprocessing"
   ]
  },
  {
   "cell_type": "markdown",
   "metadata": {},
   "source": [
    "## Set up and Import Libraries"
   ]
  },
  {
   "cell_type": "code",
   "execution_count": 1,
   "metadata": {},
   "outputs": [],
   "source": [
    "#pip install -r requirements.txt"
   ]
  },
  {
   "cell_type": "code",
   "execution_count": 2,
   "metadata": {},
   "outputs": [],
   "source": [
    "import numpy as np\n",
    "import pandas as pd\n",
    "import pdpipe as pdp\n",
    "import matplotlib.pyplot as plt\n",
    "import glob\n",
    "import os\n",
    "import csv\n",
    "from itertools import islice\n",
    "from decimal import Decimal\n",
    "import xml.etree.ElementTree as et\n",
    "from xml.etree.ElementTree import parse\n",
    "import openpyxl\n",
    "import pytest"
   ]
  },
  {
   "cell_type": "code",
   "execution_count": 3,
   "metadata": {},
   "outputs": [],
   "source": [
    "# Set the root path, change the the current working directory into the project folder\n",
    "path = \"/Users/silvia/cffs-label\"\n",
    "os.chdir(path)"
   ]
  },
  {
   "cell_type": "code",
   "execution_count": 4,
   "metadata": {},
   "outputs": [],
   "source": [
    "# Enable reading data table in the scrolling window if you prefer\n",
    "#pd.set_option(\"display.max_rows\", None, \"display.max_columns\", None)"
   ]
  },
  {
   "cell_type": "markdown",
   "metadata": {},
   "source": [
    "****\n",
    "\n",
    "## Load Data Files\n",
    "\n",
    "### Set Data File Path"
   ]
  },
  {
   "cell_type": "code",
   "execution_count": 5,
   "metadata": {},
   "outputs": [
    {
     "data": {
      "text/plain": [
       "['/Users/silvia/cffs-label/data/raw/OK 21-22/IPR_Export_06182021_0938.oc',\n",
       " '/Users/silvia/cffs-label/data/raw/OK 21-22/IPR_Export_06232021_0918.oc',\n",
       " '/Users/silvia/cffs-label/data/raw/OK 21-22/IPR_Export_06182021_0918.oc',\n",
       " '/Users/silvia/cffs-label/data/raw/OK 21-22/IPR_Export_06232021_1141.oc',\n",
       " '/Users/silvia/cffs-label/data/raw/OK 21-22/IPR_Export_06182021_1001.oc',\n",
       " '/Users/silvia/cffs-label/data/raw/OK 21-22/IPR_Export_06232021_1155.oc',\n",
       " '/Users/silvia/cffs-label/data/raw/OK 21-22/IPR_Export_06182021_0927.oc',\n",
       " '/Users/silvia/cffs-label/data/raw/OK 21-22/IPR_Export_06232021_0956.oc',\n",
       " '/Users/silvia/cffs-label/data/raw/OK 21-22/IPR_Export_06232021_1202.oc',\n",
       " '/Users/silvia/cffs-label/data/raw/OK 21-22/IPR_Export_06232021_1111.oc',\n",
       " '/Users/silvia/cffs-label/data/raw/OK 21-22/IPR_Export_06182021_0933.oc',\n",
       " '/Users/silvia/cffs-label/data/raw/OK 21-22/IPR_Export_06232021_1150.oc',\n",
       " '/Users/silvia/cffs-label/data/raw/OK 21-22/IPR_Export_06232021_0951.oc',\n",
       " '/Users/silvia/cffs-label/data/raw/OK 21-22/IPR_Export_06182021_1033.oc',\n",
       " '/Users/silvia/cffs-label/data/raw/OK 21-22/IPR_Export_06182021_1007.oc',\n",
       " '/Users/silvia/cffs-label/data/raw/OK 21-22/IPR_Export_06182021_0944.oc',\n",
       " '/Users/silvia/cffs-label/data/raw/OK 21-22/OK Oct 22 Request.oc',\n",
       " '/Users/silvia/cffs-label/data/raw/OK 21-22/IPR_Export_06182021_1026.oc',\n",
       " '/Users/silvia/cffs-label/data/raw/OK 21-22/IPR_Export_06232021_0944.oc']"
      ]
     },
     "execution_count": 5,
     "metadata": {},
     "output_type": "execute_result"
    }
   ],
   "source": [
    "# Select data file path for the chosen venue and time range where the recipes data stored\n",
    "filepath_list = glob.glob(os.path.join(os.getcwd(), \"data\", \"raw\", \"OK 21-22\", \"*.oc\"))\n",
    "filepath_list"
   ]
  },
  {
   "cell_type": "markdown",
   "metadata": {},
   "source": [
    "### Import Items List"
   ]
  },
  {
   "cell_type": "code",
   "execution_count": 6,
   "metadata": {
    "scrolled": true
   },
   "outputs": [],
   "source": [
    "# Read items.xml files in the filepath_list and construct a dataframe\n",
    "ItemId = []\n",
    "Description = []\n",
    "CaseQty = []\n",
    "CaseUOM = []\n",
    "PakQty = []\n",
    "PakUOM = []\n",
    "InventoryGroup = []\n",
    "\n",
    "for filepath in filepath_list:\n",
    "    path = filepath + '/items.xml'\n",
    "    if os.path.isfile(path):\n",
    "        xtree = et.parse(path)\n",
    "        xroot = xtree.getroot()\n",
    "        for item in xtree.iterfind('Item'):\n",
    "            ItemId.append(item.attrib['id'])\n",
    "            Description.append(item.findtext('Description'))\n",
    "            CaseQty.append(item.findtext('CaseQty'))\n",
    "            CaseUOM.append(item.findtext('CaseUOM'))\n",
    "            PakQty.append(item.findtext('PakQty'))\n",
    "            PakUOM.append(item.findtext('PakUOM'))\n",
    "            InventoryGroup.append(item.findtext('InventoryGroup'))\n",
    "\n",
    "        \n",
    "Items = pd.DataFrame({'ItemId': ItemId, 'Description': Description, 'CaseQty': CaseQty, \n",
    "                      'CaseUOM': CaseUOM, 'PakQty': PakQty, 'PakUOM': PakUOM, 'InventoryGroup': InventoryGroup}\n",
    "                    ).drop_duplicates()\n",
    "\n",
    "Items.reset_index(drop=True, inplace=True)"
   ]
  },
  {
   "cell_type": "code",
   "execution_count": 7,
   "metadata": {},
   "outputs": [
    {
     "data": {
      "text/html": [
       "<div>\n",
       "<style scoped>\n",
       "    .dataframe tbody tr th:only-of-type {\n",
       "        vertical-align: middle;\n",
       "    }\n",
       "\n",
       "    .dataframe tbody tr th {\n",
       "        vertical-align: top;\n",
       "    }\n",
       "\n",
       "    .dataframe thead th {\n",
       "        text-align: right;\n",
       "    }\n",
       "</style>\n",
       "<table border=\"1\" class=\"dataframe\">\n",
       "  <thead>\n",
       "    <tr style=\"text-align: right;\">\n",
       "      <th></th>\n",
       "      <th>ItemId</th>\n",
       "      <th>Description</th>\n",
       "      <th>CaseQty</th>\n",
       "      <th>CaseUOM</th>\n",
       "      <th>PakQty</th>\n",
       "      <th>PakUOM</th>\n",
       "      <th>InventoryGroup</th>\n",
       "    </tr>\n",
       "  </thead>\n",
       "  <tbody>\n",
       "    <tr>\n",
       "      <th>0</th>\n",
       "      <td>I-4271</td>\n",
       "      <td>APPLES GRANNY SMITH</td>\n",
       "      <td>113.000</td>\n",
       "      <td>ea</td>\n",
       "      <td>1.000</td>\n",
       "      <td>CT</td>\n",
       "      <td>PRODUCE</td>\n",
       "    </tr>\n",
       "    <tr>\n",
       "      <th>1</th>\n",
       "      <td>I-4971</td>\n",
       "      <td>ARTICHOKE 1/4 SALAD CUT TFC</td>\n",
       "      <td>6.000</td>\n",
       "      <td>LG CAN</td>\n",
       "      <td>2.500</td>\n",
       "      <td>Kg</td>\n",
       "      <td>PRODUCE</td>\n",
       "    </tr>\n",
       "    <tr>\n",
       "      <th>2</th>\n",
       "      <td>I-2305</td>\n",
       "      <td>BACON PANCETTA</td>\n",
       "      <td>1.000</td>\n",
       "      <td>Kg</td>\n",
       "      <td>1.000</td>\n",
       "      <td>Kg</td>\n",
       "      <td>MEAT</td>\n",
       "    </tr>\n",
       "    <tr>\n",
       "      <th>3</th>\n",
       "      <td>I-1207</td>\n",
       "      <td>BAGUETTE FRENCH</td>\n",
       "      <td>24.000</td>\n",
       "      <td>each</td>\n",
       "      <td>1.000</td>\n",
       "      <td>CT</td>\n",
       "      <td>BREAD</td>\n",
       "    </tr>\n",
       "    <tr>\n",
       "      <th>4</th>\n",
       "      <td>I-17203</td>\n",
       "      <td>BALSAMIC GLAZE</td>\n",
       "      <td>2.000</td>\n",
       "      <td>bottle</td>\n",
       "      <td>2.000</td>\n",
       "      <td>L</td>\n",
       "      <td>FOOD - GROCERY</td>\n",
       "    </tr>\n",
       "    <tr>\n",
       "      <th>...</th>\n",
       "      <td>...</td>\n",
       "      <td>...</td>\n",
       "      <td>...</td>\n",
       "      <td>...</td>\n",
       "      <td>...</td>\n",
       "      <td>...</td>\n",
       "      <td>...</td>\n",
       "    </tr>\n",
       "    <tr>\n",
       "      <th>593</th>\n",
       "      <td>I-18915</td>\n",
       "      <td>SPRING ROLL VEG</td>\n",
       "      <td>48.000</td>\n",
       "      <td>ea</td>\n",
       "      <td>1.000</td>\n",
       "      <td>ea</td>\n",
       "      <td>FOOD - GROCERY</td>\n",
       "    </tr>\n",
       "    <tr>\n",
       "      <th>594</th>\n",
       "      <td>I-4903</td>\n",
       "      <td>SQUASH SPAGHETTI 36 LBS US</td>\n",
       "      <td>35.000</td>\n",
       "      <td>lb</td>\n",
       "      <td>1.000</td>\n",
       "      <td>lb</td>\n",
       "      <td>PRODUCE</td>\n",
       "    </tr>\n",
       "    <tr>\n",
       "      <th>595</th>\n",
       "      <td>I-28907</td>\n",
       "      <td>STEAMED BUN BBQ PORK</td>\n",
       "      <td>60.000</td>\n",
       "      <td>ea</td>\n",
       "      <td>1.000</td>\n",
       "      <td>each</td>\n",
       "      <td>FOOD - GROCERY</td>\n",
       "    </tr>\n",
       "    <tr>\n",
       "      <th>596</th>\n",
       "      <td>I-28920</td>\n",
       "      <td>STICKY RICE WRAP</td>\n",
       "      <td>16.000</td>\n",
       "      <td>bag</td>\n",
       "      <td>3.000</td>\n",
       "      <td>each</td>\n",
       "      <td>FOOD - GROCERY</td>\n",
       "    </tr>\n",
       "    <tr>\n",
       "      <th>597</th>\n",
       "      <td>I-61420</td>\n",
       "      <td>TOFU FIRM MEDIUM</td>\n",
       "      <td>12.000</td>\n",
       "      <td>pak</td>\n",
       "      <td>454.000</td>\n",
       "      <td>g</td>\n",
       "      <td>FOOD - GROCERY</td>\n",
       "    </tr>\n",
       "  </tbody>\n",
       "</table>\n",
       "<p>598 rows × 7 columns</p>\n",
       "</div>"
      ],
      "text/plain": [
       "      ItemId                  Description  CaseQty CaseUOM   PakQty PakUOM  \\\n",
       "0     I-4271          APPLES GRANNY SMITH  113.000      ea    1.000     CT   \n",
       "1     I-4971  ARTICHOKE 1/4 SALAD CUT TFC    6.000  LG CAN    2.500     Kg   \n",
       "2     I-2305               BACON PANCETTA    1.000      Kg    1.000     Kg   \n",
       "3     I-1207              BAGUETTE FRENCH   24.000    each    1.000     CT   \n",
       "4    I-17203               BALSAMIC GLAZE    2.000  bottle    2.000      L   \n",
       "..       ...                          ...      ...     ...      ...    ...   \n",
       "593  I-18915              SPRING ROLL VEG   48.000      ea    1.000     ea   \n",
       "594   I-4903   SQUASH SPAGHETTI 36 LBS US   35.000      lb    1.000     lb   \n",
       "595  I-28907         STEAMED BUN BBQ PORK   60.000      ea    1.000   each   \n",
       "596  I-28920             STICKY RICE WRAP   16.000     bag    3.000   each   \n",
       "597  I-61420             TOFU FIRM MEDIUM   12.000     pak  454.000      g   \n",
       "\n",
       "     InventoryGroup  \n",
       "0           PRODUCE  \n",
       "1           PRODUCE  \n",
       "2              MEAT  \n",
       "3             BREAD  \n",
       "4    FOOD - GROCERY  \n",
       "..              ...  \n",
       "593  FOOD - GROCERY  \n",
       "594         PRODUCE  \n",
       "595  FOOD - GROCERY  \n",
       "596  FOOD - GROCERY  \n",
       "597  FOOD - GROCERY  \n",
       "\n",
       "[598 rows x 7 columns]"
      ]
     },
     "execution_count": 7,
     "metadata": {},
     "output_type": "execute_result"
    }
   ],
   "source": [
    "Items"
   ]
  },
  {
   "cell_type": "code",
   "execution_count": 8,
   "metadata": {},
   "outputs": [
    {
     "data": {
      "text/plain": [
       "(598, 7)"
      ]
     },
     "execution_count": 8,
     "metadata": {},
     "output_type": "execute_result"
    }
   ],
   "source": [
    "Items.shape"
   ]
  },
  {
   "cell_type": "code",
   "execution_count": 9,
   "metadata": {},
   "outputs": [
    {
     "data": {
      "text/plain": [
       "ItemId            object\n",
       "Description       object\n",
       "CaseQty           object\n",
       "CaseUOM           object\n",
       "PakQty            object\n",
       "PakUOM            object\n",
       "InventoryGroup    object\n",
       "dtype: object"
      ]
     },
     "execution_count": 9,
     "metadata": {},
     "output_type": "execute_result"
    }
   ],
   "source": [
    "Items.dtypes"
   ]
  },
  {
   "cell_type": "code",
   "execution_count": 10,
   "metadata": {},
   "outputs": [],
   "source": [
    "# Save the dataframe to csv\n",
    "path = os.path.join(os.getcwd(), \"data\", \"preprocessed\", \"Items_List.csv\")\n",
    "Items.to_csv(path, index = False, header = True)"
   ]
  },
  {
   "cell_type": "markdown",
   "metadata": {},
   "source": [
    "### Import Ingredients List"
   ]
  },
  {
   "cell_type": "code",
   "execution_count": 11,
   "metadata": {},
   "outputs": [],
   "source": [
    "# Read ingredients.xml files in the filepath_list and construct a dataframe\n",
    "IngredientId = []\n",
    "Conversion = []\n",
    "InvFactor = []\n",
    "Qty = []\n",
    "Recipe = []\n",
    "Uom = []\n",
    "\n",
    "for filepath in filepath_list:\n",
    "    path = filepath + '/Ingredients.xml'\n",
    "    if os.path.isfile(path):\n",
    "        xtree = et.parse(path)\n",
    "        xroot = xtree.getroot()\n",
    "        for x in xtree.iterfind('Ingredient'):\n",
    "            IngredientId.append(x.attrib['ingredient'])\n",
    "            Conversion.append(x.attrib['conversion'])\n",
    "            InvFactor.append(x.attrib['invFactor'])\n",
    "            Qty.append(x.attrib['qty'])\n",
    "            Recipe.append(x.attrib['recipe'])\n",
    "            Uom.append(x.attrib['uom'])\n",
    "    \n",
    "Ingredients = pd.DataFrame({'IngredientId': IngredientId, 'Qty': Qty,'Uom': Uom, 'Conversion': Conversion, \n",
    "                      'InvFactor': InvFactor,'Recipe': Recipe}).drop_duplicates()\n",
    "\n",
    "Ingredients.reset_index(drop=True, inplace=True)"
   ]
  },
  {
   "cell_type": "code",
   "execution_count": 12,
   "metadata": {},
   "outputs": [
    {
     "data": {
      "text/html": [
       "<div>\n",
       "<style scoped>\n",
       "    .dataframe tbody tr th:only-of-type {\n",
       "        vertical-align: middle;\n",
       "    }\n",
       "\n",
       "    .dataframe tbody tr th {\n",
       "        vertical-align: top;\n",
       "    }\n",
       "\n",
       "    .dataframe thead th {\n",
       "        text-align: right;\n",
       "    }\n",
       "</style>\n",
       "<table border=\"1\" class=\"dataframe\">\n",
       "  <thead>\n",
       "    <tr style=\"text-align: right;\">\n",
       "      <th></th>\n",
       "      <th>IngredientId</th>\n",
       "      <th>Qty</th>\n",
       "      <th>Uom</th>\n",
       "      <th>Conversion</th>\n",
       "      <th>InvFactor</th>\n",
       "      <th>Recipe</th>\n",
       "    </tr>\n",
       "  </thead>\n",
       "  <tbody>\n",
       "    <tr>\n",
       "      <th>0</th>\n",
       "      <td>P-18746</td>\n",
       "      <td>1.000</td>\n",
       "      <td>Kg</td>\n",
       "      <td>1.00000000</td>\n",
       "      <td>1.0000</td>\n",
       "      <td>P-10241</td>\n",
       "    </tr>\n",
       "    <tr>\n",
       "      <th>1</th>\n",
       "      <td>I-3388</td>\n",
       "      <td>1.000</td>\n",
       "      <td>L</td>\n",
       "      <td>1.00000000</td>\n",
       "      <td>0.3058</td>\n",
       "      <td>P-10496</td>\n",
       "    </tr>\n",
       "    <tr>\n",
       "      <th>2</th>\n",
       "      <td>I-4660</td>\n",
       "      <td>2.270</td>\n",
       "      <td>Kg</td>\n",
       "      <td>2.20462000</td>\n",
       "      <td>0.6942</td>\n",
       "      <td>P-10496</td>\n",
       "    </tr>\n",
       "    <tr>\n",
       "      <th>3</th>\n",
       "      <td>I-3451</td>\n",
       "      <td>2.560</td>\n",
       "      <td>L</td>\n",
       "      <td>1.00000000</td>\n",
       "      <td>1.2800</td>\n",
       "      <td>P-13933</td>\n",
       "    </tr>\n",
       "    <tr>\n",
       "      <th>4</th>\n",
       "      <td>I-4679</td>\n",
       "      <td>1.000</td>\n",
       "      <td>BUNCH</td>\n",
       "      <td>1.00000000</td>\n",
       "      <td>0.0063</td>\n",
       "      <td>P-18318</td>\n",
       "    </tr>\n",
       "    <tr>\n",
       "      <th>...</th>\n",
       "      <td>...</td>\n",
       "      <td>...</td>\n",
       "      <td>...</td>\n",
       "      <td>...</td>\n",
       "      <td>...</td>\n",
       "      <td>...</td>\n",
       "    </tr>\n",
       "    <tr>\n",
       "      <th>5377</th>\n",
       "      <td>P-26143</td>\n",
       "      <td>170.000</td>\n",
       "      <td>g</td>\n",
       "      <td>0.00100000</td>\n",
       "      <td>1.0000</td>\n",
       "      <td>R-62022</td>\n",
       "    </tr>\n",
       "    <tr>\n",
       "      <th>5378</th>\n",
       "      <td>P-26225</td>\n",
       "      <td>140.000</td>\n",
       "      <td>g</td>\n",
       "      <td>0.00220462</td>\n",
       "      <td>1.0000</td>\n",
       "      <td>R-62022</td>\n",
       "    </tr>\n",
       "    <tr>\n",
       "      <th>5379</th>\n",
       "      <td>P-50428</td>\n",
       "      <td>3.000</td>\n",
       "      <td>g</td>\n",
       "      <td>1.00000000</td>\n",
       "      <td>1.0000</td>\n",
       "      <td>R-62022</td>\n",
       "    </tr>\n",
       "    <tr>\n",
       "      <th>5380</th>\n",
       "      <td>P-56712</td>\n",
       "      <td>180.000</td>\n",
       "      <td>g</td>\n",
       "      <td>0.00100000</td>\n",
       "      <td>1.0000</td>\n",
       "      <td>R-62022</td>\n",
       "    </tr>\n",
       "    <tr>\n",
       "      <th>5381</th>\n",
       "      <td>P-56927</td>\n",
       "      <td>90.000</td>\n",
       "      <td>g</td>\n",
       "      <td>0.00100000</td>\n",
       "      <td>1.0000</td>\n",
       "      <td>R-62022</td>\n",
       "    </tr>\n",
       "  </tbody>\n",
       "</table>\n",
       "<p>5382 rows × 6 columns</p>\n",
       "</div>"
      ],
      "text/plain": [
       "     IngredientId      Qty    Uom  Conversion InvFactor   Recipe\n",
       "0         P-18746    1.000     Kg  1.00000000    1.0000  P-10241\n",
       "1          I-3388    1.000      L  1.00000000    0.3058  P-10496\n",
       "2          I-4660    2.270     Kg  2.20462000    0.6942  P-10496\n",
       "3          I-3451    2.560      L  1.00000000    1.2800  P-13933\n",
       "4          I-4679    1.000  BUNCH  1.00000000    0.0063  P-18318\n",
       "...           ...      ...    ...         ...       ...      ...\n",
       "5377      P-26143  170.000      g  0.00100000    1.0000  R-62022\n",
       "5378      P-26225  140.000      g  0.00220462    1.0000  R-62022\n",
       "5379      P-50428    3.000      g  1.00000000    1.0000  R-62022\n",
       "5380      P-56712  180.000      g  0.00100000    1.0000  R-62022\n",
       "5381      P-56927   90.000      g  0.00100000    1.0000  R-62022\n",
       "\n",
       "[5382 rows x 6 columns]"
      ]
     },
     "execution_count": 12,
     "metadata": {},
     "output_type": "execute_result"
    }
   ],
   "source": [
    "Ingredients"
   ]
  },
  {
   "cell_type": "code",
   "execution_count": 13,
   "metadata": {},
   "outputs": [
    {
     "data": {
      "text/plain": [
       "(5382, 6)"
      ]
     },
     "execution_count": 13,
     "metadata": {},
     "output_type": "execute_result"
    }
   ],
   "source": [
    "Ingredients.shape"
   ]
  },
  {
   "cell_type": "code",
   "execution_count": 14,
   "metadata": {},
   "outputs": [
    {
     "data": {
      "text/plain": [
       "IngredientId    object\n",
       "Qty             object\n",
       "Uom             object\n",
       "Conversion      object\n",
       "InvFactor       object\n",
       "Recipe          object\n",
       "dtype: object"
      ]
     },
     "execution_count": 14,
     "metadata": {},
     "output_type": "execute_result"
    }
   ],
   "source": [
    "Ingredients.dtypes"
   ]
  },
  {
   "cell_type": "code",
   "execution_count": 15,
   "metadata": {},
   "outputs": [],
   "source": [
    "# Save the dataframe to csv\n",
    "path = os.path.join(os.getcwd(), \"data\", \"preprocessed\", \"Ingredients_List.csv\")\n",
    "Ingredients.to_csv(path, index = False, header = True)"
   ]
  },
  {
   "cell_type": "markdown",
   "metadata": {},
   "source": [
    "### Import Preps List"
   ]
  },
  {
   "cell_type": "code",
   "execution_count": 16,
   "metadata": {},
   "outputs": [],
   "source": [
    "# Read preps.xml files in the filepath_list and construct a dataframe\n",
    "PrepId = []\n",
    "Description = []\n",
    "PakQty = []\n",
    "PakUOM = []\n",
    "InventoryGroup = []\n",
    "\n",
    "for filepath in filepath_list:\n",
    "    path = filepath + '/Preps.xml'\n",
    "    if os.path.isfile(path):\n",
    "        xtree = et.parse(path)\n",
    "        xroot = xtree.getroot()\n",
    "        for x in xtree.iterfind('Prep'):\n",
    "            PrepId.append(x.attrib['id'])\n",
    "            Description.append(x.findtext('Description'))\n",
    "            PakQty.append(x.findtext('PakQty'))\n",
    "            PakUOM.append(x.findtext('PakUOM'))\n",
    "            InventoryGroup.append(x.findtext('InventoryGroup'))\n",
    "    \n",
    "Preps = pd.DataFrame({'PrepId': PrepId, 'Description': Description,\n",
    "                  'PakQty': PakQty, 'PakUOM':PakUOM, 'InventoryGroup': InventoryGroup}).drop_duplicates()\n",
    "\n",
    "Preps.reset_index(drop=True, inplace=True)"
   ]
  },
  {
   "cell_type": "code",
   "execution_count": 17,
   "metadata": {},
   "outputs": [
    {
     "data": {
      "text/html": [
       "<div>\n",
       "<style scoped>\n",
       "    .dataframe tbody tr th:only-of-type {\n",
       "        vertical-align: middle;\n",
       "    }\n",
       "\n",
       "    .dataframe tbody tr th {\n",
       "        vertical-align: top;\n",
       "    }\n",
       "\n",
       "    .dataframe thead th {\n",
       "        text-align: right;\n",
       "    }\n",
       "</style>\n",
       "<table border=\"1\" class=\"dataframe\">\n",
       "  <thead>\n",
       "    <tr style=\"text-align: right;\">\n",
       "      <th></th>\n",
       "      <th>PrepId</th>\n",
       "      <th>Description</th>\n",
       "      <th>PakQty</th>\n",
       "      <th>PakUOM</th>\n",
       "      <th>InventoryGroup</th>\n",
       "    </tr>\n",
       "  </thead>\n",
       "  <tbody>\n",
       "    <tr>\n",
       "      <th>0</th>\n",
       "      <td>P-55516</td>\n",
       "      <td>BAKED|Lasagna|Spin Mushroom</td>\n",
       "      <td>5.550</td>\n",
       "      <td>Kg</td>\n",
       "      <td></td>\n",
       "    </tr>\n",
       "    <tr>\n",
       "      <th>1</th>\n",
       "      <td>P-54666</td>\n",
       "      <td>BAKED|Pasta|Chicken Alfredo</td>\n",
       "      <td>6.176</td>\n",
       "      <td>Kg</td>\n",
       "      <td></td>\n",
       "    </tr>\n",
       "    <tr>\n",
       "      <th>2</th>\n",
       "      <td>P-54664</td>\n",
       "      <td>BAKED|Pasta|Chorizo Penne</td>\n",
       "      <td>7.360</td>\n",
       "      <td>Kg</td>\n",
       "      <td></td>\n",
       "    </tr>\n",
       "    <tr>\n",
       "      <th>3</th>\n",
       "      <td>P-56502</td>\n",
       "      <td>BAKED|Pasta|Shrimp Pesto</td>\n",
       "      <td>5.760</td>\n",
       "      <td>Kg</td>\n",
       "      <td></td>\n",
       "    </tr>\n",
       "    <tr>\n",
       "      <th>4</th>\n",
       "      <td>P-56433</td>\n",
       "      <td>BATCH|Shrimp Remoulade</td>\n",
       "      <td>1.600</td>\n",
       "      <td>Kg</td>\n",
       "      <td></td>\n",
       "    </tr>\n",
       "    <tr>\n",
       "      <th>...</th>\n",
       "      <td>...</td>\n",
       "      <td>...</td>\n",
       "      <td>...</td>\n",
       "      <td>...</td>\n",
       "      <td>...</td>\n",
       "    </tr>\n",
       "    <tr>\n",
       "      <th>748</th>\n",
       "      <td>P-47418</td>\n",
       "      <td>MIX|Cheese</td>\n",
       "      <td>2.000</td>\n",
       "      <td>Kg</td>\n",
       "      <td>PREP</td>\n",
       "    </tr>\n",
       "    <tr>\n",
       "      <th>749</th>\n",
       "      <td>P-42317</td>\n",
       "      <td>ROASTED|Spaghetti Squash</td>\n",
       "      <td>1.400</td>\n",
       "      <td>Kg</td>\n",
       "      <td></td>\n",
       "    </tr>\n",
       "    <tr>\n",
       "      <th>750</th>\n",
       "      <td>P-56927</td>\n",
       "      <td>SAUTE|Cauliflower Rice</td>\n",
       "      <td>1.000</td>\n",
       "      <td>Kg</td>\n",
       "      <td></td>\n",
       "    </tr>\n",
       "    <tr>\n",
       "      <th>751</th>\n",
       "      <td>P-56887</td>\n",
       "      <td>YIELD|Grated Pear</td>\n",
       "      <td>800.000</td>\n",
       "      <td>g</td>\n",
       "      <td></td>\n",
       "    </tr>\n",
       "    <tr>\n",
       "      <th>752</th>\n",
       "      <td>P-46509</td>\n",
       "      <td>YIELD|Lettuce bun</td>\n",
       "      <td>3.000</td>\n",
       "      <td>PTN</td>\n",
       "      <td></td>\n",
       "    </tr>\n",
       "  </tbody>\n",
       "</table>\n",
       "<p>753 rows × 5 columns</p>\n",
       "</div>"
      ],
      "text/plain": [
       "      PrepId                  Description   PakQty PakUOM InventoryGroup\n",
       "0    P-55516  BAKED|Lasagna|Spin Mushroom    5.550     Kg               \n",
       "1    P-54666  BAKED|Pasta|Chicken Alfredo    6.176     Kg               \n",
       "2    P-54664    BAKED|Pasta|Chorizo Penne    7.360     Kg               \n",
       "3    P-56502     BAKED|Pasta|Shrimp Pesto    5.760     Kg               \n",
       "4    P-56433       BATCH|Shrimp Remoulade    1.600     Kg               \n",
       "..       ...                          ...      ...    ...            ...\n",
       "748  P-47418                   MIX|Cheese    2.000     Kg           PREP\n",
       "749  P-42317     ROASTED|Spaghetti Squash    1.400     Kg               \n",
       "750  P-56927       SAUTE|Cauliflower Rice    1.000     Kg               \n",
       "751  P-56887            YIELD|Grated Pear  800.000      g               \n",
       "752  P-46509            YIELD|Lettuce bun    3.000    PTN               \n",
       "\n",
       "[753 rows x 5 columns]"
      ]
     },
     "execution_count": 17,
     "metadata": {},
     "output_type": "execute_result"
    }
   ],
   "source": [
    "Preps"
   ]
  },
  {
   "cell_type": "code",
   "execution_count": 18,
   "metadata": {},
   "outputs": [
    {
     "data": {
      "text/plain": [
       "(753, 5)"
      ]
     },
     "execution_count": 18,
     "metadata": {},
     "output_type": "execute_result"
    }
   ],
   "source": [
    "Preps.shape"
   ]
  },
  {
   "cell_type": "code",
   "execution_count": 19,
   "metadata": {},
   "outputs": [
    {
     "data": {
      "text/plain": [
       "PrepId            object\n",
       "Description       object\n",
       "PakQty            object\n",
       "PakUOM            object\n",
       "InventoryGroup    object\n",
       "dtype: object"
      ]
     },
     "execution_count": 19,
     "metadata": {},
     "output_type": "execute_result"
    }
   ],
   "source": [
    "Preps.dtypes"
   ]
  },
  {
   "cell_type": "code",
   "execution_count": 20,
   "metadata": {},
   "outputs": [],
   "source": [
    "# Save the dataframe to csv\n",
    "path = os.path.join(os.getcwd(), \"data\", \"preprocessed\", \"Preps_List.csv\")\n",
    "Preps.to_csv(path, index = False, header = True)"
   ]
  },
  {
   "cell_type": "markdown",
   "metadata": {},
   "source": [
    "### Import Products List"
   ]
  },
  {
   "cell_type": "code",
   "execution_count": 21,
   "metadata": {},
   "outputs": [],
   "source": [
    "# Read products.xml files in the filepath_list and construct a dataframe\n",
    "ProdId = []\n",
    "Description = []\n",
    "SalesGroup = []\n",
    "\n",
    "for filepath in filepath_list:\n",
    "    path = filepath + '/Products.xml'\n",
    "    if os.path.isfile(path):\n",
    "        xtree = et.parse(path)\n",
    "        xroot = xtree.getroot()\n",
    "        for x in xtree.iterfind('Prod'):\n",
    "            ProdId.append(x.attrib['id'])\n",
    "            Description.append(x.findtext('Description'))\n",
    "            SalesGroup.append(x.findtext('SalesGroup'))\n",
    "        \n",
    "Products = pd.DataFrame({'ProdId': ProdId, 'Description': Description, 'SalesGroup': SalesGroup}).drop_duplicates()\n",
    "\n",
    "Products.reset_index(drop=True, inplace=True)"
   ]
  },
  {
   "cell_type": "code",
   "execution_count": 22,
   "metadata": {},
   "outputs": [
    {
     "data": {
      "text/html": [
       "<div>\n",
       "<style scoped>\n",
       "    .dataframe tbody tr th:only-of-type {\n",
       "        vertical-align: middle;\n",
       "    }\n",
       "\n",
       "    .dataframe tbody tr th {\n",
       "        vertical-align: top;\n",
       "    }\n",
       "\n",
       "    .dataframe thead th {\n",
       "        text-align: right;\n",
       "    }\n",
       "</style>\n",
       "<table border=\"1\" class=\"dataframe\">\n",
       "  <thead>\n",
       "    <tr style=\"text-align: right;\">\n",
       "      <th></th>\n",
       "      <th>ProdId</th>\n",
       "      <th>Description</th>\n",
       "      <th>SalesGroup</th>\n",
       "    </tr>\n",
       "  </thead>\n",
       "  <tbody>\n",
       "    <tr>\n",
       "      <th>0</th>\n",
       "      <td>R-61778</td>\n",
       "      <td>ALF|Flatbread|4 Cheese</td>\n",
       "      <td>OK - AL FORNO</td>\n",
       "    </tr>\n",
       "    <tr>\n",
       "      <th>1</th>\n",
       "      <td>R-61780</td>\n",
       "      <td>ALF|Flatbread|Apple &amp; Pancetta</td>\n",
       "      <td>OK - AL FORNO</td>\n",
       "    </tr>\n",
       "    <tr>\n",
       "      <th>2</th>\n",
       "      <td>R-61749</td>\n",
       "      <td>ALF|Flatbread|BBQ Chicken</td>\n",
       "      <td>OK - AL FORNO</td>\n",
       "    </tr>\n",
       "    <tr>\n",
       "      <th>3</th>\n",
       "      <td>R-50859</td>\n",
       "      <td>ALF|Flatbread|Bruschetta</td>\n",
       "      <td>OK - AL FORNO</td>\n",
       "    </tr>\n",
       "    <tr>\n",
       "      <th>4</th>\n",
       "      <td>R-50788</td>\n",
       "      <td>ALF|Flatbread|Caprese</td>\n",
       "      <td>OK - AL FORNO</td>\n",
       "    </tr>\n",
       "    <tr>\n",
       "      <th>...</th>\n",
       "      <td>...</td>\n",
       "      <td>...</td>\n",
       "      <td>...</td>\n",
       "    </tr>\n",
       "    <tr>\n",
       "      <th>453</th>\n",
       "      <td>R-57815</td>\n",
       "      <td>SQR|Tofu Sofrito Quesadilla +1</td>\n",
       "      <td>OK - SQUARE MEAL</td>\n",
       "    </tr>\n",
       "    <tr>\n",
       "      <th>454</th>\n",
       "      <td>R-61679</td>\n",
       "      <td>SQR|Tofu Sofrito Quesadilla +2</td>\n",
       "      <td>OK - SQUARE MEAL</td>\n",
       "    </tr>\n",
       "    <tr>\n",
       "      <th>455</th>\n",
       "      <td>R-56902</td>\n",
       "      <td>SQR|Vegan Lettuce Wrap</td>\n",
       "      <td>OK - SQUARE MEAL</td>\n",
       "    </tr>\n",
       "    <tr>\n",
       "      <th>456</th>\n",
       "      <td>R-57810</td>\n",
       "      <td>SQR|Vegan Lettuce Wrap +1</td>\n",
       "      <td>OK - SQUARE MEAL</td>\n",
       "    </tr>\n",
       "    <tr>\n",
       "      <th>457</th>\n",
       "      <td>R-57811</td>\n",
       "      <td>SQR|Vegan Lettuce Wrap +2</td>\n",
       "      <td>OK - SQUARE MEAL</td>\n",
       "    </tr>\n",
       "  </tbody>\n",
       "</table>\n",
       "<p>458 rows × 3 columns</p>\n",
       "</div>"
      ],
      "text/plain": [
       "      ProdId                     Description        SalesGroup\n",
       "0    R-61778          ALF|Flatbread|4 Cheese     OK - AL FORNO\n",
       "1    R-61780  ALF|Flatbread|Apple & Pancetta     OK - AL FORNO\n",
       "2    R-61749       ALF|Flatbread|BBQ Chicken     OK - AL FORNO\n",
       "3    R-50859        ALF|Flatbread|Bruschetta     OK - AL FORNO\n",
       "4    R-50788           ALF|Flatbread|Caprese     OK - AL FORNO\n",
       "..       ...                             ...               ...\n",
       "453  R-57815  SQR|Tofu Sofrito Quesadilla +1  OK - SQUARE MEAL\n",
       "454  R-61679  SQR|Tofu Sofrito Quesadilla +2  OK - SQUARE MEAL\n",
       "455  R-56902          SQR|Vegan Lettuce Wrap  OK - SQUARE MEAL\n",
       "456  R-57810       SQR|Vegan Lettuce Wrap +1  OK - SQUARE MEAL\n",
       "457  R-57811       SQR|Vegan Lettuce Wrap +2  OK - SQUARE MEAL\n",
       "\n",
       "[458 rows x 3 columns]"
      ]
     },
     "execution_count": 22,
     "metadata": {},
     "output_type": "execute_result"
    }
   ],
   "source": [
    "Products"
   ]
  },
  {
   "cell_type": "code",
   "execution_count": 23,
   "metadata": {},
   "outputs": [
    {
     "data": {
      "text/plain": [
       "(458, 3)"
      ]
     },
     "execution_count": 23,
     "metadata": {},
     "output_type": "execute_result"
    }
   ],
   "source": [
    "Products.shape"
   ]
  },
  {
   "cell_type": "code",
   "execution_count": 24,
   "metadata": {},
   "outputs": [
    {
     "data": {
      "text/plain": [
       "ProdId         object\n",
       "Description    object\n",
       "SalesGroup     object\n",
       "dtype: object"
      ]
     },
     "execution_count": 24,
     "metadata": {},
     "output_type": "execute_result"
    }
   ],
   "source": [
    "Products.dtypes"
   ]
  },
  {
   "cell_type": "code",
   "execution_count": 25,
   "metadata": {},
   "outputs": [],
   "source": [
    "# Save the dataframe to csv\n",
    "path = os.path.join(os.getcwd(), \"data\", \"preprocessed\", \"Products_List.csv\")\n",
    "Products.to_csv(path, index = False, header = True)"
   ]
  },
  {
   "cell_type": "markdown",
   "metadata": {},
   "source": [
    "### Import Conversions List"
   ]
  },
  {
   "cell_type": "code",
   "execution_count": 26,
   "metadata": {
    "scrolled": true
   },
   "outputs": [],
   "source": [
    "# Read conventions.xml files in the filepath_list and construct a dataframe\n",
    "ConversionId = []\n",
    "Multiplier = []\n",
    "ConvertFromQty = []\n",
    "ConvertFromUom = []\n",
    "ConvertToQty = []\n",
    "ConvertToUom = []\n",
    "\n",
    "for filepath in filepath_list:\n",
    "    path = filepath + '/Conversions.xml'\n",
    "    if os.path.isfile(path):\n",
    "        xtree = et.parse(path)\n",
    "        xroot = xtree.getroot()\n",
    "        for x in xtree.iterfind('Conversion'):\n",
    "            ConversionId.append(x.attrib['id'])\n",
    "            Multiplier.append(x.attrib['multiplier'])\n",
    "            ConvertFromQty.append(x.find('ConvertFrom').attrib['qty'])\n",
    "            ConvertFromUom.append(x.find('ConvertFrom').attrib['uom'])\n",
    "            ConvertToQty.append(x.find('ConvertTo').attrib['qty'])\n",
    "            ConvertToUom.append(x.find('ConvertTo').attrib['uom'])\n",
    "    \n",
    "    \n",
    "Conversions = pd.DataFrame({'ConversionId': ConversionId, 'Multiplier': Multiplier, 'ConvertFromQty': ConvertFromQty,\n",
    "                           'ConvertFromUom': ConvertFromUom, 'ConvertToQty': ConvertToQty, 'ConvertToUom': ConvertToUom}\n",
    "                          ).drop_duplicates()\n",
    "\n",
    "Conversions.reset_index(drop=True, inplace=True)"
   ]
  },
  {
   "cell_type": "code",
   "execution_count": 27,
   "metadata": {},
   "outputs": [
    {
     "data": {
      "text/html": [
       "<div>\n",
       "<style scoped>\n",
       "    .dataframe tbody tr th:only-of-type {\n",
       "        vertical-align: middle;\n",
       "    }\n",
       "\n",
       "    .dataframe tbody tr th {\n",
       "        vertical-align: top;\n",
       "    }\n",
       "\n",
       "    .dataframe thead th {\n",
       "        text-align: right;\n",
       "    }\n",
       "</style>\n",
       "<table border=\"1\" class=\"dataframe\">\n",
       "  <thead>\n",
       "    <tr style=\"text-align: right;\">\n",
       "      <th></th>\n",
       "      <th>ConversionId</th>\n",
       "      <th>Multiplier</th>\n",
       "      <th>ConvertFromQty</th>\n",
       "      <th>ConvertFromUom</th>\n",
       "      <th>ConvertToQty</th>\n",
       "      <th>ConvertToUom</th>\n",
       "    </tr>\n",
       "  </thead>\n",
       "  <tbody>\n",
       "    <tr>\n",
       "      <th>0</th>\n",
       "      <td></td>\n",
       "      <td>1.00000000</td>\n",
       "      <td>1.0000</td>\n",
       "      <td>XXX</td>\n",
       "      <td>1.0000</td>\n",
       "      <td>L</td>\n",
       "    </tr>\n",
       "    <tr>\n",
       "      <th>1</th>\n",
       "      <td></td>\n",
       "      <td>0.87719298</td>\n",
       "      <td>1.0000</td>\n",
       "      <td>1.14L</td>\n",
       "      <td>1.1400</td>\n",
       "      <td>L</td>\n",
       "    </tr>\n",
       "    <tr>\n",
       "      <th>2</th>\n",
       "      <td></td>\n",
       "      <td>0.66666667</td>\n",
       "      <td>1.0000</td>\n",
       "      <td>1.5L</td>\n",
       "      <td>1.5000</td>\n",
       "      <td>L</td>\n",
       "    </tr>\n",
       "    <tr>\n",
       "      <th>3</th>\n",
       "      <td></td>\n",
       "      <td>0.57142857</td>\n",
       "      <td>1.0000</td>\n",
       "      <td>1.75 L</td>\n",
       "      <td>1.7500</td>\n",
       "      <td>L</td>\n",
       "    </tr>\n",
       "    <tr>\n",
       "      <th>4</th>\n",
       "      <td></td>\n",
       "      <td>0.50000000</td>\n",
       "      <td>1.0000</td>\n",
       "      <td>2L</td>\n",
       "      <td>2.0000</td>\n",
       "      <td>L</td>\n",
       "    </tr>\n",
       "    <tr>\n",
       "      <th>...</th>\n",
       "      <td>...</td>\n",
       "      <td>...</td>\n",
       "      <td>...</td>\n",
       "      <td>...</td>\n",
       "      <td>...</td>\n",
       "      <td>...</td>\n",
       "    </tr>\n",
       "    <tr>\n",
       "      <th>291</th>\n",
       "      <td>I-3634</td>\n",
       "      <td>0.32258065</td>\n",
       "      <td>1.0000</td>\n",
       "      <td>Tbsp</td>\n",
       "      <td>3.1000</td>\n",
       "      <td>g</td>\n",
       "    </tr>\n",
       "    <tr>\n",
       "      <th>292</th>\n",
       "      <td>I-3390</td>\n",
       "      <td>0.22222222</td>\n",
       "      <td>1.0000</td>\n",
       "      <td>tsp</td>\n",
       "      <td>4.5000</td>\n",
       "      <td>g</td>\n",
       "    </tr>\n",
       "    <tr>\n",
       "      <th>293</th>\n",
       "      <td>I-3390</td>\n",
       "      <td>0.07407407</td>\n",
       "      <td>1.0000</td>\n",
       "      <td>Tbsp</td>\n",
       "      <td>13.5000</td>\n",
       "      <td>g</td>\n",
       "    </tr>\n",
       "    <tr>\n",
       "      <th>294</th>\n",
       "      <td>I-3390</td>\n",
       "      <td>0.00462963</td>\n",
       "      <td>1.0000</td>\n",
       "      <td>cup</td>\n",
       "      <td>216.0000</td>\n",
       "      <td>g</td>\n",
       "    </tr>\n",
       "    <tr>\n",
       "      <th>295</th>\n",
       "      <td>I-25492</td>\n",
       "      <td>0.00495050</td>\n",
       "      <td>1.0000</td>\n",
       "      <td>ea</td>\n",
       "      <td>202.0000</td>\n",
       "      <td>g</td>\n",
       "    </tr>\n",
       "  </tbody>\n",
       "</table>\n",
       "<p>296 rows × 6 columns</p>\n",
       "</div>"
      ],
      "text/plain": [
       "    ConversionId  Multiplier ConvertFromQty ConvertFromUom ConvertToQty  \\\n",
       "0                 1.00000000         1.0000            XXX       1.0000   \n",
       "1                 0.87719298         1.0000          1.14L       1.1400   \n",
       "2                 0.66666667         1.0000           1.5L       1.5000   \n",
       "3                 0.57142857         1.0000         1.75 L       1.7500   \n",
       "4                 0.50000000         1.0000             2L       2.0000   \n",
       "..           ...         ...            ...            ...          ...   \n",
       "291       I-3634  0.32258065         1.0000           Tbsp       3.1000   \n",
       "292       I-3390  0.22222222         1.0000            tsp       4.5000   \n",
       "293       I-3390  0.07407407         1.0000           Tbsp      13.5000   \n",
       "294       I-3390  0.00462963         1.0000            cup     216.0000   \n",
       "295      I-25492  0.00495050         1.0000             ea     202.0000   \n",
       "\n",
       "    ConvertToUom  \n",
       "0              L  \n",
       "1              L  \n",
       "2              L  \n",
       "3              L  \n",
       "4              L  \n",
       "..           ...  \n",
       "291            g  \n",
       "292            g  \n",
       "293            g  \n",
       "294            g  \n",
       "295            g  \n",
       "\n",
       "[296 rows x 6 columns]"
      ]
     },
     "execution_count": 27,
     "metadata": {},
     "output_type": "execute_result"
    }
   ],
   "source": [
    "Conversions"
   ]
  },
  {
   "cell_type": "code",
   "execution_count": 28,
   "metadata": {},
   "outputs": [
    {
     "data": {
      "text/plain": [
       "(296, 6)"
      ]
     },
     "execution_count": 28,
     "metadata": {},
     "output_type": "execute_result"
    }
   ],
   "source": [
    "Conversions.shape"
   ]
  },
  {
   "cell_type": "code",
   "execution_count": 29,
   "metadata": {
    "scrolled": false
   },
   "outputs": [
    {
     "data": {
      "text/plain": [
       "ConversionId      object\n",
       "Multiplier        object\n",
       "ConvertFromQty    object\n",
       "ConvertFromUom    object\n",
       "ConvertToQty      object\n",
       "ConvertToUom      object\n",
       "dtype: object"
      ]
     },
     "execution_count": 29,
     "metadata": {},
     "output_type": "execute_result"
    }
   ],
   "source": [
    "Conversions.dtypes"
   ]
  },
  {
   "cell_type": "code",
   "execution_count": 30,
   "metadata": {},
   "outputs": [],
   "source": [
    "# Save the dataframe to csv\n",
    "path = os.path.join(os.getcwd(), \"data\", \"preprocessed\", \"Conversions_List.csv\")\n",
    "Conversions.to_csv(path, index = False, header = True)"
   ]
  },
  {
   "cell_type": "markdown",
   "metadata": {},
   "source": [
    "***\n",
    "## Data Summary"
   ]
  },
  {
   "cell_type": "code",
   "execution_count": 31,
   "metadata": {},
   "outputs": [
    {
     "data": {
      "text/html": [
       "<div>\n",
       "<style scoped>\n",
       "    .dataframe tbody tr th:only-of-type {\n",
       "        vertical-align: middle;\n",
       "    }\n",
       "\n",
       "    .dataframe tbody tr th {\n",
       "        vertical-align: top;\n",
       "    }\n",
       "\n",
       "    .dataframe thead th {\n",
       "        text-align: right;\n",
       "    }\n",
       "</style>\n",
       "<table border=\"1\" class=\"dataframe\">\n",
       "  <thead>\n",
       "    <tr style=\"text-align: right;\">\n",
       "      <th></th>\n",
       "      <th>count</th>\n",
       "      <th>columns</th>\n",
       "    </tr>\n",
       "  </thead>\n",
       "  <tbody>\n",
       "    <tr>\n",
       "      <th>Items</th>\n",
       "      <td>598</td>\n",
       "      <td>7</td>\n",
       "    </tr>\n",
       "    <tr>\n",
       "      <th>Preps</th>\n",
       "      <td>753</td>\n",
       "      <td>5</td>\n",
       "    </tr>\n",
       "    <tr>\n",
       "      <th>Ingredients</th>\n",
       "      <td>5382</td>\n",
       "      <td>6</td>\n",
       "    </tr>\n",
       "    <tr>\n",
       "      <th>Products</th>\n",
       "      <td>458</td>\n",
       "      <td>3</td>\n",
       "    </tr>\n",
       "    <tr>\n",
       "      <th>Conversions</th>\n",
       "      <td>296</td>\n",
       "      <td>6</td>\n",
       "    </tr>\n",
       "  </tbody>\n",
       "</table>\n",
       "</div>"
      ],
      "text/plain": [
       "             count  columns\n",
       "Items          598        7\n",
       "Preps          753        5\n",
       "Ingredients   5382        6\n",
       "Products       458        3\n",
       "Conversions    296        6"
      ]
     },
     "execution_count": 31,
     "metadata": {},
     "output_type": "execute_result"
    }
   ],
   "source": [
    "# Summary of raw data imported for evaluation\n",
    "datasum = pd.DataFrame([Items.shape, Preps.shape, Ingredients.shape, Products.shape, Conversions.shape],\n",
    "                       columns = ['count', 'columns'], \n",
    "                       index = ['Items', 'Preps', 'Ingredients', 'Products', 'Conversions'])\n",
    "datasum"
   ]
  }
 ],
 "metadata": {
  "kernelspec": {
   "display_name": "Python 3",
   "language": "python",
   "name": "python3"
  },
  "language_info": {
   "codemirror_mode": {
    "name": "ipython",
    "version": 3
   },
   "file_extension": ".py",
   "mimetype": "text/x-python",
   "name": "python",
   "nbconvert_exporter": "python",
   "pygments_lexer": "ipython3",
   "version": "3.8.5"
  }
 },
 "nbformat": 4,
 "nbformat_minor": 4
}
